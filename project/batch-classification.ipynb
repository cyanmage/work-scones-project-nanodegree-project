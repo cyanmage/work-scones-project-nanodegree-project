{
 "cells": [
  {
   "cell_type": "markdown",
   "id": "53bd8902",
   "metadata": {},
   "source": [
    "### Point 1 \n",
    "#### Extend your workflow to incorporate more classes: the CIFAR dataset includes other vehicles that Scones Unlimited can identify with this model.\n",
    "\n",
    "##### Response:\n",
    "- 5 types of images (all vehicles) have been used in the dataset : bicycle,  motorcycle,  streetcar,  rocket and  tractor. The validation accuracy is roughly 0.74.\n",
    "- If I use more, like 9 types of vehicles, I obtain very bad results (validation score of 0.47... the algorithm gives all wrong most of the time). The problem does not come from the algorithm, or from the hyperparameters (for example, learning rate of 0.001). It is just that images are very small (32*32 pixels), so global forms do not distinguish clearly. With more and more types of images, the algorithm gets more and more confused with such small images.\n"
   ]
  },
  {
   "cell_type": "markdown",
   "id": "94be8708",
   "metadata": {},
   "source": [
    "### Point 2   \n",
    "#### Modify your event driven workflow: can you rewrite your Lambda functions so that the workflow can process multiple image inputs in parallel? Can the Step Function \"fan out\" to accomodate this new workflow?\n",
    "\n",
    "##### Response\n",
    "- An id_image field has been added in the predictLabelImage lambda function. It is then used in the CustomAttributes of the client.invoke_endpoint method. The goal was to pass the real type of vehicle and to compare at a final step the inference and the real type. A matrix confusion was synthetized. It may help to detect drifting datas. May be compared with clarify to detect drifts.\n",
    "- The map feature of the step function service has been used to take batches."
   ]
  },
  {
   "cell_type": "markdown",
   "id": "3aa7a665",
   "metadata": {},
   "source": [
    "### Point 3 \n",
    "#### Consider the test data generator we provided for you. Can we use it to create a \"dummy data\" generator, to simulate a continuous stream of input data? Or a big paralell load of data?\n",
    "\n",
    "##### Response\n",
    "- I used the step function directly from this notebook instead of creating a web app and using api gateway\n",
    "- A generate_batch function, using the generate_test_case one, has been written.\n",
    "- The size of the batch varies randomly. \n",
    "- The use of the module \"schedule\" is very handy and it provides an awesome way to simulate a continuous flow of requests, of different sizes with the use of generate_batch function. Yet, We have to stop the kernel manually to interrupt the schedule job."
   ]
  },
  {
   "cell_type": "markdown",
   "id": "8bce569b",
   "metadata": {},
   "source": [
    "---\n",
    "### Imports and requirements"
   ]
  },
  {
   "cell_type": "code",
   "execution_count": 1,
   "id": "d6b732ac",
   "metadata": {},
   "outputs": [],
   "source": [
    "import numpy as np\n",
    "import pandas as pd\n",
    "import matplotlib.pyplot as plt"
   ]
  },
  {
   "cell_type": "code",
   "execution_count": 270,
   "id": "d719ad94",
   "metadata": {},
   "outputs": [
    {
     "name": "stdout",
     "output_type": "stream",
     "text": [
      "Requirement already satisfied: jsonlines in /home/ec2-user/anaconda3/envs/amazonei_tensorflow2_p36/lib/python3.6/site-packages (3.0.0)\n",
      "Requirement already satisfied: schedule in /home/ec2-user/anaconda3/envs/amazonei_tensorflow2_p36/lib/python3.6/site-packages (1.1.0)\n",
      "Requirement already satisfied: attrs>=19.2.0 in /home/ec2-user/anaconda3/envs/amazonei_tensorflow2_p36/lib/python3.6/site-packages (from jsonlines) (20.3.0)\n",
      "Requirement already satisfied: typing-extensions in /home/ec2-user/anaconda3/envs/amazonei_tensorflow2_p36/lib/python3.6/site-packages (from jsonlines) (4.0.1)\n"
     ]
    }
   ],
   "source": [
    "!pip install jsonlines schedule"
   ]
  },
  {
   "cell_type": "code",
   "execution_count": 289,
   "id": "de556875",
   "metadata": {},
   "outputs": [],
   "source": [
    "from uuid import uuid4\n",
    "import random, json, jsonlines\n",
    "from time import strftime, sleep\n",
    "from datetime import datetime as dt, timedelta\n",
    "import schedule"
   ]
  },
  {
   "cell_type": "code",
   "execution_count": 42,
   "id": "55f388cd",
   "metadata": {},
   "outputs": [],
   "source": [
    "import sagemaker\n",
    "from sagemaker import get_execution_role\n",
    "\n",
    "sess = sagemaker.Session()\n",
    "role = get_execution_role()\n",
    "region = sess.boto_region_name\n",
    "\n",
    "import boto3, os\n",
    "\n",
    "client_s3 = boto3.Session().resource('s3')\n",
    "client_sagemaker = boto3.client('sagemaker')\n",
    "\n"
   ]
  },
  {
   "cell_type": "code",
   "execution_count": 5,
   "id": "2650e519",
   "metadata": {},
   "outputs": [
    {
     "data": {
      "text/plain": [
       "('sagemaker-us-east-1-416312206633',\n",
       " 'us-east-1',\n",
       " 'arn:aws:iam::416312206633:role/service-role/AmazonSageMaker-ExecutionRole-20211216T204468')"
      ]
     },
     "execution_count": 5,
     "metadata": {},
     "output_type": "execute_result"
    }
   ],
   "source": [
    "sess.default_bucket(), region, role"
   ]
  },
  {
   "cell_type": "code",
   "execution_count": 6,
   "id": "67de0ef9",
   "metadata": {},
   "outputs": [],
   "source": [
    "working_bucket = 'batch-classification-scones-project'"
   ]
  },
  {
   "cell_type": "code",
   "execution_count": 7,
   "id": "cc2df13c",
   "metadata": {},
   "outputs": [],
   "source": [
    "#!aws s3 rm s3://batch-classification-scones-project --recursive"
   ]
  },
  {
   "cell_type": "code",
   "execution_count": null,
   "id": "8421f9ad",
   "metadata": {},
   "outputs": [],
   "source": [
    "#!aws s3 rm s3://batch-classification-scones-project/train_batch_classification --recursive\n",
    "#!aws s3 rm s3://batch-classification-scones-project/test_batch_classification --recursive\n",
    "    "
   ]
  },
  {
   "cell_type": "code",
   "execution_count": 8,
   "id": "59eea4e1",
   "metadata": {},
   "outputs": [],
   "source": [
    "#!rm -rf ./train_batch_classification\n",
    "#!rm -rf ./test_batch_classification"
   ]
  },
  {
   "cell_type": "code",
   "execution_count": 9,
   "id": "52f8e0ac",
   "metadata": {},
   "outputs": [],
   "source": [
    "import pickle\n",
    "\n",
    "with open(\"./cifar-100-python/meta\", \"rb\") as f:\n",
    "    dataset_meta = pickle.load(f, encoding='bytes')\n",
    "\n",
    "with open(\"./cifar-100-python/test\", \"rb\") as f:\n",
    "    dataset_test = pickle.load(f, encoding='bytes')\n",
    "\n",
    "with open(\"./cifar-100-python/train\", \"rb\") as f:\n",
    "    dataset_train = pickle.load(f, encoding='bytes')"
   ]
  },
  {
   "cell_type": "code",
   "execution_count": 12,
   "id": "70157c0d",
   "metadata": {},
   "outputs": [
    {
     "data": {
      "text/html": [
       "<div>\n",
       "<style scoped>\n",
       "    .dataframe tbody tr th:only-of-type {\n",
       "        vertical-align: middle;\n",
       "    }\n",
       "\n",
       "    .dataframe tbody tr th {\n",
       "        vertical-align: top;\n",
       "    }\n",
       "\n",
       "    .dataframe thead th {\n",
       "        text-align: right;\n",
       "    }\n",
       "</style>\n",
       "<table border=\"1\" class=\"dataframe\">\n",
       "  <thead>\n",
       "    <tr style=\"text-align: right;\">\n",
       "      <th></th>\n",
       "      <th>0</th>\n",
       "    </tr>\n",
       "  </thead>\n",
       "  <tbody>\n",
       "    <tr>\n",
       "      <th>0</th>\n",
       "      <td>19</td>\n",
       "    </tr>\n",
       "    <tr>\n",
       "      <th>1</th>\n",
       "      <td>29</td>\n",
       "    </tr>\n",
       "    <tr>\n",
       "      <th>2</th>\n",
       "      <td>0</td>\n",
       "    </tr>\n",
       "    <tr>\n",
       "      <th>3</th>\n",
       "      <td>11</td>\n",
       "    </tr>\n",
       "    <tr>\n",
       "      <th>4</th>\n",
       "      <td>1</td>\n",
       "    </tr>\n",
       "    <tr>\n",
       "      <th>...</th>\n",
       "      <td>...</td>\n",
       "    </tr>\n",
       "    <tr>\n",
       "      <th>49995</th>\n",
       "      <td>80</td>\n",
       "    </tr>\n",
       "    <tr>\n",
       "      <th>49996</th>\n",
       "      <td>7</td>\n",
       "    </tr>\n",
       "    <tr>\n",
       "      <th>49997</th>\n",
       "      <td>3</td>\n",
       "    </tr>\n",
       "    <tr>\n",
       "      <th>49998</th>\n",
       "      <td>7</td>\n",
       "    </tr>\n",
       "    <tr>\n",
       "      <th>49999</th>\n",
       "      <td>73</td>\n",
       "    </tr>\n",
       "  </tbody>\n",
       "</table>\n",
       "<p>50000 rows × 1 columns</p>\n",
       "</div>"
      ],
      "text/plain": [
       "        0\n",
       "0      19\n",
       "1      29\n",
       "2       0\n",
       "3      11\n",
       "4       1\n",
       "...    ..\n",
       "49995  80\n",
       "49996   7\n",
       "49997   3\n",
       "49998   7\n",
       "49999  73\n",
       "\n",
       "[50000 rows x 1 columns]"
      ]
     },
     "execution_count": 12,
     "metadata": {},
     "output_type": "execute_result"
    }
   ],
   "source": [
    "pd.DataFrame(dataset_train[b'fine_labels'])"
   ]
  },
  {
   "cell_type": "code",
   "execution_count": 13,
   "id": "280722b0",
   "metadata": {},
   "outputs": [
    {
     "data": {
      "text/html": [
       "<div>\n",
       "<style scoped>\n",
       "    .dataframe tbody tr th:only-of-type {\n",
       "        vertical-align: middle;\n",
       "    }\n",
       "\n",
       "    .dataframe tbody tr th {\n",
       "        vertical-align: top;\n",
       "    }\n",
       "\n",
       "    .dataframe thead th {\n",
       "        text-align: right;\n",
       "    }\n",
       "</style>\n",
       "<table border=\"1\" class=\"dataframe\">\n",
       "  <thead>\n",
       "    <tr style=\"text-align: right;\">\n",
       "      <th>col_0</th>\n",
       "      <th>count</th>\n",
       "    </tr>\n",
       "    <tr>\n",
       "      <th>0</th>\n",
       "      <th></th>\n",
       "    </tr>\n",
       "  </thead>\n",
       "  <tbody>\n",
       "    <tr>\n",
       "      <th>0</th>\n",
       "      <td>500</td>\n",
       "    </tr>\n",
       "    <tr>\n",
       "      <th>1</th>\n",
       "      <td>500</td>\n",
       "    </tr>\n",
       "    <tr>\n",
       "      <th>2</th>\n",
       "      <td>500</td>\n",
       "    </tr>\n",
       "    <tr>\n",
       "      <th>3</th>\n",
       "      <td>500</td>\n",
       "    </tr>\n",
       "    <tr>\n",
       "      <th>4</th>\n",
       "      <td>500</td>\n",
       "    </tr>\n",
       "    <tr>\n",
       "      <th>...</th>\n",
       "      <td>...</td>\n",
       "    </tr>\n",
       "    <tr>\n",
       "      <th>95</th>\n",
       "      <td>500</td>\n",
       "    </tr>\n",
       "    <tr>\n",
       "      <th>96</th>\n",
       "      <td>500</td>\n",
       "    </tr>\n",
       "    <tr>\n",
       "      <th>97</th>\n",
       "      <td>500</td>\n",
       "    </tr>\n",
       "    <tr>\n",
       "      <th>98</th>\n",
       "      <td>500</td>\n",
       "    </tr>\n",
       "    <tr>\n",
       "      <th>99</th>\n",
       "      <td>500</td>\n",
       "    </tr>\n",
       "  </tbody>\n",
       "</table>\n",
       "<p>100 rows × 1 columns</p>\n",
       "</div>"
      ],
      "text/plain": [
       "col_0  count\n",
       "0           \n",
       "0        500\n",
       "1        500\n",
       "2        500\n",
       "3        500\n",
       "4        500\n",
       "..       ...\n",
       "95       500\n",
       "96       500\n",
       "97       500\n",
       "98       500\n",
       "99       500\n",
       "\n",
       "[100 rows x 1 columns]"
      ]
     },
     "execution_count": 13,
     "metadata": {},
     "output_type": "execute_result"
    }
   ],
   "source": [
    "pd_fine_labels = pd.DataFrame(dataset_train[b'fine_labels'])\n",
    "pd.crosstab(index=pd_fine_labels[0], columns=\"count\")"
   ]
  },
  {
   "cell_type": "code",
   "execution_count": 14,
   "id": "7cc86899",
   "metadata": {},
   "outputs": [
    {
     "data": {
      "text/plain": [
       "99    500\n",
       "36    500\n",
       "26    500\n",
       "27    500\n",
       "28    500\n",
       "     ... \n",
       "69    500\n",
       "70    500\n",
       "71    500\n",
       "72    500\n",
       "0     500\n",
       "Length: 100, dtype: int64"
      ]
     },
     "execution_count": 14,
     "metadata": {},
     "output_type": "execute_result"
    }
   ],
   "source": [
    "pd_fine_labels.value_counts()"
   ]
  },
  {
   "cell_type": "code",
   "execution_count": 15,
   "id": "3025f5ad",
   "metadata": {},
   "outputs": [
    {
     "data": {
      "text/html": [
       "<div>\n",
       "<style scoped>\n",
       "    .dataframe tbody tr th:only-of-type {\n",
       "        vertical-align: middle;\n",
       "    }\n",
       "\n",
       "    .dataframe tbody tr th {\n",
       "        vertical-align: top;\n",
       "    }\n",
       "\n",
       "    .dataframe thead th {\n",
       "        text-align: right;\n",
       "    }\n",
       "</style>\n",
       "<table border=\"1\" class=\"dataframe\">\n",
       "  <thead>\n",
       "    <tr style=\"text-align: right;\">\n",
       "      <th></th>\n",
       "      <th>0</th>\n",
       "    </tr>\n",
       "  </thead>\n",
       "  <tbody>\n",
       "    <tr>\n",
       "      <th>0</th>\n",
       "      <td>19</td>\n",
       "    </tr>\n",
       "    <tr>\n",
       "      <th>1</th>\n",
       "      <td>29</td>\n",
       "    </tr>\n",
       "    <tr>\n",
       "      <th>2</th>\n",
       "      <td>0</td>\n",
       "    </tr>\n",
       "    <tr>\n",
       "      <th>3</th>\n",
       "      <td>11</td>\n",
       "    </tr>\n",
       "    <tr>\n",
       "      <th>4</th>\n",
       "      <td>1</td>\n",
       "    </tr>\n",
       "    <tr>\n",
       "      <th>...</th>\n",
       "      <td>...</td>\n",
       "    </tr>\n",
       "    <tr>\n",
       "      <th>49995</th>\n",
       "      <td>80</td>\n",
       "    </tr>\n",
       "    <tr>\n",
       "      <th>49996</th>\n",
       "      <td>7</td>\n",
       "    </tr>\n",
       "    <tr>\n",
       "      <th>49997</th>\n",
       "      <td>3</td>\n",
       "    </tr>\n",
       "    <tr>\n",
       "      <th>49998</th>\n",
       "      <td>7</td>\n",
       "    </tr>\n",
       "    <tr>\n",
       "      <th>49999</th>\n",
       "      <td>73</td>\n",
       "    </tr>\n",
       "  </tbody>\n",
       "</table>\n",
       "<p>50000 rows × 1 columns</p>\n",
       "</div>"
      ],
      "text/plain": [
       "        0\n",
       "0      19\n",
       "1      29\n",
       "2       0\n",
       "3      11\n",
       "4       1\n",
       "...    ..\n",
       "49995  80\n",
       "49996   7\n",
       "49997   3\n",
       "49998   7\n",
       "49999  73\n",
       "\n",
       "[50000 rows x 1 columns]"
      ]
     },
     "execution_count": 15,
     "metadata": {},
     "output_type": "execute_result"
    }
   ],
   "source": [
    "#print(dataset_meta[b'fine_label_names'][dataset_train[b'fine_labels'][n]])\n",
    "pd.DataFrame(dataset_train[b'fine_labels'])"
   ]
  },
  {
   "cell_type": "code",
   "execution_count": 16,
   "id": "8fdaeb25",
   "metadata": {},
   "outputs": [
    {
     "data": {
      "text/plain": [
       "[b'apple',\n",
       " b'aquarium_fish',\n",
       " b'baby',\n",
       " b'bear',\n",
       " b'beaver',\n",
       " b'bed',\n",
       " b'bee',\n",
       " b'beetle',\n",
       " b'bicycle',\n",
       " b'bottle',\n",
       " b'bowl',\n",
       " b'boy',\n",
       " b'bridge',\n",
       " b'bus',\n",
       " b'butterfly',\n",
       " b'camel',\n",
       " b'can',\n",
       " b'castle',\n",
       " b'caterpillar',\n",
       " b'cattle',\n",
       " b'chair',\n",
       " b'chimpanzee',\n",
       " b'clock',\n",
       " b'cloud',\n",
       " b'cockroach',\n",
       " b'couch',\n",
       " b'crab',\n",
       " b'crocodile',\n",
       " b'cup',\n",
       " b'dinosaur',\n",
       " b'dolphin',\n",
       " b'elephant',\n",
       " b'flatfish',\n",
       " b'forest',\n",
       " b'fox',\n",
       " b'girl',\n",
       " b'hamster',\n",
       " b'house',\n",
       " b'kangaroo',\n",
       " b'keyboard',\n",
       " b'lamp',\n",
       " b'lawn_mower',\n",
       " b'leopard',\n",
       " b'lion',\n",
       " b'lizard',\n",
       " b'lobster',\n",
       " b'man',\n",
       " b'maple_tree',\n",
       " b'motorcycle',\n",
       " b'mountain',\n",
       " b'mouse',\n",
       " b'mushroom',\n",
       " b'oak_tree',\n",
       " b'orange',\n",
       " b'orchid',\n",
       " b'otter',\n",
       " b'palm_tree',\n",
       " b'pear',\n",
       " b'pickup_truck',\n",
       " b'pine_tree',\n",
       " b'plain',\n",
       " b'plate',\n",
       " b'poppy',\n",
       " b'porcupine',\n",
       " b'possum',\n",
       " b'rabbit',\n",
       " b'raccoon',\n",
       " b'ray',\n",
       " b'road',\n",
       " b'rocket',\n",
       " b'rose',\n",
       " b'sea',\n",
       " b'seal',\n",
       " b'shark',\n",
       " b'shrew',\n",
       " b'skunk',\n",
       " b'skyscraper',\n",
       " b'snail',\n",
       " b'snake',\n",
       " b'spider',\n",
       " b'squirrel',\n",
       " b'streetcar',\n",
       " b'sunflower',\n",
       " b'sweet_pepper',\n",
       " b'table',\n",
       " b'tank',\n",
       " b'telephone',\n",
       " b'television',\n",
       " b'tiger',\n",
       " b'tractor',\n",
       " b'train',\n",
       " b'trout',\n",
       " b'tulip',\n",
       " b'turtle',\n",
       " b'wardrobe',\n",
       " b'whale',\n",
       " b'willow_tree',\n",
       " b'wolf',\n",
       " b'woman',\n",
       " b'worm']"
      ]
     },
     "execution_count": 16,
     "metadata": {},
     "output_type": "execute_result"
    }
   ],
   "source": [
    "dataset_meta[b'fine_label_names']"
   ]
  },
  {
   "cell_type": "code",
   "execution_count": 17,
   "id": "534fa306",
   "metadata": {},
   "outputs": [],
   "source": [
    "#types_vehicles = [b'bus', b'bicycle', b'pickup_truck', b'rocket', b'motorcycle', b'streetcar', b'tank', b'tractor', b'train']\n",
    "types_vehicles = [b'bicycle', b'motorcycle',  b'streetcar', b'rocket', b'tractor']"
   ]
  },
  {
   "cell_type": "code",
   "execution_count": 18,
   "id": "ae132c20",
   "metadata": {},
   "outputs": [
    {
     "data": {
      "text/plain": [
       "[8, 48, 69, 81, 89]"
      ]
     },
     "execution_count": 18,
     "metadata": {},
     "output_type": "execute_result"
    }
   ],
   "source": [
    "# RECOVER NUMBER VEHICLES FROM THE LITTERAL NAMES CHOSEN ABOVE\n",
    "\n",
    "# liste 1 : dataset_meta[b'fine_label_names']\n",
    "# liste 2 : type_vehicles\n",
    "\n",
    "# Indices list of matching element from other list\n",
    "# Using list comprehension + set() + enumerate()\n",
    "temp_vehicles = set(types_vehicles)\n",
    "numbers_type_vehicle = [i for i, val in enumerate(dataset_meta[b'fine_label_names']) if val in temp_vehicles]\n",
    "numbers_type_vehicle"
   ]
  },
  {
   "cell_type": "code",
   "execution_count": 19,
   "id": "49aa21ae",
   "metadata": {},
   "outputs": [],
   "source": [
    "#Construct the dataframe\n",
    "df_train = pd.DataFrame({\n",
    "    \"filenames\": dataset_train[b'filenames'],\n",
    "    \"labels\": dataset_train[b'fine_labels'],\n",
    "    \"row\": range(len(dataset_train[b'filenames']))\n",
    "})\n",
    "\n",
    "# Drop all rows from df_train where label is not in types_vehicles\n",
    "df_train = df_train[df_train['labels'].isin(numbers_type_vehicle)]\n",
    "\n",
    "# Decode df_train.filenames so they are regular strings\n",
    "df_train[\"filenames\"] = df_train[\"filenames\"].apply(\n",
    "    lambda x: x.decode(\"utf-8\")\n",
    ")\n",
    "\n",
    "\n",
    "df_test = pd.DataFrame({\n",
    "    \"filenames\": dataset_test[b'filenames'],\n",
    "    \"labels\": dataset_test[b'fine_labels'],\n",
    "    \"row\": range(len(dataset_test[b'filenames']))\n",
    "})\n",
    "\n",
    "# Drop all rows from df_test where label is not in types_vehicles\n",
    "df_test = df_test[df_test['labels'].isin(numbers_type_vehicle)]\n",
    "\n",
    "# Decode df_test.filenames so they are regular strings\n",
    "df_test[\"filenames\"] = df_test[\"filenames\"].apply(\n",
    "    lambda x: x.decode(\"utf-8\")\n",
    ")"
   ]
  },
  {
   "cell_type": "code",
   "execution_count": 20,
   "id": "91f0ecdf",
   "metadata": {},
   "outputs": [
    {
     "data": {
      "text/plain": [
       "(2500,)"
      ]
     },
     "execution_count": 20,
     "metadata": {},
     "output_type": "execute_result"
    }
   ],
   "source": [
    "df_train[\"filenames\"].shape"
   ]
  },
  {
   "cell_type": "code",
   "execution_count": 21,
   "id": "25292478",
   "metadata": {},
   "outputs": [
    {
     "data": {
      "text/plain": [
       "(500,)"
      ]
     },
     "execution_count": 21,
     "metadata": {},
     "output_type": "execute_result"
    }
   ],
   "source": [
    "df_test[\"filenames\"].shape"
   ]
  },
  {
   "cell_type": "code",
   "execution_count": 22,
   "id": "57ce1e5f",
   "metadata": {},
   "outputs": [
    {
     "data": {
      "text/html": [
       "<div>\n",
       "<style scoped>\n",
       "    .dataframe tbody tr th:only-of-type {\n",
       "        vertical-align: middle;\n",
       "    }\n",
       "\n",
       "    .dataframe tbody tr th {\n",
       "        vertical-align: top;\n",
       "    }\n",
       "\n",
       "    .dataframe thead th {\n",
       "        text-align: right;\n",
       "    }\n",
       "</style>\n",
       "<table border=\"1\" class=\"dataframe\">\n",
       "  <thead>\n",
       "    <tr style=\"text-align: right;\">\n",
       "      <th></th>\n",
       "      <th>filenames</th>\n",
       "      <th>labels</th>\n",
       "      <th>row</th>\n",
       "    </tr>\n",
       "  </thead>\n",
       "  <tbody>\n",
       "    <tr>\n",
       "      <th>16</th>\n",
       "      <td>bike_s_000682.png</td>\n",
       "      <td>8</td>\n",
       "      <td>16</td>\n",
       "    </tr>\n",
       "    <tr>\n",
       "      <th>30</th>\n",
       "      <td>bike_s_000127.png</td>\n",
       "      <td>8</td>\n",
       "      <td>30</td>\n",
       "    </tr>\n",
       "    <tr>\n",
       "      <th>36</th>\n",
       "      <td>streetcar_s_000663.png</td>\n",
       "      <td>81</td>\n",
       "      <td>36</td>\n",
       "    </tr>\n",
       "    <tr>\n",
       "      <th>48</th>\n",
       "      <td>tractor_s_001723.png</td>\n",
       "      <td>89</td>\n",
       "      <td>48</td>\n",
       "    </tr>\n",
       "    <tr>\n",
       "      <th>73</th>\n",
       "      <td>tractor_s_000104.png</td>\n",
       "      <td>89</td>\n",
       "      <td>73</td>\n",
       "    </tr>\n",
       "    <tr>\n",
       "      <th>76</th>\n",
       "      <td>bulldozer_s_000433.png</td>\n",
       "      <td>89</td>\n",
       "      <td>76</td>\n",
       "    </tr>\n",
       "    <tr>\n",
       "      <th>93</th>\n",
       "      <td>minuteman_s_000073.png</td>\n",
       "      <td>69</td>\n",
       "      <td>93</td>\n",
       "    </tr>\n",
       "    <tr>\n",
       "      <th>107</th>\n",
       "      <td>icbm_s_000392.png</td>\n",
       "      <td>69</td>\n",
       "      <td>107</td>\n",
       "    </tr>\n",
       "    <tr>\n",
       "      <th>130</th>\n",
       "      <td>cycle_s_002598.png</td>\n",
       "      <td>8</td>\n",
       "      <td>130</td>\n",
       "    </tr>\n",
       "    <tr>\n",
       "      <th>152</th>\n",
       "      <td>minibike_s_000824.png</td>\n",
       "      <td>48</td>\n",
       "      <td>152</td>\n",
       "    </tr>\n",
       "    <tr>\n",
       "      <th>186</th>\n",
       "      <td>tram_s_000475.png</td>\n",
       "      <td>81</td>\n",
       "      <td>186</td>\n",
       "    </tr>\n",
       "    <tr>\n",
       "      <th>195</th>\n",
       "      <td>motorcycle_s_001856.png</td>\n",
       "      <td>48</td>\n",
       "      <td>195</td>\n",
       "    </tr>\n",
       "    <tr>\n",
       "      <th>196</th>\n",
       "      <td>streetcar_s_001848.png</td>\n",
       "      <td>81</td>\n",
       "      <td>196</td>\n",
       "    </tr>\n",
       "    <tr>\n",
       "      <th>199</th>\n",
       "      <td>step_rocket_s_000566.png</td>\n",
       "      <td>69</td>\n",
       "      <td>199</td>\n",
       "    </tr>\n",
       "    <tr>\n",
       "      <th>219</th>\n",
       "      <td>bicycle_s_000537.png</td>\n",
       "      <td>8</td>\n",
       "      <td>219</td>\n",
       "    </tr>\n",
       "  </tbody>\n",
       "</table>\n",
       "</div>"
      ],
      "text/plain": [
       "                    filenames  labels  row\n",
       "16          bike_s_000682.png       8   16\n",
       "30          bike_s_000127.png       8   30\n",
       "36     streetcar_s_000663.png      81   36\n",
       "48       tractor_s_001723.png      89   48\n",
       "73       tractor_s_000104.png      89   73\n",
       "76     bulldozer_s_000433.png      89   76\n",
       "93     minuteman_s_000073.png      69   93\n",
       "107         icbm_s_000392.png      69  107\n",
       "130        cycle_s_002598.png       8  130\n",
       "152     minibike_s_000824.png      48  152\n",
       "186         tram_s_000475.png      81  186\n",
       "195   motorcycle_s_001856.png      48  195\n",
       "196    streetcar_s_001848.png      81  196\n",
       "199  step_rocket_s_000566.png      69  199\n",
       "219      bicycle_s_000537.png       8  219"
      ]
     },
     "execution_count": 22,
     "metadata": {},
     "output_type": "execute_result"
    }
   ],
   "source": [
    "df_train.head(15)"
   ]
  },
  {
   "cell_type": "code",
   "execution_count": 18,
   "id": "7311ea2d",
   "metadata": {},
   "outputs": [
    {
     "data": {
      "text/html": [
       "<div>\n",
       "<style scoped>\n",
       "    .dataframe tbody tr th:only-of-type {\n",
       "        vertical-align: middle;\n",
       "    }\n",
       "\n",
       "    .dataframe tbody tr th {\n",
       "        vertical-align: top;\n",
       "    }\n",
       "\n",
       "    .dataframe thead th {\n",
       "        text-align: right;\n",
       "    }\n",
       "</style>\n",
       "<table border=\"1\" class=\"dataframe\">\n",
       "  <thead>\n",
       "    <tr style=\"text-align: right;\">\n",
       "      <th></th>\n",
       "      <th>filenames</th>\n",
       "      <th>labels</th>\n",
       "      <th>row</th>\n",
       "    </tr>\n",
       "  </thead>\n",
       "  <tbody>\n",
       "    <tr>\n",
       "      <th>12</th>\n",
       "      <td>streetcar_s_000382.png</td>\n",
       "      <td>81</td>\n",
       "      <td>12</td>\n",
       "    </tr>\n",
       "    <tr>\n",
       "      <th>13</th>\n",
       "      <td>sounding_rocket_s_000010.png</td>\n",
       "      <td>69</td>\n",
       "      <td>13</td>\n",
       "    </tr>\n",
       "    <tr>\n",
       "      <th>27</th>\n",
       "      <td>safety_bike_s_000390.png</td>\n",
       "      <td>8</td>\n",
       "      <td>27</td>\n",
       "    </tr>\n",
       "    <tr>\n",
       "      <th>28</th>\n",
       "      <td>bike_s_000658.png</td>\n",
       "      <td>8</td>\n",
       "      <td>28</td>\n",
       "    </tr>\n",
       "    <tr>\n",
       "      <th>59</th>\n",
       "      <td>exocet_s_000376.png</td>\n",
       "      <td>69</td>\n",
       "      <td>59</td>\n",
       "    </tr>\n",
       "    <tr>\n",
       "      <th>85</th>\n",
       "      <td>dozer_s_001228.png</td>\n",
       "      <td>89</td>\n",
       "      <td>85</td>\n",
       "    </tr>\n",
       "    <tr>\n",
       "      <th>105</th>\n",
       "      <td>research_rocket_s_001220.png</td>\n",
       "      <td>69</td>\n",
       "      <td>105</td>\n",
       "    </tr>\n",
       "    <tr>\n",
       "      <th>116</th>\n",
       "      <td>velocipede_s_001744.png</td>\n",
       "      <td>8</td>\n",
       "      <td>116</td>\n",
       "    </tr>\n",
       "    <tr>\n",
       "      <th>161</th>\n",
       "      <td>bike_s_000643.png</td>\n",
       "      <td>8</td>\n",
       "      <td>161</td>\n",
       "    </tr>\n",
       "    <tr>\n",
       "      <th>219</th>\n",
       "      <td>streetcar_s_000124.png</td>\n",
       "      <td>81</td>\n",
       "      <td>219</td>\n",
       "    </tr>\n",
       "    <tr>\n",
       "      <th>230</th>\n",
       "      <td>bulldozer_s_001971.png</td>\n",
       "      <td>89</td>\n",
       "      <td>230</td>\n",
       "    </tr>\n",
       "    <tr>\n",
       "      <th>262</th>\n",
       "      <td>tractor_s_001551.png</td>\n",
       "      <td>89</td>\n",
       "      <td>262</td>\n",
       "    </tr>\n",
       "    <tr>\n",
       "      <th>283</th>\n",
       "      <td>bulldozer_s_001524.png</td>\n",
       "      <td>89</td>\n",
       "      <td>283</td>\n",
       "    </tr>\n",
       "    <tr>\n",
       "      <th>299</th>\n",
       "      <td>tractor_s_000668.png</td>\n",
       "      <td>89</td>\n",
       "      <td>299</td>\n",
       "    </tr>\n",
       "    <tr>\n",
       "      <th>319</th>\n",
       "      <td>ordinary_bicycle_s_000437.png</td>\n",
       "      <td>8</td>\n",
       "      <td>319</td>\n",
       "    </tr>\n",
       "  </tbody>\n",
       "</table>\n",
       "</div>"
      ],
      "text/plain": [
       "                         filenames  labels  row\n",
       "12          streetcar_s_000382.png      81   12\n",
       "13    sounding_rocket_s_000010.png      69   13\n",
       "27        safety_bike_s_000390.png       8   27\n",
       "28               bike_s_000658.png       8   28\n",
       "59             exocet_s_000376.png      69   59\n",
       "85              dozer_s_001228.png      89   85\n",
       "105   research_rocket_s_001220.png      69  105\n",
       "116        velocipede_s_001744.png       8  116\n",
       "161              bike_s_000643.png       8  161\n",
       "219         streetcar_s_000124.png      81  219\n",
       "230         bulldozer_s_001971.png      89  230\n",
       "262           tractor_s_001551.png      89  262\n",
       "283         bulldozer_s_001524.png      89  283\n",
       "299           tractor_s_000668.png      89  299\n",
       "319  ordinary_bicycle_s_000437.png       8  319"
      ]
     },
     "execution_count": 18,
     "metadata": {},
     "output_type": "execute_result"
    }
   ],
   "source": [
    "df_test.head(15)"
   ]
  },
  {
   "cell_type": "code",
   "execution_count": 19,
   "id": "f70bf032",
   "metadata": {},
   "outputs": [],
   "source": [
    "# To uncomment if needed\n",
    "\n",
    "#!mkdir -p ./train_batch_classification/images\n",
    "#!mkdir -p ./test_batch_classification/images"
   ]
  },
  {
   "cell_type": "code",
   "execution_count": 22,
   "id": "4f422511",
   "metadata": {},
   "outputs": [],
   "source": [
    "def save_images(idx_image, channel, dataset):\n",
    "    #Grab the image data in row-major form\n",
    "    img = dataset[b'data'][idx_image]\n",
    "    \n",
    "    # Consolidated stacking/reshaping from earlier\n",
    "    target = np.dstack((\n",
    "            img[:1024].reshape(32, 32),\n",
    "            img[1024:2048].reshape(32, 32),\n",
    "            img[2048:].reshape(32, 32)\n",
    "    ))\n",
    "    \n",
    "    # Save the image\n",
    "    plt.imsave(f\"./{channel}/images/{dataset[b'filenames'][idx_image].decode('utf-8')}\", target)\n",
    "    \n",
    "    # Return any signal data you want for debugging\n",
    "    return\n",
    "\n",
    "for idx in df_train.index.values:\n",
    "    save_images(idx, 'train_batch_classification', dataset_train)\n",
    "    \n",
    "for idx in df_test.index.values:\n",
    "    save_images(idx, 'test_batch_classification', dataset_test)"
   ]
  },
  {
   "cell_type": "code",
   "execution_count": 24,
   "id": "504ba710",
   "metadata": {},
   "outputs": [],
   "source": [
    "#To uncomment if needed\n",
    "\n",
    "#os.environ[\"WORKING_BUCKET\"] = working_bucket\n",
    "#!aws s3 sync ./train_batch_classification s3://${WORKING_BUCKET}/train_batch_classification/\n",
    "#!aws s3 sync ./test_batch_classification s3://${WORKING_BUCKET}/test_batch_classification/"
   ]
  },
  {
   "cell_type": "code",
   "execution_count": 23,
   "id": "81535937",
   "metadata": {},
   "outputs": [
    {
     "data": {
      "text/plain": [
       "[8, 48, 69, 81, 89]"
      ]
     },
     "execution_count": 23,
     "metadata": {},
     "output_type": "execute_result"
    }
   ],
   "source": [
    "numbers_type_vehicle"
   ]
  },
  {
   "cell_type": "code",
   "execution_count": 24,
   "id": "f060e6e8",
   "metadata": {},
   "outputs": [
    {
     "data": {
      "text/plain": [
       "[b'bicycle', b'motorcycle', b'streetcar', b'rocket', b'tractor']"
      ]
     },
     "execution_count": 24,
     "metadata": {},
     "output_type": "execute_result"
    }
   ],
   "source": [
    "types_vehicles"
   ]
  },
  {
   "cell_type": "code",
   "execution_count": 25,
   "id": "ee65ca8e",
   "metadata": {},
   "outputs": [
    {
     "data": {
      "text/plain": [
       "[(8, b'bicycle'),\n",
       " (48, b'motorcycle'),\n",
       " (69, b'streetcar'),\n",
       " (81, b'rocket'),\n",
       " (89, b'tractor')]"
      ]
     },
     "execution_count": 25,
     "metadata": {},
     "output_type": "execute_result"
    }
   ],
   "source": [
    "#have not been really useful...\n",
    "types_vehicles = list(zip(numbers_type_vehicle, types_vehicles))\n",
    "[type for type in types_vehicles]"
   ]
  },
  {
   "cell_type": "code",
   "execution_count": 26,
   "id": "e3f0cadb",
   "metadata": {},
   "outputs": [
    {
     "data": {
      "text/plain": [
       "['bicycle', 'motorcycle', 'streetcar', 'rocket', 'tractor']"
      ]
     },
     "execution_count": 26,
     "metadata": {},
     "output_type": "execute_result"
    }
   ],
   "source": [
    "litteral_type_vehicles= [type_vehicle[1].decode('utf-8') for type_vehicle in types_vehicles]\n",
    "litteral_type_vehicles"
   ]
  },
  {
   "cell_type": "code",
   "execution_count": 27,
   "id": "b9a96945",
   "metadata": {},
   "outputs": [
    {
     "data": {
      "text/plain": [
       "(89, b'tractor')"
      ]
     },
     "execution_count": 27,
     "metadata": {},
     "output_type": "execute_result"
    }
   ],
   "source": [
    "types_vehicles[-1]"
   ]
  },
  {
   "cell_type": "code",
   "execution_count": 29,
   "id": "8a892729",
   "metadata": {},
   "outputs": [
    {
     "data": {
      "text/plain": [
       "12      81\n",
       "13      69\n",
       "27       8\n",
       "28       8\n",
       "59      69\n",
       "        ..\n",
       "9922    89\n",
       "9928     8\n",
       "9939     8\n",
       "9946    69\n",
       "9969    89\n",
       "Name: labels, Length: 500, dtype: int64"
      ]
     },
     "execution_count": 29,
     "metadata": {},
     "output_type": "execute_result"
    }
   ],
   "source": [
    "df_test[\"labels\"]"
   ]
  },
  {
   "cell_type": "markdown",
   "id": "ab9ee10e",
   "metadata": {},
   "source": [
    "--- \n",
    "### Model Training\n",
    "\n",
    "For Image Classification, Sagemaker [also expects metadata](https://docs.aws.amazon.com/sagemaker/latest/dg/image-classification.html) e.g. in the form of TSV files with labels and filepaths. We can generate these using our Pandas DataFrames from earlier:"
   ]
  },
  {
   "cell_type": "code",
   "execution_count": 33,
   "id": "541dd3d6",
   "metadata": {},
   "outputs": [
    {
     "data": {
      "text/plain": [
       "[8, 48, 69, 81, 89]"
      ]
     },
     "execution_count": 33,
     "metadata": {},
     "output_type": "execute_result"
    }
   ],
   "source": [
    "numbers_type_vehicle"
   ]
  },
  {
   "cell_type": "code",
   "execution_count": 34,
   "id": "3feac59f",
   "metadata": {},
   "outputs": [],
   "source": [
    "# Get the index in the array ( 0, 1, 2, 3 or 4) instead of (8, 48, 69, 81, 89), for example\n",
    "# -> used by the lst file to simplify the labels sequences\n",
    "\n",
    "def return_index_vehicle(number_vehicle):\n",
    "    index_vehicle = 0\n",
    "    while number_vehicle != numbers_type_vehicle[index_vehicle]:\n",
    "        index_vehicle += 1\n",
    "    return index_vehicle"
   ]
  },
  {
   "cell_type": "code",
   "execution_count": 36,
   "id": "be6a779f",
   "metadata": {},
   "outputs": [
    {
     "data": {
      "text/plain": [
       "1"
      ]
     },
     "execution_count": 36,
     "metadata": {},
     "output_type": "execute_result"
    }
   ],
   "source": [
    "return_index_vehicle(48)"
   ]
  },
  {
   "cell_type": "code",
   "execution_count": 35,
   "id": "a232bf8d",
   "metadata": {},
   "outputs": [],
   "source": [
    "def to_metadata_file(df, prefix):\n",
    "    df[\"s3_path\"] = df[\"filenames\"]\n",
    "    df[\"labels\"] = df[\"labels\"].apply(lambda x: return_index_vehicle(x))\n",
    "    return df[[\"row\", \"labels\", \"s3_path\"]].to_csv(\n",
    "        f\"{prefix}.lst\", sep=\"\\t\", index=False, header=False\n",
    "    )\n",
    "    \n",
    "to_metadata_file(df_train.copy(), \"train_batch_classification\")\n",
    "to_metadata_file(df_test.copy(), \"test_batch_classification\")"
   ]
  },
  {
   "cell_type": "code",
   "execution_count": 36,
   "id": "c79beb9d",
   "metadata": {},
   "outputs": [],
   "source": [
    "# Upload .lst files\n",
    "client_s3.Bucket(working_bucket).Object('train_batch_classification.lst').upload_file('./train_batch_classification.lst')\n",
    "client_s3.Bucket(working_bucket).Object('test_batch_classification.lst').upload_file('./test_batch_classification.lst')"
   ]
  },
  {
   "cell_type": "code",
   "execution_count": 37,
   "id": "98cb642b",
   "metadata": {},
   "outputs": [],
   "source": [
    "from sagemaker import image_uris\n",
    "\n",
    "# Use the image_uris function to retrieve the latest 'image-classification' image \n",
    "algo_image = image_uris.retrieve(framework='image-classification', region=region)\n",
    "s3_output_location = f\"s3://{working_bucket}/models/image_model\""
   ]
  },
  {
   "cell_type": "code",
   "execution_count": 38,
   "id": "a29a40f7",
   "metadata": {},
   "outputs": [
    {
     "data": {
      "text/plain": [
       "'s3://batch-classification-scones-project/models/image_model'"
      ]
     },
     "execution_count": 38,
     "metadata": {},
     "output_type": "execute_result"
    }
   ],
   "source": [
    "s3_output_location"
   ]
  },
  {
   "cell_type": "code",
   "execution_count": 39,
   "id": "7330c388",
   "metadata": {},
   "outputs": [],
   "source": [
    "#TESTED WITH SPOT INSTANCES, BUT HAD SOME TROUBLE WITH HYPERPARAMETERS THAT WERE NOT MATCHING. I DID NOT NOT INVESTIGATE FURTHERMORE.\n",
    "\n",
    "# The local path where the model will save its checkpoints in the training container\n",
    "checkpoint_local_path=\"/opt/ml/checkpoints\" \n",
    "\n",
    "# The S3 URI to store the checkpoints\n",
    "checkpoint_s3_bucket=f\"s3://{working_bucket}/checkpoints\""
   ]
  },
  {
   "cell_type": "markdown",
   "id": "20aca62f",
   "metadata": {},
   "source": [
    "#### Choice of parameters"
   ]
  },
  {
   "cell_type": "code",
   "execution_count": 41,
   "id": "813f2fdd",
   "metadata": {},
   "outputs": [],
   "source": [
    "#parameters for spot instance\n",
    "use_spot_instances = True # Not simple to have spot capacity. Have to try many times. Perhaps I would try in another region, but all would have to be moved (s3...) \n",
    "max_run = 3600\n",
    "max_wait = 7200 if use_spot_instances else None"
   ]
  },
  {
   "cell_type": "code",
   "execution_count": 42,
   "id": "8b8cd342",
   "metadata": {},
   "outputs": [],
   "source": [
    "#supported instances for image classification prebuilt sagemaker algorithms\n",
    "# 'ml.p2.xlarge', 'ml.p2.8xlarge', 'ml.p2.16xlarge', 'ml.p3.2xlarge', 'ml.p3.8xlargeand', 'ml.p3.16xlarge'\n",
    "instance_training_type = 'ml.p3.2xlarge'"
   ]
  },
  {
   "cell_type": "code",
   "execution_count": null,
   "id": "76268235",
   "metadata": {},
   "outputs": [],
   "source": [
    "#model_uuid = uuid4()"
   ]
  },
  {
   "cell_type": "code",
   "execution_count": 43,
   "id": "2d070cea",
   "metadata": {},
   "outputs": [],
   "source": [
    "\n",
    "img_classifier_model=sagemaker.estimator.Estimator(\n",
    "    ## TODO: define your estimator options  \n",
    "    algo_image,\n",
    "    role,\n",
    "    instance_count= 1,\n",
    "    instance_type= instance_training_type,\n",
    "    use_spot_instances= use_spot_instances,\n",
    "    max_run= max_run,\n",
    "    max_wait = max_wait,    \n",
    "    output_path= s3_output_location,\n",
    "    #name=\n",
    "    #checkpoint_s3_uri=checkpoint_s3_bucket,    \n",
    "    #checkpoint_local_path=checkpoint_local_path   \n",
    ")"
   ]
  },
  {
   "cell_type": "code",
   "execution_count": 44,
   "id": "f890464e",
   "metadata": {},
   "outputs": [
    {
     "data": {
      "text/plain": [
       "5"
      ]
     },
     "execution_count": 44,
     "metadata": {},
     "output_type": "execute_result"
    }
   ],
   "source": [
    "len(numbers_type_vehicle)"
   ]
  },
  {
   "cell_type": "code",
   "execution_count": 466,
   "id": "99265a1d",
   "metadata": {},
   "outputs": [],
   "source": [
    "#img_classifier_model.set_hyperparameters(\n",
    "#    image_shape= '3,32,32', # TODO: Fill in\n",
    "#    num_classes=2, # TODO: Fill in\n",
    "#    num_training_samples=1000, # TODO: fill in\n",
    "#    learning_rate=0.05\n",
    "#)"
   ]
  },
  {
   "cell_type": "code",
   "execution_count": 45,
   "id": "4fe861a4",
   "metadata": {},
   "outputs": [],
   "source": [
    "num_training_samples=2500  ###        TO ADAPT !!!       NOT TO FORGET  !!!!"
   ]
  },
  {
   "cell_type": "code",
   "execution_count": 46,
   "id": "1bf42912",
   "metadata": {},
   "outputs": [],
   "source": [
    "# hyperparameters for training\n",
    "img_classifier_model.set_hyperparameters(\n",
    "    image_shape= '3,32,32', # TODO: Fill in\n",
    "    num_classes= len(numbers_type_vehicle), # TODO: Fill in\n",
    "    num_training_samples= num_training_samples, # TODO: fill in\n",
    "    learning_rate=0.01, \n",
    "    mini_batch_size= 64,\n",
    "    epochs=50\n",
    ")\n",
    "\n",
    "#{'num_classes': '3', 'num_training_samples': '1500', 'image_shape': '3,32,32', 'learning_rate': '0.01'}"
   ]
  },
  {
   "cell_type": "code",
   "execution_count": 47,
   "id": "4f8ad79b",
   "metadata": {},
   "outputs": [],
   "source": [
    "train_input = f\"s3://{working_bucket}/train_batch_classification/images/\"\n",
    "test_input  = f\"s3://{working_bucket}/test_batch_classification/images/\"\n",
    "train_lst  = f\"s3://{working_bucket}/train_batch_classification.lst\"\n",
    "test_lst  = f\"s3://{working_bucket}/test_batch_classification.lst\""
   ]
  },
  {
   "cell_type": "code",
   "execution_count": 48,
   "id": "8261ea54",
   "metadata": {},
   "outputs": [
    {
     "name": "stdout",
     "output_type": "stream",
     "text": [
      "s3://batch-classification-scones-project/train_batch_classification/images/\n",
      "s3://batch-classification-scones-project/test_batch_classification/images/\n",
      "s3://batch-classification-scones-project/train_batch_classification.lst\n",
      "s3://batch-classification-scones-project/test_batch_classification.lst\n"
     ]
    }
   ],
   "source": [
    "print(train_input)\n",
    "print(test_input)\n",
    "print(train_lst)\n",
    "print(test_lst)"
   ]
  },
  {
   "cell_type": "code",
   "execution_count": 49,
   "id": "e752b087",
   "metadata": {},
   "outputs": [],
   "source": [
    "from sagemaker.debugger import Rule, rule_configs\n",
    "from sagemaker.session import TrainingInput\n",
    "model_inputs = {\n",
    "        \"train\": sagemaker.inputs.TrainingInput(\n",
    "            s3_data=train_input,\n",
    "            content_type=\"application/x-image\"\n",
    "        ),\n",
    "        \"validation\": sagemaker.inputs.TrainingInput(\n",
    "            s3_data=test_input,\n",
    "            content_type=\"application/x-image\"\n",
    "        ),\n",
    "        \"train_lst\": sagemaker.inputs.TrainingInput(\n",
    "            s3_data=train_lst,\n",
    "            content_type=\"application/x-image\"\n",
    "        ),\n",
    "        \"validation_lst\": sagemaker.inputs.TrainingInput(\n",
    "            s3_data=test_lst,\n",
    "            content_type=\"application/x-image\"\n",
    "        )\n",
    "}"
   ]
  },
  {
   "cell_type": "code",
   "execution_count": 50,
   "id": "9acb0969",
   "metadata": {},
   "outputs": [
    {
     "name": "stdout",
     "output_type": "stream",
     "text": [
      "2022-01-30 18:42:17 Starting - Starting the training job...\n",
      "2022-01-30 18:42:47 Starting - Launching requested ML instancesProfilerReport-1643568137: InProgress\n",
      "......\n",
      "2022-01-30 18:43:47 Starting - Preparing the instances for training........\n",
      "2022-01-30 18:45:07 Downloading - Downloading input data...\n",
      "2022-01-30 18:45:47 Training - Downloading the training image......\n",
      "2022-01-30 18:46:48 Training - Training image download completed. Training in progress.\u001b[34mDocker entrypoint called with argument(s): train\u001b[0m\n",
      "\u001b[34m[01/30/2022 18:46:40 INFO 140223575467840] Reading default configuration from /opt/amazon/lib/python3.7/site-packages/image_classification/default-input.json: {'use_pretrained_model': 0, 'num_layers': 152, 'epochs': 30, 'learning_rate': 0.1, 'lr_scheduler_factor': 0.1, 'optimizer': 'sgd', 'momentum': 0, 'weight_decay': 0.0001, 'beta_1': 0.9, 'beta_2': 0.999, 'eps': 1e-08, 'gamma': 0.9, 'mini_batch_size': 32, 'image_shape': '3,224,224', 'precision_dtype': 'float32'}\u001b[0m\n",
      "\u001b[34m[01/30/2022 18:46:40 INFO 140223575467840] Merging with provided configuration from /opt/ml/input/config/hyperparameters.json: {'num_classes': '5', 'num_training_samples': '2500', 'epochs': '50', 'image_shape': '3,32,32', 'learning_rate': '0.01', 'mini_batch_size': '64'}\u001b[0m\n",
      "\u001b[34m[01/30/2022 18:46:40 INFO 140223575467840] Final configuration: {'use_pretrained_model': 0, 'num_layers': 152, 'epochs': '50', 'learning_rate': '0.01', 'lr_scheduler_factor': 0.1, 'optimizer': 'sgd', 'momentum': 0, 'weight_decay': 0.0001, 'beta_1': 0.9, 'beta_2': 0.999, 'eps': 1e-08, 'gamma': 0.9, 'mini_batch_size': '64', 'image_shape': '3,32,32', 'precision_dtype': 'float32', 'num_classes': '5', 'num_training_samples': '2500'}\u001b[0m\n",
      "\u001b[34m[01/30/2022 18:46:40 INFO 140223575467840] Searching for .lst files in /opt/ml/input/data/train_lst.\u001b[0m\n",
      "\u001b[34m[01/30/2022 18:46:40 INFO 140223575467840] Creating record files for train_batch_classification.lst\u001b[0m\n",
      "\u001b[34m[01/30/2022 18:46:41 INFO 140223575467840] Done creating record files...\u001b[0m\n",
      "\u001b[34m[01/30/2022 18:46:41 INFO 140223575467840] Searching for .lst files in /opt/ml/input/data/validation_lst.\u001b[0m\n",
      "\u001b[34m[01/30/2022 18:46:41 INFO 140223575467840] Creating record files for test_batch_classification.lst\u001b[0m\n",
      "\u001b[34m[01/30/2022 18:46:41 INFO 140223575467840] Done creating record files...\u001b[0m\n",
      "\u001b[34m[01/30/2022 18:46:41 INFO 140223575467840] use_pretrained_model: 0\u001b[0m\n",
      "\u001b[34m[01/30/2022 18:46:41 INFO 140223575467840] multi_label: 0\u001b[0m\n",
      "\u001b[34m[01/30/2022 18:46:41 INFO 140223575467840] Performing random weight initialization\u001b[0m\n",
      "\u001b[34m[01/30/2022 18:46:41 INFO 140223575467840] ---- Parameters ----\u001b[0m\n",
      "\u001b[34m[01/30/2022 18:46:41 INFO 140223575467840] num_layers: 152\u001b[0m\n",
      "\u001b[34m[01/30/2022 18:46:41 INFO 140223575467840] data type: <class 'numpy.float32'>\u001b[0m\n",
      "\u001b[34m[01/30/2022 18:46:41 INFO 140223575467840] epochs: 50\u001b[0m\n",
      "\u001b[34m[01/30/2022 18:46:41 INFO 140223575467840] optimizer: sgd\u001b[0m\n",
      "\u001b[34m[01/30/2022 18:46:41 INFO 140223575467840] momentum: 0.9\u001b[0m\n",
      "\u001b[34m[01/30/2022 18:46:41 INFO 140223575467840] weight_decay: 0.0001\u001b[0m\n",
      "\u001b[34m[01/30/2022 18:46:41 INFO 140223575467840] learning_rate: 0.01\u001b[0m\n",
      "\u001b[34m[01/30/2022 18:46:41 INFO 140223575467840] num_training_samples: 2500\u001b[0m\n",
      "\u001b[34m[01/30/2022 18:46:41 INFO 140223575467840] mini_batch_size: 64\u001b[0m\n",
      "\u001b[34m[01/30/2022 18:46:41 INFO 140223575467840] image_shape: 3,32,32\u001b[0m\n",
      "\u001b[34m[01/30/2022 18:46:41 INFO 140223575467840] num_classes: 5\u001b[0m\n",
      "\u001b[34m[01/30/2022 18:46:41 INFO 140223575467840] augmentation_type: None\u001b[0m\n",
      "\u001b[34m[01/30/2022 18:46:41 INFO 140223575467840] kv_store: device\u001b[0m\n",
      "\u001b[34m[01/30/2022 18:46:41 INFO 140223575467840] checkpoint_frequency not set, will store the best model\u001b[0m\n",
      "\u001b[34m[01/30/2022 18:46:41 INFO 140223575467840] --------------------\u001b[0m\n",
      "\u001b[34m[01/30/2022 18:46:41 INFO 140223575467840] Setting number of threads: 7\u001b[0m\n",
      "\u001b[34m[18:46:51] /opt/brazil-pkg-cache/packages/AIAlgorithmsMXNet/AIAlgorithmsMXNet-1.3.x_ecl_Cuda_10.1.x.10365.0/AL2_x86_64/generic-flavor/src/src/operator/nn/./cudnn/./cudnn_algoreg-inl.h:97: Running performance tests to find the best convolution algorithm, this can take a while... (setting env variable MXNET_CUDNN_AUTOTUNE_DEFAULT to 0 to disable)\u001b[0m\n",
      "\u001b[34m[01/30/2022 18:46:57 INFO 140223575467840] Epoch[0] Batch [20]#011Speed: 206.325 samples/sec#011accuracy=0.244792\u001b[0m\n",
      "\u001b[34m[01/30/2022 18:47:00 INFO 140223575467840] Epoch[0] Train-accuracy=0.298478\u001b[0m\n",
      "\u001b[34m[01/30/2022 18:47:00 INFO 140223575467840] Epoch[0] Time cost=9.403\u001b[0m\n",
      "\u001b[34m[01/30/2022 18:47:01 INFO 140223575467840] Epoch[0] Validation-accuracy=0.306641\u001b[0m\n",
      "\u001b[34m[01/30/2022 18:47:01 INFO 140223575467840] Storing the best model with validation accuracy: 0.306641\u001b[0m\n",
      "\u001b[34m[01/30/2022 18:47:01 INFO 140223575467840] Saved checkpoint to \"/opt/ml/model/image-classification-0001.params\"\u001b[0m\n",
      "\u001b[34m[01/30/2022 18:47:05 INFO 140223575467840] Epoch[1] Batch [20]#011Speed: 351.051 samples/sec#011accuracy=0.456101\u001b[0m\n",
      "\u001b[34m[01/30/2022 18:47:08 INFO 140223575467840] Epoch[1] Train-accuracy=0.471554\u001b[0m\n",
      "\u001b[34m[01/30/2022 18:47:08 INFO 140223575467840] Epoch[1] Time cost=6.863\u001b[0m\n",
      "\u001b[34m[01/30/2022 18:47:09 INFO 140223575467840] Epoch[1] Validation-accuracy=0.496094\u001b[0m\n",
      "\u001b[34m[01/30/2022 18:47:09 INFO 140223575467840] Storing the best model with validation accuracy: 0.496094\u001b[0m\n",
      "\u001b[34m[01/30/2022 18:47:10 INFO 140223575467840] Saved checkpoint to \"/opt/ml/model/image-classification-0002.params\"\u001b[0m\n",
      "\u001b[34m[01/30/2022 18:47:13 INFO 140223575467840] Epoch[2] Batch [20]#011Speed: 356.473 samples/sec#011accuracy=0.549851\u001b[0m\n",
      "\u001b[34m[01/30/2022 18:47:16 INFO 140223575467840] Epoch[2] Train-accuracy=0.559696\u001b[0m\n",
      "\u001b[34m[01/30/2022 18:47:16 INFO 140223575467840] Epoch[2] Time cost=6.750\u001b[0m\n",
      "\u001b[34m[01/30/2022 18:47:17 INFO 140223575467840] Epoch[2] Validation-accuracy=0.595703\u001b[0m\n",
      "\u001b[34m[01/30/2022 18:47:17 INFO 140223575467840] Storing the best model with validation accuracy: 0.595703\u001b[0m\n",
      "\u001b[34m[01/30/2022 18:47:18 INFO 140223575467840] Saved checkpoint to \"/opt/ml/model/image-classification-0003.params\"\u001b[0m\n",
      "\u001b[34m[01/30/2022 18:47:21 INFO 140223575467840] Epoch[3] Batch [20]#011Speed: 357.916 samples/sec#011accuracy=0.634673\u001b[0m\n",
      "\u001b[34m[01/30/2022 18:47:24 INFO 140223575467840] Epoch[3] Train-accuracy=0.653846\u001b[0m\n",
      "\u001b[34m[01/30/2022 18:47:24 INFO 140223575467840] Epoch[3] Time cost=6.761\u001b[0m\n",
      "\u001b[34m[01/30/2022 18:47:25 INFO 140223575467840] Epoch[3] Validation-accuracy=0.603516\u001b[0m\n",
      "\u001b[34m[01/30/2022 18:47:25 INFO 140223575467840] Storing the best model with validation accuracy: 0.603516\u001b[0m\n",
      "\u001b[34m[01/30/2022 18:47:26 INFO 140223575467840] Saved checkpoint to \"/opt/ml/model/image-classification-0004.params\"\u001b[0m\n",
      "\u001b[34m[01/30/2022 18:47:29 INFO 140223575467840] Epoch[4] Batch [20]#011Speed: 357.151 samples/sec#011accuracy=0.684524\u001b[0m\n",
      "\u001b[34m[01/30/2022 18:47:32 INFO 140223575467840] Epoch[4] Train-accuracy=0.697516\u001b[0m\n",
      "\u001b[34m[01/30/2022 18:47:32 INFO 140223575467840] Epoch[4] Time cost=6.769\u001b[0m\n",
      "\u001b[34m[01/30/2022 18:47:33 INFO 140223575467840] Epoch[4] Validation-accuracy=0.593750\u001b[0m\n",
      "\u001b[34m[01/30/2022 18:47:37 INFO 140223575467840] Epoch[5] Batch [20]#011Speed: 358.843 samples/sec#011accuracy=0.770833\u001b[0m\n",
      "\u001b[34m[01/30/2022 18:47:40 INFO 140223575467840] Epoch[5] Train-accuracy=0.748397\u001b[0m\n",
      "\u001b[34m[01/30/2022 18:47:40 INFO 140223575467840] Epoch[5] Time cost=6.748\u001b[0m\n",
      "\u001b[34m[01/30/2022 18:47:41 INFO 140223575467840] Epoch[5] Validation-accuracy=0.617188\u001b[0m\n",
      "\u001b[34m[01/30/2022 18:47:41 INFO 140223575467840] Storing the best model with validation accuracy: 0.617188\u001b[0m\n",
      "\u001b[34m[01/30/2022 18:47:41 INFO 140223575467840] Saved checkpoint to \"/opt/ml/model/image-classification-0006.params\"\u001b[0m\n",
      "\u001b[34m[01/30/2022 18:47:45 INFO 140223575467840] Epoch[6] Batch [20]#011Speed: 356.868 samples/sec#011accuracy=0.773810\u001b[0m\n",
      "\u001b[34m[01/30/2022 18:47:48 INFO 140223575467840] Epoch[6] Train-accuracy=0.772436\u001b[0m\n",
      "\u001b[34m[01/30/2022 18:47:48 INFO 140223575467840] Epoch[6] Time cost=6.784\u001b[0m\n",
      "\u001b[34m[01/30/2022 18:47:49 INFO 140223575467840] Epoch[6] Validation-accuracy=0.658203\u001b[0m\n",
      "\u001b[34m[01/30/2022 18:47:49 INFO 140223575467840] Storing the best model with validation accuracy: 0.658203\u001b[0m\n",
      "\u001b[34m[01/30/2022 18:47:49 INFO 140223575467840] Saved checkpoint to \"/opt/ml/model/image-classification-0007.params\"\u001b[0m\n",
      "\u001b[34m[01/30/2022 18:47:53 INFO 140223575467840] Epoch[7] Batch [20]#011Speed: 359.529 samples/sec#011accuracy=0.808036\u001b[0m\n",
      "\u001b[34m[01/30/2022 18:47:56 INFO 140223575467840] Epoch[7] Train-accuracy=0.802484\u001b[0m\n",
      "\u001b[34m[01/30/2022 18:47:56 INFO 140223575467840] Epoch[7] Time cost=6.729\u001b[0m\n",
      "\u001b[34m[01/30/2022 18:47:57 INFO 140223575467840] Epoch[7] Validation-accuracy=0.587891\u001b[0m\n",
      "\u001b[34m[01/30/2022 18:48:01 INFO 140223575467840] Epoch[8] Batch [20]#011Speed: 358.334 samples/sec#011accuracy=0.847470\u001b[0m\n",
      "\u001b[34m[01/30/2022 18:48:04 INFO 140223575467840] Epoch[8] Train-accuracy=0.844952\u001b[0m\n",
      "\u001b[34m[01/30/2022 18:48:04 INFO 140223575467840] Epoch[8] Time cost=6.768\u001b[0m\n",
      "\u001b[34m[01/30/2022 18:48:04 INFO 140223575467840] Epoch[8] Validation-accuracy=0.597656\u001b[0m\n",
      "\u001b[34m[01/30/2022 18:48:09 INFO 140223575467840] Epoch[9] Batch [20]#011Speed: 352.748 samples/sec#011accuracy=0.873512\u001b[0m\n",
      "\u001b[34m[01/30/2022 18:48:12 INFO 140223575467840] Epoch[9] Train-accuracy=0.869792\u001b[0m\n",
      "\u001b[34m[01/30/2022 18:48:12 INFO 140223575467840] Epoch[9] Time cost=6.788\u001b[0m\n",
      "\u001b[34m[01/30/2022 18:48:12 INFO 140223575467840] Epoch[9] Validation-accuracy=0.687500\u001b[0m\n",
      "\u001b[34m[01/30/2022 18:48:13 INFO 140223575467840] Storing the best model with validation accuracy: 0.687500\u001b[0m\n",
      "\u001b[34m[01/30/2022 18:48:13 INFO 140223575467840] Saved checkpoint to \"/opt/ml/model/image-classification-0010.params\"\u001b[0m\n",
      "\u001b[34m[01/30/2022 18:48:16 INFO 140223575467840] Epoch[10] Batch [20]#011Speed: 360.671 samples/sec#011accuracy=0.908482\u001b[0m\n",
      "\u001b[34m[01/30/2022 18:48:20 INFO 140223575467840] Epoch[10] Train-accuracy=0.910256\u001b[0m\n",
      "\u001b[34m[01/30/2022 18:48:20 INFO 140223575467840] Epoch[10] Time cost=6.717\u001b[0m\n",
      "\u001b[34m[01/30/2022 18:48:20 INFO 140223575467840] Epoch[10] Validation-accuracy=0.685547\u001b[0m\n",
      "\u001b[34m[01/30/2022 18:48:24 INFO 140223575467840] Epoch[11] Batch [20]#011Speed: 358.067 samples/sec#011accuracy=0.943452\u001b[0m\n",
      "\u001b[34m[01/30/2022 18:48:27 INFO 140223575467840] Epoch[11] Train-accuracy=0.927083\u001b[0m\n",
      "\u001b[34m[01/30/2022 18:48:27 INFO 140223575467840] Epoch[11] Time cost=6.738\u001b[0m\n",
      "\u001b[34m[01/30/2022 18:48:28 INFO 140223575467840] Epoch[11] Validation-accuracy=0.654297\u001b[0m\n",
      "\u001b[34m[01/30/2022 18:48:32 INFO 140223575467840] Epoch[12] Batch [20]#011Speed: 359.212 samples/sec#011accuracy=0.933780\u001b[0m\n",
      "\u001b[34m[01/30/2022 18:48:35 INFO 140223575467840] Epoch[12] Train-accuracy=0.929487\u001b[0m\n",
      "\u001b[34m[01/30/2022 18:48:35 INFO 140223575467840] Epoch[12] Time cost=6.730\u001b[0m\n",
      "\u001b[34m[01/30/2022 18:48:36 INFO 140223575467840] Epoch[12] Validation-accuracy=0.677734\u001b[0m\n",
      "\u001b[34m[01/30/2022 18:48:40 INFO 140223575467840] Epoch[13] Batch [20]#011Speed: 358.493 samples/sec#011accuracy=0.945685\u001b[0m\n",
      "\u001b[34m[01/30/2022 18:48:43 INFO 140223575467840] Epoch[13] Train-accuracy=0.931891\u001b[0m\n",
      "\u001b[34m[01/30/2022 18:48:43 INFO 140223575467840] Epoch[13] Time cost=6.734\u001b[0m\n",
      "\u001b[34m[01/30/2022 18:48:44 INFO 140223575467840] Epoch[13] Validation-accuracy=0.675781\u001b[0m\n",
      "\u001b[34m[01/30/2022 18:48:48 INFO 140223575467840] Epoch[14] Batch [20]#011Speed: 361.245 samples/sec#011accuracy=0.939732\u001b[0m\n",
      "\u001b[34m[01/30/2022 18:48:51 INFO 140223575467840] Epoch[14] Train-accuracy=0.933093\u001b[0m\n",
      "\u001b[34m[01/30/2022 18:48:51 INFO 140223575467840] Epoch[14] Time cost=6.766\u001b[0m\n",
      "\u001b[34m[01/30/2022 18:48:51 INFO 140223575467840] Epoch[14] Validation-accuracy=0.629464\u001b[0m\n",
      "\u001b[34m[01/30/2022 18:48:55 INFO 140223575467840] Epoch[15] Batch [20]#011Speed: 358.925 samples/sec#011accuracy=0.944940\u001b[0m\n",
      "\u001b[34m[01/30/2022 18:48:59 INFO 140223575467840] Epoch[15] Train-accuracy=0.945913\u001b[0m\n",
      "\u001b[34m[01/30/2022 18:48:59 INFO 140223575467840] Epoch[15] Time cost=6.727\u001b[0m\n",
      "\u001b[34m[01/30/2022 18:48:59 INFO 140223575467840] Epoch[15] Validation-accuracy=0.689453\u001b[0m\n",
      "\u001b[34m[01/30/2022 18:48:59 INFO 140223575467840] Storing the best model with validation accuracy: 0.689453\u001b[0m\n",
      "\u001b[34m[01/30/2022 18:49:00 INFO 140223575467840] Saved checkpoint to \"/opt/ml/model/image-classification-0016.params\"\u001b[0m\n",
      "\u001b[34m[01/30/2022 18:49:03 INFO 140223575467840] Epoch[16] Batch [20]#011Speed: 354.225 samples/sec#011accuracy=0.959077\u001b[0m\n",
      "\u001b[34m[01/30/2022 18:49:07 INFO 140223575467840] Epoch[16] Train-accuracy=0.952324\u001b[0m\n",
      "\u001b[34m[01/30/2022 18:49:07 INFO 140223575467840] Epoch[16] Time cost=6.847\u001b[0m\n",
      "\u001b[34m[01/30/2022 18:49:07 INFO 140223575467840] Epoch[16] Validation-accuracy=0.691406\u001b[0m\n",
      "\u001b[34m[01/30/2022 18:49:08 INFO 140223575467840] Storing the best model with validation accuracy: 0.691406\u001b[0m\n",
      "\u001b[34m[01/30/2022 18:49:08 INFO 140223575467840] Saved checkpoint to \"/opt/ml/model/image-classification-0017.params\"\u001b[0m\n",
      "\u001b[34m[01/30/2022 18:49:11 INFO 140223575467840] Epoch[17] Batch [20]#011Speed: 362.286 samples/sec#011accuracy=0.951637\u001b[0m\n",
      "\u001b[34m[01/30/2022 18:49:15 INFO 140223575467840] Epoch[17] Train-accuracy=0.948317\u001b[0m\n",
      "\u001b[34m[01/30/2022 18:49:15 INFO 140223575467840] Epoch[17] Time cost=6.680\u001b[0m\n",
      "\u001b[34m[01/30/2022 18:49:15 INFO 140223575467840] Epoch[17] Validation-accuracy=0.664062\u001b[0m\n",
      "\u001b[34m[01/30/2022 18:49:19 INFO 140223575467840] Epoch[18] Batch [20]#011Speed: 359.913 samples/sec#011accuracy=0.968750\u001b[0m\n",
      "\u001b[34m[01/30/2022 18:49:22 INFO 140223575467840] Epoch[18] Train-accuracy=0.964744\u001b[0m\n",
      "\u001b[34m[01/30/2022 18:49:22 INFO 140223575467840] Epoch[18] Time cost=6.714\u001b[0m\n",
      "\u001b[34m[01/30/2022 18:49:23 INFO 140223575467840] Epoch[18] Validation-accuracy=0.667969\u001b[0m\n",
      "\u001b[34m[01/30/2022 18:49:27 INFO 140223575467840] Epoch[19] Batch [20]#011Speed: 359.686 samples/sec#011accuracy=0.969494\u001b[0m\n",
      "\u001b[34m[01/30/2022 18:49:30 INFO 140223575467840] Epoch[19] Train-accuracy=0.974760\u001b[0m\n",
      "\u001b[34m[01/30/2022 18:49:30 INFO 140223575467840] Epoch[19] Time cost=6.696\u001b[0m\n",
      "\u001b[34m[01/30/2022 18:49:31 INFO 140223575467840] Epoch[19] Validation-accuracy=0.703125\u001b[0m\n",
      "\u001b[34m[01/30/2022 18:49:31 INFO 140223575467840] Storing the best model with validation accuracy: 0.703125\u001b[0m\n",
      "\u001b[34m[01/30/2022 18:49:31 INFO 140223575467840] Saved checkpoint to \"/opt/ml/model/image-classification-0020.params\"\u001b[0m\n",
      "\u001b[34m[01/30/2022 18:49:35 INFO 140223575467840] Epoch[20] Batch [20]#011Speed: 361.352 samples/sec#011accuracy=0.991071\u001b[0m\n",
      "\u001b[34m[01/30/2022 18:49:38 INFO 140223575467840] Epoch[20] Train-accuracy=0.987580\u001b[0m\n",
      "\u001b[34m[01/30/2022 18:49:38 INFO 140223575467840] Epoch[20] Time cost=6.695\u001b[0m\n",
      "\u001b[34m[01/30/2022 18:49:39 INFO 140223575467840] Epoch[20] Validation-accuracy=0.747768\u001b[0m\n",
      "\u001b[34m[01/30/2022 18:49:39 INFO 140223575467840] Storing the best model with validation accuracy: 0.747768\u001b[0m\n",
      "\u001b[34m[01/30/2022 18:49:39 INFO 140223575467840] Saved checkpoint to \"/opt/ml/model/image-classification-0021.params\"\u001b[0m\n",
      "\u001b[34m[01/30/2022 18:49:43 INFO 140223575467840] Epoch[21] Batch [20]#011Speed: 361.024 samples/sec#011accuracy=0.991071\u001b[0m\n",
      "\u001b[34m[01/30/2022 18:49:46 INFO 140223575467840] Epoch[21] Train-accuracy=0.986779\u001b[0m\n",
      "\u001b[34m[01/30/2022 18:49:46 INFO 140223575467840] Epoch[21] Time cost=6.695\u001b[0m\n",
      "\u001b[34m[01/30/2022 18:49:46 INFO 140223575467840] Epoch[21] Validation-accuracy=0.708984\u001b[0m\n",
      "\u001b[34m[01/30/2022 18:49:51 INFO 140223575467840] Epoch[22] Batch [20]#011Speed: 361.120 samples/sec#011accuracy=0.981399\u001b[0m\n",
      "\u001b[34m[01/30/2022 18:49:54 INFO 140223575467840] Epoch[22] Train-accuracy=0.981170\u001b[0m\n",
      "\u001b[34m[01/30/2022 18:49:54 INFO 140223575467840] Epoch[22] Time cost=6.685\u001b[0m\n",
      "\u001b[34m[01/30/2022 18:49:54 INFO 140223575467840] Epoch[22] Validation-accuracy=0.710938\u001b[0m\n",
      "\u001b[34m[01/30/2022 18:49:58 INFO 140223575467840] Epoch[23] Batch [20]#011Speed: 359.451 samples/sec#011accuracy=0.984375\u001b[0m\n",
      "\u001b[34m[01/30/2022 18:50:01 INFO 140223575467840] Epoch[23] Train-accuracy=0.984776\u001b[0m\n",
      "\u001b[34m[01/30/2022 18:50:01 INFO 140223575467840] Epoch[23] Time cost=6.721\u001b[0m\n",
      "\u001b[34m[01/30/2022 18:50:02 INFO 140223575467840] Epoch[23] Validation-accuracy=0.710938\u001b[0m\n",
      "\u001b[34m[01/30/2022 18:50:06 INFO 140223575467840] Epoch[24] Batch [20]#011Speed: 352.962 samples/sec#011accuracy=0.986607\u001b[0m\n",
      "\u001b[34m[01/30/2022 18:50:09 INFO 140223575467840] Epoch[24] Train-accuracy=0.987179\u001b[0m\n",
      "\u001b[34m[01/30/2022 18:50:09 INFO 140223575467840] Epoch[24] Time cost=6.791\u001b[0m\n",
      "\u001b[34m[01/30/2022 18:50:10 INFO 140223575467840] Epoch[24] Validation-accuracy=0.730469\u001b[0m\n",
      "\u001b[34m[01/30/2022 18:50:14 INFO 140223575467840] Epoch[25] Batch [20]#011Speed: 360.929 samples/sec#011accuracy=0.993304\u001b[0m\n",
      "\u001b[34m[01/30/2022 18:50:17 INFO 140223575467840] Epoch[25] Train-accuracy=0.989583\u001b[0m\n",
      "\u001b[34m[01/30/2022 18:50:17 INFO 140223575467840] Epoch[25] Time cost=6.732\u001b[0m\n",
      "\u001b[34m[01/30/2022 18:50:18 INFO 140223575467840] Epoch[25] Validation-accuracy=0.736607\u001b[0m\n",
      "\u001b[34m[01/30/2022 18:50:22 INFO 140223575467840] Epoch[26] Batch [20]#011Speed: 359.159 samples/sec#011accuracy=0.994048\u001b[0m\n",
      "\u001b[34m[01/30/2022 18:50:25 INFO 140223575467840] Epoch[26] Train-accuracy=0.994792\u001b[0m\n",
      "\u001b[34m[01/30/2022 18:50:25 INFO 140223575467840] Epoch[26] Time cost=6.699\u001b[0m\n",
      "\u001b[34m[01/30/2022 18:50:26 INFO 140223575467840] Epoch[26] Validation-accuracy=0.707031\u001b[0m\n",
      "\u001b[34m[01/30/2022 18:50:30 INFO 140223575467840] Epoch[27] Batch [20]#011Speed: 359.826 samples/sec#011accuracy=0.995536\u001b[0m\n",
      "\u001b[34m[01/30/2022 18:50:33 INFO 140223575467840] Epoch[27] Train-accuracy=0.995994\u001b[0m\n",
      "\u001b[34m[01/30/2022 18:50:33 INFO 140223575467840] Epoch[27] Time cost=6.699\u001b[0m\n",
      "\u001b[34m[01/30/2022 18:50:33 INFO 140223575467840] Epoch[27] Validation-accuracy=0.730469\u001b[0m\n",
      "\u001b[34m[01/30/2022 18:50:37 INFO 140223575467840] Epoch[28] Batch [20]#011Speed: 359.824 samples/sec#011accuracy=0.999256\u001b[0m\n",
      "\u001b[34m[01/30/2022 18:50:40 INFO 140223575467840] Epoch[28] Train-accuracy=0.998798\u001b[0m\n",
      "\u001b[34m[01/30/2022 18:50:40 INFO 140223575467840] Epoch[28] Time cost=6.711\u001b[0m\n",
      "\u001b[34m[01/30/2022 18:50:41 INFO 140223575467840] Epoch[28] Validation-accuracy=0.722656\u001b[0m\n",
      "\u001b[34m[01/30/2022 18:50:45 INFO 140223575467840] Epoch[29] Batch [20]#011Speed: 359.628 samples/sec#011accuracy=0.996280\u001b[0m\n",
      "\u001b[34m[01/30/2022 18:50:48 INFO 140223575467840] Epoch[29] Train-accuracy=0.995994\u001b[0m\n",
      "\u001b[34m[01/30/2022 18:50:48 INFO 140223575467840] Epoch[29] Time cost=6.702\u001b[0m\n",
      "\u001b[34m[01/30/2022 18:50:49 INFO 140223575467840] Epoch[29] Validation-accuracy=0.738281\u001b[0m\n",
      "\u001b[34m[01/30/2022 18:50:53 INFO 140223575467840] Epoch[30] Batch [20]#011Speed: 357.774 samples/sec#011accuracy=0.997768\u001b[0m\n",
      "\u001b[34m[01/30/2022 18:50:56 INFO 140223575467840] Epoch[30] Train-accuracy=0.996795\u001b[0m\n",
      "\u001b[34m[01/30/2022 18:50:56 INFO 140223575467840] Epoch[30] Time cost=6.709\u001b[0m\n",
      "\u001b[34m[01/30/2022 18:50:56 INFO 140223575467840] Epoch[30] Validation-accuracy=0.743304\u001b[0m\n",
      "\u001b[34m[01/30/2022 18:51:00 INFO 140223575467840] Epoch[31] Batch [20]#011Speed: 357.534 samples/sec#011accuracy=0.999256\u001b[0m\n",
      "\u001b[34m[01/30/2022 18:51:04 INFO 140223575467840] Epoch[31] Train-accuracy=0.999599\u001b[0m\n",
      "\u001b[34m[01/30/2022 18:51:04 INFO 140223575467840] Epoch[31] Time cost=6.733\u001b[0m\n",
      "\u001b[34m[01/30/2022 18:51:04 INFO 140223575467840] Epoch[31] Validation-accuracy=0.724609\u001b[0m\n",
      "\u001b[34m[01/30/2022 18:51:08 INFO 140223575467840] Epoch[32] Batch [20]#011Speed: 349.180 samples/sec#011accuracy=0.999256\u001b[0m\n",
      "\u001b[34m[01/30/2022 18:51:13 INFO 140223575467840] Epoch[32] Train-accuracy=0.998798\u001b[0m\n",
      "\u001b[34m[01/30/2022 18:51:13 INFO 140223575467840] Epoch[32] Time cost=8.146\u001b[0m\n",
      "\u001b[34m[01/30/2022 18:51:13 INFO 140223575467840] Epoch[32] Validation-accuracy=0.724609\u001b[0m\n",
      "\u001b[34m[01/30/2022 18:51:18 INFO 140223575467840] Epoch[33] Batch [20]#011Speed: 361.848 samples/sec#011accuracy=0.998512\u001b[0m\n",
      "\u001b[34m[01/30/2022 18:51:21 INFO 140223575467840] Epoch[33] Train-accuracy=0.998798\u001b[0m\n",
      "\u001b[34m[01/30/2022 18:51:21 INFO 140223575467840] Epoch[33] Time cost=6.678\u001b[0m\n",
      "\u001b[34m[01/30/2022 18:51:21 INFO 140223575467840] Epoch[33] Validation-accuracy=0.738281\u001b[0m\n",
      "\u001b[34m[01/30/2022 18:51:25 INFO 140223575467840] Epoch[34] Batch [20]#011Speed: 357.937 samples/sec#011accuracy=1.000000\u001b[0m\n",
      "\u001b[34m[01/30/2022 18:51:28 INFO 140223575467840] Epoch[34] Train-accuracy=1.000000\u001b[0m\n",
      "\u001b[34m[01/30/2022 18:51:28 INFO 140223575467840] Epoch[34] Time cost=6.740\u001b[0m\n",
      "\u001b[34m[01/30/2022 18:51:29 INFO 140223575467840] Epoch[34] Validation-accuracy=0.744141\u001b[0m\n",
      "\u001b[34m[01/30/2022 18:51:33 INFO 140223575467840] Epoch[35] Batch [20]#011Speed: 360.784 samples/sec#011accuracy=1.000000\u001b[0m\n",
      "\u001b[34m[01/30/2022 18:51:36 INFO 140223575467840] Epoch[35] Train-accuracy=1.000000\u001b[0m\n",
      "\u001b[34m[01/30/2022 18:51:36 INFO 140223575467840] Epoch[35] Time cost=6.700\u001b[0m\n",
      "\u001b[34m[01/30/2022 18:51:37 INFO 140223575467840] Epoch[35] Validation-accuracy=0.742188\u001b[0m\n",
      "\u001b[34m[01/30/2022 18:51:41 INFO 140223575467840] Epoch[36] Batch [20]#011Speed: 361.159 samples/sec#011accuracy=1.000000\u001b[0m\n",
      "\u001b[34m[01/30/2022 18:51:44 INFO 140223575467840] Epoch[36] Train-accuracy=1.000000\u001b[0m\n",
      "\u001b[34m[01/30/2022 18:51:44 INFO 140223575467840] Epoch[36] Time cost=6.687\u001b[0m\n",
      "\u001b[34m[01/30/2022 18:51:44 INFO 140223575467840] Epoch[36] Validation-accuracy=0.754464\u001b[0m\n",
      "\u001b[34m[01/30/2022 18:51:45 INFO 140223575467840] Storing the best model with validation accuracy: 0.754464\u001b[0m\n",
      "\u001b[34m[01/30/2022 18:51:45 INFO 140223575467840] Saved checkpoint to \"/opt/ml/model/image-classification-0037.params\"\u001b[0m\n",
      "\u001b[34m[01/30/2022 18:51:49 INFO 140223575467840] Epoch[37] Batch [20]#011Speed: 359.922 samples/sec#011accuracy=1.000000\u001b[0m\n",
      "\u001b[34m[01/30/2022 18:51:52 INFO 140223575467840] Epoch[37] Train-accuracy=1.000000\u001b[0m\n",
      "\u001b[34m[01/30/2022 18:51:52 INFO 140223575467840] Epoch[37] Time cost=6.682\u001b[0m\n",
      "\u001b[34m[01/30/2022 18:51:52 INFO 140223575467840] Epoch[37] Validation-accuracy=0.734375\u001b[0m\n",
      "\u001b[34m[01/30/2022 18:51:56 INFO 140223575467840] Epoch[38] Batch [20]#011Speed: 358.985 samples/sec#011accuracy=1.000000\u001b[0m\n",
      "\u001b[34m[01/30/2022 18:52:00 INFO 140223575467840] Epoch[38] Train-accuracy=1.000000\u001b[0m\n",
      "\u001b[34m[01/30/2022 18:52:00 INFO 140223575467840] Epoch[38] Time cost=6.764\u001b[0m\n",
      "\u001b[34m[01/30/2022 18:52:00 INFO 140223575467840] Epoch[38] Validation-accuracy=0.734375\u001b[0m\n",
      "\u001b[34m[01/30/2022 18:52:04 INFO 140223575467840] Epoch[39] Batch [20]#011Speed: 357.594 samples/sec#011accuracy=1.000000\u001b[0m\n",
      "\u001b[34m[01/30/2022 18:52:07 INFO 140223575467840] Epoch[39] Train-accuracy=1.000000\u001b[0m\n",
      "\u001b[34m[01/30/2022 18:52:07 INFO 140223575467840] Epoch[39] Time cost=6.779\u001b[0m\n",
      "\u001b[34m[01/30/2022 18:52:08 INFO 140223575467840] Epoch[39] Validation-accuracy=0.742188\u001b[0m\n",
      "\u001b[34m[01/30/2022 18:52:12 INFO 140223575467840] Epoch[40] Batch [20]#011Speed: 360.825 samples/sec#011accuracy=1.000000\u001b[0m\n",
      "\u001b[34m[01/30/2022 18:52:15 INFO 140223575467840] Epoch[40] Train-accuracy=1.000000\u001b[0m\n",
      "\u001b[34m[01/30/2022 18:52:15 INFO 140223575467840] Epoch[40] Time cost=6.724\u001b[0m\n",
      "\u001b[34m[01/30/2022 18:52:16 INFO 140223575467840] Epoch[40] Validation-accuracy=0.742188\u001b[0m\n",
      "\u001b[34m[01/30/2022 18:52:20 INFO 140223575467840] Epoch[41] Batch [20]#011Speed: 353.595 samples/sec#011accuracy=1.000000\u001b[0m\n",
      "\u001b[34m[01/30/2022 18:52:23 INFO 140223575467840] Epoch[41] Train-accuracy=1.000000\u001b[0m\n",
      "\u001b[34m[01/30/2022 18:52:23 INFO 140223575467840] Epoch[41] Time cost=6.796\u001b[0m\n",
      "\u001b[34m[01/30/2022 18:52:24 INFO 140223575467840] Epoch[41] Validation-accuracy=0.754464\u001b[0m\n",
      "\u001b[34m[01/30/2022 18:52:28 INFO 140223575467840] Epoch[42] Batch [20]#011Speed: 359.787 samples/sec#011accuracy=0.999256\u001b[0m\n",
      "\u001b[34m[01/30/2022 18:52:31 INFO 140223575467840] Epoch[42] Train-accuracy=0.999199\u001b[0m\n",
      "\u001b[34m[01/30/2022 18:52:31 INFO 140223575467840] Epoch[42] Time cost=6.707\u001b[0m\n",
      "\u001b[34m[01/30/2022 18:52:31 INFO 140223575467840] Epoch[42] Validation-accuracy=0.724609\u001b[0m\n",
      "\u001b[34m[01/30/2022 18:52:35 INFO 140223575467840] Epoch[43] Batch [20]#011Speed: 360.553 samples/sec#011accuracy=1.000000\u001b[0m\n",
      "\u001b[34m[01/30/2022 18:52:38 INFO 140223575467840] Epoch[43] Train-accuracy=1.000000\u001b[0m\n",
      "\u001b[34m[01/30/2022 18:52:38 INFO 140223575467840] Epoch[43] Time cost=6.698\u001b[0m\n",
      "\u001b[34m[01/30/2022 18:52:39 INFO 140223575467840] Epoch[43] Validation-accuracy=0.728516\u001b[0m\n",
      "\u001b[34m[01/30/2022 18:52:43 INFO 140223575467840] Epoch[44] Batch [20]#011Speed: 361.048 samples/sec#011accuracy=1.000000\u001b[0m\n",
      "\u001b[34m[01/30/2022 18:52:46 INFO 140223575467840] Epoch[44] Train-accuracy=1.000000\u001b[0m\n",
      "\u001b[34m[01/30/2022 18:52:46 INFO 140223575467840] Epoch[44] Time cost=6.691\u001b[0m\n",
      "\u001b[34m[01/30/2022 18:52:47 INFO 140223575467840] Epoch[44] Validation-accuracy=0.732422\u001b[0m\n",
      "\u001b[34m[01/30/2022 18:52:51 INFO 140223575467840] Epoch[45] Batch [20]#011Speed: 361.359 samples/sec#011accuracy=0.998512\u001b[0m\n",
      "\u001b[34m[01/30/2022 18:52:54 INFO 140223575467840] Epoch[45] Train-accuracy=0.998397\u001b[0m\n",
      "\u001b[34m[01/30/2022 18:52:54 INFO 140223575467840] Epoch[45] Time cost=6.700\u001b[0m\n",
      "\u001b[34m[01/30/2022 18:52:55 INFO 140223575467840] Epoch[45] Validation-accuracy=0.732422\u001b[0m\n",
      "\u001b[34m[01/30/2022 18:52:59 INFO 140223575467840] Epoch[46] Batch [20]#011Speed: 361.676 samples/sec#011accuracy=0.999256\u001b[0m\n",
      "\u001b[34m[01/30/2022 18:53:02 INFO 140223575467840] Epoch[46] Train-accuracy=0.999199\u001b[0m\n",
      "\u001b[34m[01/30/2022 18:53:02 INFO 140223575467840] Epoch[46] Time cost=6.704\u001b[0m\n",
      "\u001b[34m[01/30/2022 18:53:02 INFO 140223575467840] Epoch[46] Validation-accuracy=0.732143\u001b[0m\n",
      "\u001b[34m[01/30/2022 18:53:06 INFO 140223575467840] Epoch[47] Batch [20]#011Speed: 354.080 samples/sec#011accuracy=1.000000\u001b[0m\n",
      "\u001b[34m[01/30/2022 18:53:09 INFO 140223575467840] Epoch[47] Train-accuracy=1.000000\u001b[0m\n",
      "\u001b[34m[01/30/2022 18:53:09 INFO 140223575467840] Epoch[47] Time cost=6.791\u001b[0m\n",
      "\u001b[34m[01/30/2022 18:53:10 INFO 140223575467840] Epoch[47] Validation-accuracy=0.740234\u001b[0m\n",
      "\u001b[34m[01/30/2022 18:53:14 INFO 140223575467840] Epoch[48] Batch [20]#011Speed: 357.596 samples/sec#011accuracy=1.000000\u001b[0m\n",
      "\u001b[34m[01/30/2022 18:53:17 INFO 140223575467840] Epoch[48] Train-accuracy=1.000000\u001b[0m\n",
      "\u001b[34m[01/30/2022 18:53:17 INFO 140223575467840] Epoch[48] Time cost=6.719\u001b[0m\n",
      "\u001b[34m[01/30/2022 18:53:18 INFO 140223575467840] Epoch[48] Validation-accuracy=0.750000\u001b[0m\n",
      "\n",
      "2022-01-30 18:53:29 Uploading - Uploading generated training model\u001b[34m[01/30/2022 18:53:22 INFO 140223575467840] Epoch[49] Batch [20]#011Speed: 360.908 samples/sec#011accuracy=0.999256\u001b[0m\n",
      "\u001b[34m[01/30/2022 18:53:25 INFO 140223575467840] Epoch[49] Train-accuracy=0.999599\u001b[0m\n",
      "\u001b[34m[01/30/2022 18:53:25 INFO 140223575467840] Epoch[49] Time cost=6.703\u001b[0m\n",
      "\u001b[34m[01/30/2022 18:53:26 INFO 140223575467840] Epoch[49] Validation-accuracy=0.736328\u001b[0m\n",
      "\n",
      "2022-01-30 18:54:30 Completed - Training job completed\n",
      "ProfilerReport-1643568137: NoIssuesFound\n",
      "Training seconds: 542\n",
      "Billable seconds: 163\n",
      "Managed Spot Training savings: 69.9%\n"
     ]
    }
   ],
   "source": [
    "img_classifier_model.fit(model_inputs)"
   ]
  },
  {
   "cell_type": "markdown",
   "id": "9e1fe822",
   "metadata": {},
   "source": [
    "--- \n",
    "\n",
    "### Deployment\n",
    "\n"
   ]
  },
  {
   "cell_type": "code",
   "execution_count": 38,
   "id": "74ef978d",
   "metadata": {},
   "outputs": [],
   "source": [
    "from sagemaker.model_monitor import DataCaptureConfig\n",
    "\n",
    "data_capture_config = DataCaptureConfig(\n",
    "    enable_capture= True,\n",
    "    sampling_percentage= 100,\n",
    "    destination_s3_uri= f\"s3://{working_bucket}/data_capture\",\n",
    ")"
   ]
  },
  {
   "cell_type": "code",
   "execution_count": 193,
   "id": "04a4f25b",
   "metadata": {},
   "outputs": [],
   "source": [
    "#f'batch_classification-TIME-{dt.now().strftime(\"%Y-%m-%d-%H-%M-%S-%f\")}-ID-{str(uuid4())}'"
   ]
  },
  {
   "cell_type": "markdown",
   "id": "7800e649",
   "metadata": {},
   "source": [
    "##### Two choices for creating an endpoint : \n",
    "- first time creation : next cell\n",
    "- endpoint configuration already created : let's take profit of it ---> second cell below\n",
    "---\n",
    "\n",
    "##### Not both ! "
   ]
  },
  {
   "cell_type": "code",
   "execution_count": 192,
   "id": "b6f2bbc9",
   "metadata": {},
   "outputs": [
    {
     "name": "stdout",
     "output_type": "stream",
     "text": [
      "--------------------------!batch-classification-TIME-2022-01-31-00-39-16-098164\n"
     ]
    }
   ],
   "source": [
    "deployment = img_classifier_model.deploy(\n",
    "    data_capture_config=data_capture_config,\n",
    "    initial_instance_count= 1, \n",
    "    instance_type= 'ml.t2.medium', \n",
    "    endpoint_name= f'batch-classification-TIME-{dt.now().strftime(\"%Y-%m-%d-%H-%M-%S-%f\")}'\n",
    "    )\n",
    "\n",
    "endpoint_name = deployment.endpoint_name\n",
    "print(endpoint_name)"
   ]
  },
  {
   "cell_type": "markdown",
   "id": "eeef45af",
   "metadata": {},
   "source": [
    "##### Alternatively, if configuration endpoint has already been created before, do the following instead of cell above\n",
    "##### Just to change name of configuration config already created"
   ]
  },
  {
   "cell_type": "code",
   "execution_count": 43,
   "id": "6d9a4706",
   "metadata": {},
   "outputs": [
    {
     "data": {
      "text/plain": [
       "{'EndpointArn': 'arn:aws:sagemaker:us-east-1:416312206633:endpoint/endpoint-batch-classification-time-2022-01-31-00-39-16-098164',\n",
       " 'ResponseMetadata': {'RequestId': 'b583c049-083c-44d7-b79c-4686e7ed0b0a',\n",
       "  'HTTPStatusCode': 200,\n",
       "  'HTTPHeaders': {'x-amzn-requestid': 'b583c049-083c-44d7-b79c-4686e7ed0b0a',\n",
       "   'content-type': 'application/x-amz-json-1.1',\n",
       "   'content-length': '129',\n",
       "   'date': 'Mon, 31 Jan 2022 13:15:13 GMT'},\n",
       "  'RetryAttempts': 0}}"
      ]
     },
     "execution_count": 43,
     "metadata": {},
     "output_type": "execute_result"
    }
   ],
   "source": [
    "endpoint_config_name='batch-classification-TIME-2022-01-31-00-39-16-098164'\n",
    "endpoint_name = 'ENDPOINT-' + endpoint_config_name\n",
    "create_endpoint_response = client_sagemaker.create_endpoint(\n",
    "                                    EndpointName=endpoint_name, \n",
    "                                    EndpointConfigName=endpoint_config_name) \n",
    "create_endpoint_response"
   ]
  },
  {
   "cell_type": "markdown",
   "id": "4c21517f",
   "metadata": {},
   "source": [
    "--- \n",
    "#### Predictions"
   ]
  },
  {
   "cell_type": "markdown",
   "id": "65dbf4e8",
   "metadata": {},
   "source": [
    "##### _Predictions and analyses_"
   ]
  },
  {
   "cell_type": "code",
   "execution_count": 46,
   "id": "07bf5ad2",
   "metadata": {},
   "outputs": [],
   "source": [
    "from sagemaker.predictor import Predictor\n",
    "\n",
    "predictor = Predictor(endpoint_name)"
   ]
  },
  {
   "cell_type": "code",
   "execution_count": 47,
   "id": "3b99c074",
   "metadata": {},
   "outputs": [],
   "source": [
    "from sagemaker.serializers import IdentitySerializer\n",
    "\n",
    "predictor.serializer = IdentitySerializer(\"image/png\")\n",
    "with open(\"./test_batch_classification/images/bicycle_s_001789.png\", \"rb\") as f:\n",
    "    payload = f.read()\n",
    "\n",
    "inference = predictor.predict(payload)"
   ]
  },
  {
   "cell_type": "code",
   "execution_count": 48,
   "id": "e033454b",
   "metadata": {},
   "outputs": [
    {
     "name": "stdout",
     "output_type": "stream",
     "text": [
      "b'[0.9782111048698425, 0.013572802767157555, 0.006240911316126585, 0.00013658084208145738, 0.0018385974690318108]'\n"
     ]
    }
   ],
   "source": [
    "print(inference)"
   ]
  },
  {
   "cell_type": "code",
   "execution_count": 49,
   "id": "9d3a6c61",
   "metadata": {},
   "outputs": [],
   "source": [
    "litteral_types_vehicles= [type_vehicle[1].decode('utf-8') for type_vehicle in types_vehicles]"
   ]
  },
  {
   "cell_type": "markdown",
   "id": "b895e29c",
   "metadata": {},
   "source": [
    "--- \n",
    "#### Data capture"
   ]
  },
  {
   "cell_type": "code",
   "execution_count": 37,
   "id": "568b9e19",
   "metadata": {},
   "outputs": [
    {
     "data": {
      "text/plain": [
       "'s3://batch-classification-scones-project/data_capture'"
      ]
     },
     "execution_count": 37,
     "metadata": {},
     "output_type": "execute_result"
    }
   ],
   "source": [
    "f\"s3://{working_bucket}/data_capture\""
   ]
  },
  {
   "cell_type": "markdown",
   "id": "427449fd",
   "metadata": {},
   "source": [
    "##### _Sanitizing local and distant folders for data capture._\n",
    "##### _With precaution, if needed..._"
   ]
  },
  {
   "cell_type": "code",
   "execution_count": 50,
   "id": "39abf00d",
   "metadata": {},
   "outputs": [],
   "source": [
    "#TO SANITIZE DATA CAPTURE FOLDER LOCALLY\n",
    "\n",
    "local_path_of_data_capture = './batch_classification/captured_data'"
   ]
  },
  {
   "cell_type": "code",
   "execution_count": null,
   "id": "34ba1b2f",
   "metadata": {},
   "outputs": [],
   "source": [
    "#os.environ[\"local_path_of_data_capture\"] = local_path_of_data_capture\n",
    "#!echo ${local_path_of_data_capture}"
   ]
  },
  {
   "cell_type": "code",
   "execution_count": null,
   "id": "41b064b8",
   "metadata": {},
   "outputs": [],
   "source": [
    "#!rm -rf local_path_of_data_capture"
   ]
  },
  {
   "cell_type": "code",
   "execution_count": 331,
   "id": "c133062e",
   "metadata": {},
   "outputs": [],
   "source": [
    "#TO SANITIZE DATA CAPTURE FOLDER IN S3, NOT LOCALLY!\n",
    "\n",
    "s3_path_to_sanitize = f's3://{working_bucket}/data_capture/{endpoint_name}/AllTraffic/'\n",
    "# Or s3_path_to_sanitize = f's3://{working_bucket}/data_capture/' # to sanitize everything"
   ]
  },
  {
   "cell_type": "code",
   "execution_count": 187,
   "id": "7914ce41",
   "metadata": {},
   "outputs": [
    {
     "name": "stdout",
     "output_type": "stream",
     "text": [
      "://batch-classification-scones-project/data_capture/batch-classification-TIME-2022-01-30-19-36-14-465184/AllTraffic/\n"
     ]
    }
   ],
   "source": [
    "#os.environ[\"s3_path_to_sanitize\"] = s3_path_to_sanitize\n",
    "#!echo ${s3_path_to_sanitize}"
   ]
  },
  {
   "cell_type": "code",
   "execution_count": null,
   "id": "08efb084",
   "metadata": {},
   "outputs": [],
   "source": [
    "#!aws s3 rm ${folder_to_sanitize} --recursive"
   ]
  },
  {
   "cell_type": "markdown",
   "id": "3eec6711",
   "metadata": {},
   "source": [
    "##### _Downloading from S3 to local folder._"
   ]
  },
  {
   "cell_type": "code",
   "execution_count": 53,
   "id": "a00a3f7f",
   "metadata": {},
   "outputs": [],
   "source": [
    "from sagemaker.s3 import S3Downloader\n",
    "\n",
    "# In S3 your data will be saved to a datetime-aware path\n",
    "# Find a path related to a datetime you're interested in\n",
    "data_capture_path = f\"s3://{working_bucket}/data_capture/\"    #Take all previous predictions if not all folders are sanitized\n",
    "\n",
    "S3Downloader.download(data_capture_path, local_path_of_data_capture)\n",
    "\n"
   ]
  },
  {
   "cell_type": "code",
   "execution_count": 54,
   "id": "a78b925e",
   "metadata": {},
   "outputs": [
    {
     "data": {
      "text/plain": [
       "'s3://batch-classification-scones-project/data_capture/'"
      ]
     },
     "execution_count": 54,
     "metadata": {},
     "output_type": "execute_result"
    }
   ],
   "source": [
    "data_capture_path"
   ]
  },
  {
   "cell_type": "code",
   "execution_count": 55,
   "id": "27173dc5",
   "metadata": {},
   "outputs": [
    {
     "name": "stdout",
     "output_type": "stream",
     "text": [
      "['batch-classification-TIME-2022-01-30-19-36-14-465184', 'batch-classification-TIME-2022-01-31-00-39-16-098164']\n"
     ]
    }
   ],
   "source": [
    "file_handles = os.listdir(local_path_of_data_capture)\n",
    "print(file_handles)"
   ]
  },
  {
   "cell_type": "code",
   "execution_count": 56,
   "id": "20a37178",
   "metadata": {},
   "outputs": [],
   "source": [
    "json_data = []\n",
    "# List the file names we downloaded\n",
    "for root, dirs, files in os.walk(local_path_of_data_capture, topdown=False):\n",
    "    for name in files:\n",
    "        with jsonlines.open(os.path.join(root, name)) as f:\n",
    "            for line in f:\n",
    "                json_data.append(line)    # To take all lines as many jsonlines can exist in a single file !!\n",
    "         #       print(line)\n",
    "        #print(\"###############\" + os.path.join(root, name))"
   ]
  },
  {
   "cell_type": "code",
   "execution_count": 58,
   "id": "a562243a",
   "metadata": {},
   "outputs": [
    {
     "data": {
      "text/plain": [
       "160"
      ]
     },
     "execution_count": 58,
     "metadata": {},
     "output_type": "execute_result"
    }
   ],
   "source": [
    "len(json_data)"
   ]
  },
  {
   "cell_type": "code",
   "execution_count": 59,
   "id": "77e4624d",
   "metadata": {},
   "outputs": [
    {
     "data": {
      "text/html": [
       "<div>\n",
       "<style scoped>\n",
       "    .dataframe tbody tr th:only-of-type {\n",
       "        vertical-align: middle;\n",
       "    }\n",
       "\n",
       "    .dataframe tbody tr th {\n",
       "        vertical-align: top;\n",
       "    }\n",
       "\n",
       "    .dataframe thead th {\n",
       "        text-align: right;\n",
       "    }\n",
       "</style>\n",
       "<table border=\"1\" class=\"dataframe\">\n",
       "  <thead>\n",
       "    <tr style=\"text-align: right;\">\n",
       "      <th></th>\n",
       "      <th>bicycle</th>\n",
       "      <th>motorcycle</th>\n",
       "      <th>streetcar</th>\n",
       "      <th>rocket</th>\n",
       "      <th>tractor</th>\n",
       "      <th>max</th>\n",
       "      <th>id</th>\n",
       "    </tr>\n",
       "  </thead>\n",
       "  <tbody>\n",
       "    <tr>\n",
       "      <th>0</th>\n",
       "      <td>0.00</td>\n",
       "      <td>1.00</td>\n",
       "      <td>0.00</td>\n",
       "      <td>0.00</td>\n",
       "      <td>0.00</td>\n",
       "      <td>1.00</td>\n",
       "      <td>1464</td>\n",
       "    </tr>\n",
       "    <tr>\n",
       "      <th>1</th>\n",
       "      <td>0.22</td>\n",
       "      <td>0.08</td>\n",
       "      <td>0.00</td>\n",
       "      <td>0.27</td>\n",
       "      <td>0.43</td>\n",
       "      <td>0.43</td>\n",
       "      <td>1408</td>\n",
       "    </tr>\n",
       "    <tr>\n",
       "      <th>2</th>\n",
       "      <td>0.00</td>\n",
       "      <td>0.35</td>\n",
       "      <td>0.00</td>\n",
       "      <td>0.20</td>\n",
       "      <td>0.45</td>\n",
       "      <td>0.45</td>\n",
       "      <td>1463</td>\n",
       "    </tr>\n",
       "    <tr>\n",
       "      <th>3</th>\n",
       "      <td>0.00</td>\n",
       "      <td>1.00</td>\n",
       "      <td>0.00</td>\n",
       "      <td>0.00</td>\n",
       "      <td>0.00</td>\n",
       "      <td>1.00</td>\n",
       "      <td>1404</td>\n",
       "    </tr>\n",
       "    <tr>\n",
       "      <th>4</th>\n",
       "      <td>0.00</td>\n",
       "      <td>0.99</td>\n",
       "      <td>0.00</td>\n",
       "      <td>0.01</td>\n",
       "      <td>0.00</td>\n",
       "      <td>0.99</td>\n",
       "      <td>1398</td>\n",
       "    </tr>\n",
       "    <tr>\n",
       "      <th>...</th>\n",
       "      <td>...</td>\n",
       "      <td>...</td>\n",
       "      <td>...</td>\n",
       "      <td>...</td>\n",
       "      <td>...</td>\n",
       "      <td>...</td>\n",
       "      <td>...</td>\n",
       "    </tr>\n",
       "    <tr>\n",
       "      <th>155</th>\n",
       "      <td>0.94</td>\n",
       "      <td>0.05</td>\n",
       "      <td>0.01</td>\n",
       "      <td>0.00</td>\n",
       "      <td>0.00</td>\n",
       "      <td>0.94</td>\n",
       "      <td>2082</td>\n",
       "    </tr>\n",
       "    <tr>\n",
       "      <th>156</th>\n",
       "      <td>0.00</td>\n",
       "      <td>0.00</td>\n",
       "      <td>0.00</td>\n",
       "      <td>0.00</td>\n",
       "      <td>1.00</td>\n",
       "      <td>1.00</td>\n",
       "      <td>2101</td>\n",
       "    </tr>\n",
       "    <tr>\n",
       "      <th>157</th>\n",
       "      <td>0.00</td>\n",
       "      <td>0.00</td>\n",
       "      <td>0.00</td>\n",
       "      <td>0.00</td>\n",
       "      <td>1.00</td>\n",
       "      <td>1.00</td>\n",
       "      <td>2123</td>\n",
       "    </tr>\n",
       "    <tr>\n",
       "      <th>158</th>\n",
       "      <td>0.00</td>\n",
       "      <td>0.00</td>\n",
       "      <td>0.00</td>\n",
       "      <td>1.00</td>\n",
       "      <td>0.00</td>\n",
       "      <td>1.00</td>\n",
       "      <td>2121</td>\n",
       "    </tr>\n",
       "    <tr>\n",
       "      <th>159</th>\n",
       "      <td>0.00</td>\n",
       "      <td>0.00</td>\n",
       "      <td>0.00</td>\n",
       "      <td>0.00</td>\n",
       "      <td>1.00</td>\n",
       "      <td>1.00</td>\n",
       "      <td>2144</td>\n",
       "    </tr>\n",
       "  </tbody>\n",
       "</table>\n",
       "<p>160 rows × 7 columns</p>\n",
       "</div>"
      ],
      "text/plain": [
       "     bicycle  motorcycle  streetcar  rocket  tractor   max    id\n",
       "0       0.00        1.00       0.00    0.00     0.00  1.00  1464\n",
       "1       0.22        0.08       0.00    0.27     0.43  0.43  1408\n",
       "2       0.00        0.35       0.00    0.20     0.45  0.45  1463\n",
       "3       0.00        1.00       0.00    0.00     0.00  1.00  1404\n",
       "4       0.00        0.99       0.00    0.01     0.00  0.99  1398\n",
       "..       ...         ...        ...     ...      ...   ...   ...\n",
       "155     0.94        0.05       0.01    0.00     0.00  0.94  2082\n",
       "156     0.00        0.00       0.00    0.00     1.00  1.00  2101\n",
       "157     0.00        0.00       0.00    0.00     1.00  1.00  2123\n",
       "158     0.00        0.00       0.00    1.00     0.00  1.00  2121\n",
       "159     0.00        0.00       0.00    0.00     1.00  1.00  2144\n",
       "\n",
       "[160 rows x 7 columns]"
      ]
     },
     "execution_count": 59,
     "metadata": {},
     "output_type": "execute_result"
    }
   ],
   "source": [
    "def simple_getter(obj):\n",
    "    inferences = obj[\"captureData\"][\"endpointOutput\"][\"data\"]\n",
    "    timestamp = obj[\"eventMetadata\"][\"inferenceTime\"]\n",
    "    #print(obj[\"eventMetadata\"])\n",
    "    id = int(obj[\"eventMetadata\"][\"customAttributes\"][0] )\n",
    "    return json.loads(inferences), timestamp, id\n",
    "\n",
    "#range(len(json_data))\n",
    "#list_max_inferences = [max(simple_getter(json_data[idx])[0]) for idx in range(len(json_data))]\n",
    "#probabilities= [simple_getter(json_data[idx])[0],  for idx in range(len(json_data))]\n",
    "results = []\n",
    "for element in json_data:\n",
    "    simple_getter(element)\n",
    "    inferences, _, id = simple_getter(element)\n",
    "    max_inferences = round(max(inferences), 2)\n",
    "    #print(f\"MAX  : {max_inferences}\")\n",
    "    results.append([inferences, max_inferences, id])\n",
    "\n",
    "temp = pd.DataFrame(results, columns=[\"probs\", \"max\", \"id\"])\n",
    "df_results = pd.DataFrame(temp['probs'].to_list()).round(2)\n",
    "df_results.columns= litteral_types_vehicles\n",
    "df_results = pd.concat([df_results, temp['max'], temp['id']], axis=1)\n",
    "\n",
    "df_results\n"
   ]
  },
  {
   "cell_type": "code",
   "execution_count": null,
   "id": "241c404d",
   "metadata": {},
   "outputs": [],
   "source": [
    "### DRAFT  ###\n",
    "'''\n",
    "pd.DataFrame({\"results\": results, \"id\": })\n",
    "df_results= pd.DataFrame(pd.DataFrame(\"results\": results).to_list())\n",
    "\n",
    "df_results = df_results.round(2)\n",
    "#df_probabilities_result = pd.DataFrame(probabilities)\n",
    "#df_probabilities_result.round(2).describe()\n",
    "#list_max_inferences\n",
    "#df_probabilities_result.columns= litteral_types_vehicles\n",
    "df_results\n",
    "'''"
   ]
  },
  {
   "cell_type": "code",
   "execution_count": 62,
   "id": "f95b3eb5",
   "metadata": {},
   "outputs": [],
   "source": [
    "#list_max_inferences[8]\n",
    "#probabilities[8]"
   ]
  },
  {
   "cell_type": "code",
   "execution_count": 95,
   "id": "22047169",
   "metadata": {},
   "outputs": [
    {
     "data": {
      "text/plain": [
       "(dtype('int64'), dtype('int64'))"
      ]
     },
     "execution_count": 95,
     "metadata": {},
     "output_type": "execute_result"
    }
   ],
   "source": [
    "df_results['id'].dtype, df_pool_vehicles_to_test['id_vehicle'].dtype"
   ]
  },
  {
   "cell_type": "code",
   "execution_count": 87,
   "id": "79fe6075",
   "metadata": {},
   "outputs": [
    {
     "data": {
      "text/html": [
       "<div>\n",
       "<style scoped>\n",
       "    .dataframe tbody tr th:only-of-type {\n",
       "        vertical-align: middle;\n",
       "    }\n",
       "\n",
       "    .dataframe tbody tr th {\n",
       "        vertical-align: top;\n",
       "    }\n",
       "\n",
       "    .dataframe thead th {\n",
       "        text-align: right;\n",
       "    }\n",
       "</style>\n",
       "<table border=\"1\" class=\"dataframe\">\n",
       "  <thead>\n",
       "    <tr style=\"text-align: right;\">\n",
       "      <th></th>\n",
       "      <th>id_vehicle</th>\n",
       "      <th>number_type_vehicle</th>\n",
       "      <th>filename</th>\n",
       "    </tr>\n",
       "  </thead>\n",
       "  <tbody>\n",
       "    <tr>\n",
       "      <th>0</th>\n",
       "      <td>12</td>\n",
       "      <td>3</td>\n",
       "      <td>streetcar_s_000382.png</td>\n",
       "    </tr>\n",
       "    <tr>\n",
       "      <th>1</th>\n",
       "      <td>13</td>\n",
       "      <td>2</td>\n",
       "      <td>sounding_rocket_s_000010.png</td>\n",
       "    </tr>\n",
       "    <tr>\n",
       "      <th>2</th>\n",
       "      <td>27</td>\n",
       "      <td>0</td>\n",
       "      <td>safety_bike_s_000390.png</td>\n",
       "    </tr>\n",
       "    <tr>\n",
       "      <th>3</th>\n",
       "      <td>28</td>\n",
       "      <td>0</td>\n",
       "      <td>bike_s_000658.png</td>\n",
       "    </tr>\n",
       "    <tr>\n",
       "      <th>4</th>\n",
       "      <td>59</td>\n",
       "      <td>2</td>\n",
       "      <td>exocet_s_000376.png</td>\n",
       "    </tr>\n",
       "    <tr>\n",
       "      <th>...</th>\n",
       "      <td>...</td>\n",
       "      <td>...</td>\n",
       "      <td>...</td>\n",
       "    </tr>\n",
       "    <tr>\n",
       "      <th>495</th>\n",
       "      <td>9922</td>\n",
       "      <td>4</td>\n",
       "      <td>bulldozer_s_000636.png</td>\n",
       "    </tr>\n",
       "    <tr>\n",
       "      <th>496</th>\n",
       "      <td>9928</td>\n",
       "      <td>0</td>\n",
       "      <td>ordinary_bicycle_s_000105.png</td>\n",
       "    </tr>\n",
       "    <tr>\n",
       "      <th>497</th>\n",
       "      <td>9939</td>\n",
       "      <td>0</td>\n",
       "      <td>bicycle_s_001218.png</td>\n",
       "    </tr>\n",
       "    <tr>\n",
       "      <th>498</th>\n",
       "      <td>9946</td>\n",
       "      <td>2</td>\n",
       "      <td>ballistic_missile_s_001240.png</td>\n",
       "    </tr>\n",
       "    <tr>\n",
       "      <th>499</th>\n",
       "      <td>9969</td>\n",
       "      <td>4</td>\n",
       "      <td>dozer_s_000167.png</td>\n",
       "    </tr>\n",
       "  </tbody>\n",
       "</table>\n",
       "<p>500 rows × 3 columns</p>\n",
       "</div>"
      ],
      "text/plain": [
       "     id_vehicle  number_type_vehicle                        filename\n",
       "0            12                    3          streetcar_s_000382.png\n",
       "1            13                    2    sounding_rocket_s_000010.png\n",
       "2            27                    0        safety_bike_s_000390.png\n",
       "3            28                    0               bike_s_000658.png\n",
       "4            59                    2             exocet_s_000376.png\n",
       "..          ...                  ...                             ...\n",
       "495        9922                    4          bulldozer_s_000636.png\n",
       "496        9928                    0   ordinary_bicycle_s_000105.png\n",
       "497        9939                    0            bicycle_s_001218.png\n",
       "498        9946                    2  ballistic_missile_s_001240.png\n",
       "499        9969                    4              dozer_s_000167.png\n",
       "\n",
       "[500 rows x 3 columns]"
      ]
     },
     "execution_count": 87,
     "metadata": {},
     "output_type": "execute_result"
    }
   ],
   "source": [
    "df_pool_vehicles_to_test = pd.read_csv(\"./test_batch_classification.lst\", sep=\"\\t\", header=None)\n",
    "df_pool_vehicles_to_test.columns=['id_vehicle', 'number_type_vehicle', 'filename']\n",
    "df_pool_vehicles_to_test"
   ]
  },
  {
   "cell_type": "code",
   "execution_count": 88,
   "id": "66f03a9d",
   "metadata": {},
   "outputs": [
    {
     "data": {
      "text/plain": [
       "0        12\n",
       "1        13\n",
       "2        27\n",
       "3        28\n",
       "4        59\n",
       "       ... \n",
       "495    9922\n",
       "496    9928\n",
       "497    9939\n",
       "498    9946\n",
       "499    9969\n",
       "Name: id_vehicle, Length: 500, dtype: int64"
      ]
     },
     "execution_count": 88,
     "metadata": {},
     "output_type": "execute_result"
    }
   ],
   "source": [
    "df_pool_vehicles_to_test['id_vehicle']"
   ]
  },
  {
   "cell_type": "code",
   "execution_count": 98,
   "id": "8de8768c",
   "metadata": {},
   "outputs": [
    {
     "data": {
      "text/plain": [
       "False    460\n",
       "True      40\n",
       "Name: id_vehicle, dtype: int64"
      ]
     },
     "execution_count": 98,
     "metadata": {},
     "output_type": "execute_result"
    }
   ],
   "source": [
    "df_pool_vehicles_to_test['id_vehicle'].isin(df_results['id']).value_counts()"
   ]
  },
  {
   "cell_type": "code",
   "execution_count": 104,
   "id": "36daf9ec",
   "metadata": {},
   "outputs": [
    {
     "data": {
      "text/html": [
       "<div>\n",
       "<style scoped>\n",
       "    .dataframe tbody tr th:only-of-type {\n",
       "        vertical-align: middle;\n",
       "    }\n",
       "\n",
       "    .dataframe tbody tr th {\n",
       "        vertical-align: top;\n",
       "    }\n",
       "\n",
       "    .dataframe thead th {\n",
       "        text-align: right;\n",
       "    }\n",
       "</style>\n",
       "<table border=\"1\" class=\"dataframe\">\n",
       "  <thead>\n",
       "    <tr style=\"text-align: right;\">\n",
       "      <th></th>\n",
       "      <th>id_vehicle</th>\n",
       "      <th>number_type_vehicle</th>\n",
       "      <th>filename</th>\n",
       "    </tr>\n",
       "  </thead>\n",
       "  <tbody>\n",
       "    <tr>\n",
       "      <th>72</th>\n",
       "      <td>1398</td>\n",
       "      <td>0</td>\n",
       "      <td>cycle_s_001297.png</td>\n",
       "    </tr>\n",
       "    <tr>\n",
       "      <th>73</th>\n",
       "      <td>1404</td>\n",
       "      <td>1</td>\n",
       "      <td>motorcycle_s_001955.png</td>\n",
       "    </tr>\n",
       "    <tr>\n",
       "      <th>74</th>\n",
       "      <td>1408</td>\n",
       "      <td>0</td>\n",
       "      <td>cycle_s_001953.png</td>\n",
       "    </tr>\n",
       "    <tr>\n",
       "      <th>75</th>\n",
       "      <td>1463</td>\n",
       "      <td>1</td>\n",
       "      <td>motorcycle_s_000494.png</td>\n",
       "    </tr>\n",
       "    <tr>\n",
       "      <th>76</th>\n",
       "      <td>1464</td>\n",
       "      <td>1</td>\n",
       "      <td>motorcycle_s_001249.png</td>\n",
       "    </tr>\n",
       "  </tbody>\n",
       "</table>\n",
       "</div>"
      ],
      "text/plain": [
       "    id_vehicle  number_type_vehicle                 filename\n",
       "72        1398                    0       cycle_s_001297.png\n",
       "73        1404                    1  motorcycle_s_001955.png\n",
       "74        1408                    0       cycle_s_001953.png\n",
       "75        1463                    1  motorcycle_s_000494.png\n",
       "76        1464                    1  motorcycle_s_001249.png"
      ]
     },
     "execution_count": 104,
     "metadata": {},
     "output_type": "execute_result"
    }
   ],
   "source": [
    "df_pool_vehicles_to_test[df_pool_vehicles_to_test['id_vehicle'].isin(df_results['id'])].head()"
   ]
  },
  {
   "cell_type": "code",
   "execution_count": 106,
   "id": "bc193df7",
   "metadata": {},
   "outputs": [
    {
     "data": {
      "text/plain": [
       "False    460\n",
       "True      40\n",
       "Name: id_vehicle, dtype: int64"
      ]
     },
     "execution_count": 106,
     "metadata": {},
     "output_type": "execute_result"
    }
   ],
   "source": [
    "df_pool_vehicles_to_test['id_vehicle'].isin(df_results['id']).value_counts()"
   ]
  },
  {
   "cell_type": "code",
   "execution_count": 107,
   "id": "a380bec7",
   "metadata": {},
   "outputs": [
    {
     "data": {
      "text/html": [
       "<div>\n",
       "<style scoped>\n",
       "    .dataframe tbody tr th:only-of-type {\n",
       "        vertical-align: middle;\n",
       "    }\n",
       "\n",
       "    .dataframe tbody tr th {\n",
       "        vertical-align: top;\n",
       "    }\n",
       "\n",
       "    .dataframe thead th {\n",
       "        text-align: right;\n",
       "    }\n",
       "</style>\n",
       "<table border=\"1\" class=\"dataframe\">\n",
       "  <thead>\n",
       "    <tr style=\"text-align: right;\">\n",
       "      <th></th>\n",
       "      <th>id_vehicle</th>\n",
       "      <th>number_type_vehicle</th>\n",
       "      <th>filename</th>\n",
       "    </tr>\n",
       "  </thead>\n",
       "  <tbody>\n",
       "    <tr>\n",
       "      <th>72</th>\n",
       "      <td>1398</td>\n",
       "      <td>0</td>\n",
       "      <td>cycle_s_001297.png</td>\n",
       "    </tr>\n",
       "    <tr>\n",
       "      <th>73</th>\n",
       "      <td>1404</td>\n",
       "      <td>1</td>\n",
       "      <td>motorcycle_s_001955.png</td>\n",
       "    </tr>\n",
       "    <tr>\n",
       "      <th>74</th>\n",
       "      <td>1408</td>\n",
       "      <td>0</td>\n",
       "      <td>cycle_s_001953.png</td>\n",
       "    </tr>\n",
       "    <tr>\n",
       "      <th>75</th>\n",
       "      <td>1463</td>\n",
       "      <td>1</td>\n",
       "      <td>motorcycle_s_000494.png</td>\n",
       "    </tr>\n",
       "    <tr>\n",
       "      <th>76</th>\n",
       "      <td>1464</td>\n",
       "      <td>1</td>\n",
       "      <td>motorcycle_s_001249.png</td>\n",
       "    </tr>\n",
       "    <tr>\n",
       "      <th>77</th>\n",
       "      <td>1469</td>\n",
       "      <td>0</td>\n",
       "      <td>velocipede_s_000292.png</td>\n",
       "    </tr>\n",
       "    <tr>\n",
       "      <th>78</th>\n",
       "      <td>1522</td>\n",
       "      <td>2</td>\n",
       "      <td>research_rocket_s_000011.png</td>\n",
       "    </tr>\n",
       "    <tr>\n",
       "      <th>79</th>\n",
       "      <td>1534</td>\n",
       "      <td>2</td>\n",
       "      <td>rocket_s_000056.png</td>\n",
       "    </tr>\n",
       "    <tr>\n",
       "      <th>80</th>\n",
       "      <td>1545</td>\n",
       "      <td>3</td>\n",
       "      <td>streetcar_s_001754.png</td>\n",
       "    </tr>\n",
       "    <tr>\n",
       "      <th>81</th>\n",
       "      <td>1554</td>\n",
       "      <td>2</td>\n",
       "      <td>guided_missile_s_000378.png</td>\n",
       "    </tr>\n",
       "    <tr>\n",
       "      <th>82</th>\n",
       "      <td>1671</td>\n",
       "      <td>1</td>\n",
       "      <td>minibike_s_001651.png</td>\n",
       "    </tr>\n",
       "    <tr>\n",
       "      <th>83</th>\n",
       "      <td>1675</td>\n",
       "      <td>0</td>\n",
       "      <td>bicycle_s_001102.png</td>\n",
       "    </tr>\n",
       "    <tr>\n",
       "      <th>84</th>\n",
       "      <td>1685</td>\n",
       "      <td>2</td>\n",
       "      <td>icbm_s_000068.png</td>\n",
       "    </tr>\n",
       "    <tr>\n",
       "      <th>85</th>\n",
       "      <td>1721</td>\n",
       "      <td>3</td>\n",
       "      <td>streetcar_s_001603.png</td>\n",
       "    </tr>\n",
       "    <tr>\n",
       "      <th>86</th>\n",
       "      <td>1735</td>\n",
       "      <td>2</td>\n",
       "      <td>missile_s_002019.png</td>\n",
       "    </tr>\n",
       "    <tr>\n",
       "      <th>87</th>\n",
       "      <td>1745</td>\n",
       "      <td>2</td>\n",
       "      <td>rocket_s_001799.png</td>\n",
       "    </tr>\n",
       "    <tr>\n",
       "      <th>88</th>\n",
       "      <td>1753</td>\n",
       "      <td>4</td>\n",
       "      <td>tractor_s_000764.png</td>\n",
       "    </tr>\n",
       "    <tr>\n",
       "      <th>89</th>\n",
       "      <td>1775</td>\n",
       "      <td>0</td>\n",
       "      <td>safety_bike_s_001132.png</td>\n",
       "    </tr>\n",
       "    <tr>\n",
       "      <th>90</th>\n",
       "      <td>1812</td>\n",
       "      <td>1</td>\n",
       "      <td>moped_s_000007.png</td>\n",
       "    </tr>\n",
       "    <tr>\n",
       "      <th>91</th>\n",
       "      <td>1829</td>\n",
       "      <td>1</td>\n",
       "      <td>motorcycle_s_000211.png</td>\n",
       "    </tr>\n",
       "    <tr>\n",
       "      <th>92</th>\n",
       "      <td>1864</td>\n",
       "      <td>4</td>\n",
       "      <td>bulldozer_s_001609.png</td>\n",
       "    </tr>\n",
       "    <tr>\n",
       "      <th>93</th>\n",
       "      <td>1874</td>\n",
       "      <td>2</td>\n",
       "      <td>icbm_s_000848.png</td>\n",
       "    </tr>\n",
       "    <tr>\n",
       "      <th>94</th>\n",
       "      <td>1881</td>\n",
       "      <td>4</td>\n",
       "      <td>dozer_s_000973.png</td>\n",
       "    </tr>\n",
       "    <tr>\n",
       "      <th>95</th>\n",
       "      <td>1900</td>\n",
       "      <td>3</td>\n",
       "      <td>streetcar_s_000225.png</td>\n",
       "    </tr>\n",
       "    <tr>\n",
       "      <th>96</th>\n",
       "      <td>1907</td>\n",
       "      <td>3</td>\n",
       "      <td>streetcar_s_000489.png</td>\n",
       "    </tr>\n",
       "    <tr>\n",
       "      <th>97</th>\n",
       "      <td>1931</td>\n",
       "      <td>2</td>\n",
       "      <td>step_rocket_s_000170.png</td>\n",
       "    </tr>\n",
       "    <tr>\n",
       "      <th>98</th>\n",
       "      <td>1935</td>\n",
       "      <td>2</td>\n",
       "      <td>ballistic_missile_s_001435.png</td>\n",
       "    </tr>\n",
       "    <tr>\n",
       "      <th>99</th>\n",
       "      <td>1976</td>\n",
       "      <td>4</td>\n",
       "      <td>tractor_s_000454.png</td>\n",
       "    </tr>\n",
       "    <tr>\n",
       "      <th>100</th>\n",
       "      <td>1999</td>\n",
       "      <td>0</td>\n",
       "      <td>cycle_s_000970.png</td>\n",
       "    </tr>\n",
       "    <tr>\n",
       "      <th>101</th>\n",
       "      <td>2025</td>\n",
       "      <td>3</td>\n",
       "      <td>streetcar_s_001846.png</td>\n",
       "    </tr>\n",
       "    <tr>\n",
       "      <th>102</th>\n",
       "      <td>2029</td>\n",
       "      <td>4</td>\n",
       "      <td>dozer_s_000978.png</td>\n",
       "    </tr>\n",
       "    <tr>\n",
       "      <th>103</th>\n",
       "      <td>2033</td>\n",
       "      <td>1</td>\n",
       "      <td>motorcycle_s_002126.png</td>\n",
       "    </tr>\n",
       "    <tr>\n",
       "      <th>104</th>\n",
       "      <td>2057</td>\n",
       "      <td>2</td>\n",
       "      <td>icbm_s_001656.png</td>\n",
       "    </tr>\n",
       "    <tr>\n",
       "      <th>105</th>\n",
       "      <td>2066</td>\n",
       "      <td>1</td>\n",
       "      <td>minibike_s_001732.png</td>\n",
       "    </tr>\n",
       "    <tr>\n",
       "      <th>106</th>\n",
       "      <td>2072</td>\n",
       "      <td>1</td>\n",
       "      <td>minibike_s_001867.png</td>\n",
       "    </tr>\n",
       "    <tr>\n",
       "      <th>107</th>\n",
       "      <td>2082</td>\n",
       "      <td>1</td>\n",
       "      <td>minibike_s_002227.png</td>\n",
       "    </tr>\n",
       "    <tr>\n",
       "      <th>108</th>\n",
       "      <td>2101</td>\n",
       "      <td>4</td>\n",
       "      <td>dozer_s_000497.png</td>\n",
       "    </tr>\n",
       "    <tr>\n",
       "      <th>109</th>\n",
       "      <td>2121</td>\n",
       "      <td>3</td>\n",
       "      <td>streetcar_s_001207.png</td>\n",
       "    </tr>\n",
       "    <tr>\n",
       "      <th>110</th>\n",
       "      <td>2123</td>\n",
       "      <td>4</td>\n",
       "      <td>bulldozer_s_000073.png</td>\n",
       "    </tr>\n",
       "    <tr>\n",
       "      <th>111</th>\n",
       "      <td>2144</td>\n",
       "      <td>4</td>\n",
       "      <td>tractor_s_000365.png</td>\n",
       "    </tr>\n",
       "  </tbody>\n",
       "</table>\n",
       "</div>"
      ],
      "text/plain": [
       "     id_vehicle  number_type_vehicle                        filename\n",
       "72         1398                    0              cycle_s_001297.png\n",
       "73         1404                    1         motorcycle_s_001955.png\n",
       "74         1408                    0              cycle_s_001953.png\n",
       "75         1463                    1         motorcycle_s_000494.png\n",
       "76         1464                    1         motorcycle_s_001249.png\n",
       "77         1469                    0         velocipede_s_000292.png\n",
       "78         1522                    2    research_rocket_s_000011.png\n",
       "79         1534                    2             rocket_s_000056.png\n",
       "80         1545                    3          streetcar_s_001754.png\n",
       "81         1554                    2     guided_missile_s_000378.png\n",
       "82         1671                    1           minibike_s_001651.png\n",
       "83         1675                    0            bicycle_s_001102.png\n",
       "84         1685                    2               icbm_s_000068.png\n",
       "85         1721                    3          streetcar_s_001603.png\n",
       "86         1735                    2            missile_s_002019.png\n",
       "87         1745                    2             rocket_s_001799.png\n",
       "88         1753                    4            tractor_s_000764.png\n",
       "89         1775                    0        safety_bike_s_001132.png\n",
       "90         1812                    1              moped_s_000007.png\n",
       "91         1829                    1         motorcycle_s_000211.png\n",
       "92         1864                    4          bulldozer_s_001609.png\n",
       "93         1874                    2               icbm_s_000848.png\n",
       "94         1881                    4              dozer_s_000973.png\n",
       "95         1900                    3          streetcar_s_000225.png\n",
       "96         1907                    3          streetcar_s_000489.png\n",
       "97         1931                    2        step_rocket_s_000170.png\n",
       "98         1935                    2  ballistic_missile_s_001435.png\n",
       "99         1976                    4            tractor_s_000454.png\n",
       "100        1999                    0              cycle_s_000970.png\n",
       "101        2025                    3          streetcar_s_001846.png\n",
       "102        2029                    4              dozer_s_000978.png\n",
       "103        2033                    1         motorcycle_s_002126.png\n",
       "104        2057                    2               icbm_s_001656.png\n",
       "105        2066                    1           minibike_s_001732.png\n",
       "106        2072                    1           minibike_s_001867.png\n",
       "107        2082                    1           minibike_s_002227.png\n",
       "108        2101                    4              dozer_s_000497.png\n",
       "109        2121                    3          streetcar_s_001207.png\n",
       "110        2123                    4          bulldozer_s_000073.png\n",
       "111        2144                    4            tractor_s_000365.png"
      ]
     },
     "execution_count": 107,
     "metadata": {},
     "output_type": "execute_result"
    }
   ],
   "source": []
  },
  {
   "cell_type": "code",
   "execution_count": 119,
   "id": "ddc368a3",
   "metadata": {},
   "outputs": [
    {
     "data": {
      "text/html": [
       "<div>\n",
       "<style scoped>\n",
       "    .dataframe tbody tr th:only-of-type {\n",
       "        vertical-align: middle;\n",
       "    }\n",
       "\n",
       "    .dataframe tbody tr th {\n",
       "        vertical-align: top;\n",
       "    }\n",
       "\n",
       "    .dataframe thead th {\n",
       "        text-align: right;\n",
       "    }\n",
       "</style>\n",
       "<table border=\"1\" class=\"dataframe\">\n",
       "  <thead>\n",
       "    <tr style=\"text-align: right;\">\n",
       "      <th></th>\n",
       "      <th>id_vehicle</th>\n",
       "      <th>number_type_vehicle</th>\n",
       "      <th>filename</th>\n",
       "    </tr>\n",
       "  </thead>\n",
       "  <tbody>\n",
       "    <tr>\n",
       "      <th>76</th>\n",
       "      <td>1464</td>\n",
       "      <td>1</td>\n",
       "      <td>motorcycle_s_001249.png</td>\n",
       "    </tr>\n",
       "  </tbody>\n",
       "</table>\n",
       "</div>"
      ],
      "text/plain": [
       "    id_vehicle  number_type_vehicle                 filename\n",
       "76        1464                    1  motorcycle_s_001249.png"
      ]
     },
     "execution_count": 119,
     "metadata": {},
     "output_type": "execute_result"
    }
   ],
   "source": [
    "vehicle_row=df_pool_vehicles_to_test[df_pool_vehicles_to_test['id_vehicle']==1464]\n",
    "vehicle_row"
   ]
  },
  {
   "cell_type": "code",
   "execution_count": 146,
   "id": "d31e8231",
   "metadata": {},
   "outputs": [
    {
     "name": "stdout",
     "output_type": "stream",
     "text": [
      "3\n"
     ]
    }
   ],
   "source": [
    "#df_results['id'].apply(lambda x: x.Fee in [20000,22000], axis=1)\n",
    "def get_real_number_type_vehicle(x):\n",
    "    vehicle_row=df_pool_vehicles_to_test[df_pool_vehicles_to_test['id_vehicle']==x]\n",
    "    #print(vehicle_row)\n",
    "    return int(vehicle_row['number_type_vehicle'])\n",
    "\n",
    "#df_results['id'].apply(lambda x : x )\n",
    "print(get_real_number_type_vehicle(2121))"
   ]
  },
  {
   "cell_type": "code",
   "execution_count": 152,
   "id": "0545d90c",
   "metadata": {},
   "outputs": [
    {
     "data": {
      "text/html": [
       "<div>\n",
       "<style scoped>\n",
       "    .dataframe tbody tr th:only-of-type {\n",
       "        vertical-align: middle;\n",
       "    }\n",
       "\n",
       "    .dataframe tbody tr th {\n",
       "        vertical-align: top;\n",
       "    }\n",
       "\n",
       "    .dataframe thead th {\n",
       "        text-align: right;\n",
       "    }\n",
       "</style>\n",
       "<table border=\"1\" class=\"dataframe\">\n",
       "  <thead>\n",
       "    <tr style=\"text-align: right;\">\n",
       "      <th></th>\n",
       "      <th>bicycle</th>\n",
       "      <th>motorcycle</th>\n",
       "      <th>streetcar</th>\n",
       "      <th>rocket</th>\n",
       "      <th>tractor</th>\n",
       "      <th>max</th>\n",
       "      <th>id</th>\n",
       "      <th>real type</th>\n",
       "      <th>real type name</th>\n",
       "      <th>real type number</th>\n",
       "    </tr>\n",
       "  </thead>\n",
       "  <tbody>\n",
       "    <tr>\n",
       "      <th>0</th>\n",
       "      <td>0.00</td>\n",
       "      <td>1.00</td>\n",
       "      <td>0.00</td>\n",
       "      <td>0.00</td>\n",
       "      <td>0.00</td>\n",
       "      <td>1.00</td>\n",
       "      <td>1464</td>\n",
       "      <td>1</td>\n",
       "      <td>motorcycle</td>\n",
       "      <td>1</td>\n",
       "    </tr>\n",
       "    <tr>\n",
       "      <th>1</th>\n",
       "      <td>0.22</td>\n",
       "      <td>0.08</td>\n",
       "      <td>0.00</td>\n",
       "      <td>0.27</td>\n",
       "      <td>0.43</td>\n",
       "      <td>0.43</td>\n",
       "      <td>1408</td>\n",
       "      <td>0</td>\n",
       "      <td>bicycle</td>\n",
       "      <td>0</td>\n",
       "    </tr>\n",
       "    <tr>\n",
       "      <th>2</th>\n",
       "      <td>0.00</td>\n",
       "      <td>0.35</td>\n",
       "      <td>0.00</td>\n",
       "      <td>0.20</td>\n",
       "      <td>0.45</td>\n",
       "      <td>0.45</td>\n",
       "      <td>1463</td>\n",
       "      <td>1</td>\n",
       "      <td>motorcycle</td>\n",
       "      <td>1</td>\n",
       "    </tr>\n",
       "    <tr>\n",
       "      <th>3</th>\n",
       "      <td>0.00</td>\n",
       "      <td>1.00</td>\n",
       "      <td>0.00</td>\n",
       "      <td>0.00</td>\n",
       "      <td>0.00</td>\n",
       "      <td>1.00</td>\n",
       "      <td>1404</td>\n",
       "      <td>1</td>\n",
       "      <td>motorcycle</td>\n",
       "      <td>1</td>\n",
       "    </tr>\n",
       "    <tr>\n",
       "      <th>4</th>\n",
       "      <td>0.00</td>\n",
       "      <td>0.99</td>\n",
       "      <td>0.00</td>\n",
       "      <td>0.01</td>\n",
       "      <td>0.00</td>\n",
       "      <td>0.99</td>\n",
       "      <td>1398</td>\n",
       "      <td>0</td>\n",
       "      <td>bicycle</td>\n",
       "      <td>0</td>\n",
       "    </tr>\n",
       "    <tr>\n",
       "      <th>...</th>\n",
       "      <td>...</td>\n",
       "      <td>...</td>\n",
       "      <td>...</td>\n",
       "      <td>...</td>\n",
       "      <td>...</td>\n",
       "      <td>...</td>\n",
       "      <td>...</td>\n",
       "      <td>...</td>\n",
       "      <td>...</td>\n",
       "      <td>...</td>\n",
       "    </tr>\n",
       "    <tr>\n",
       "      <th>155</th>\n",
       "      <td>0.94</td>\n",
       "      <td>0.05</td>\n",
       "      <td>0.01</td>\n",
       "      <td>0.00</td>\n",
       "      <td>0.00</td>\n",
       "      <td>0.94</td>\n",
       "      <td>2082</td>\n",
       "      <td>1</td>\n",
       "      <td>motorcycle</td>\n",
       "      <td>1</td>\n",
       "    </tr>\n",
       "    <tr>\n",
       "      <th>156</th>\n",
       "      <td>0.00</td>\n",
       "      <td>0.00</td>\n",
       "      <td>0.00</td>\n",
       "      <td>0.00</td>\n",
       "      <td>1.00</td>\n",
       "      <td>1.00</td>\n",
       "      <td>2101</td>\n",
       "      <td>4</td>\n",
       "      <td>tractor</td>\n",
       "      <td>4</td>\n",
       "    </tr>\n",
       "    <tr>\n",
       "      <th>157</th>\n",
       "      <td>0.00</td>\n",
       "      <td>0.00</td>\n",
       "      <td>0.00</td>\n",
       "      <td>0.00</td>\n",
       "      <td>1.00</td>\n",
       "      <td>1.00</td>\n",
       "      <td>2123</td>\n",
       "      <td>4</td>\n",
       "      <td>tractor</td>\n",
       "      <td>4</td>\n",
       "    </tr>\n",
       "    <tr>\n",
       "      <th>158</th>\n",
       "      <td>0.00</td>\n",
       "      <td>0.00</td>\n",
       "      <td>0.00</td>\n",
       "      <td>1.00</td>\n",
       "      <td>0.00</td>\n",
       "      <td>1.00</td>\n",
       "      <td>2121</td>\n",
       "      <td>3</td>\n",
       "      <td>rocket</td>\n",
       "      <td>3</td>\n",
       "    </tr>\n",
       "    <tr>\n",
       "      <th>159</th>\n",
       "      <td>0.00</td>\n",
       "      <td>0.00</td>\n",
       "      <td>0.00</td>\n",
       "      <td>0.00</td>\n",
       "      <td>1.00</td>\n",
       "      <td>1.00</td>\n",
       "      <td>2144</td>\n",
       "      <td>4</td>\n",
       "      <td>tractor</td>\n",
       "      <td>4</td>\n",
       "    </tr>\n",
       "  </tbody>\n",
       "</table>\n",
       "<p>160 rows × 10 columns</p>\n",
       "</div>"
      ],
      "text/plain": [
       "     bicycle  motorcycle  streetcar  rocket  tractor   max    id  real type  \\\n",
       "0       0.00        1.00       0.00    0.00     0.00  1.00  1464          1   \n",
       "1       0.22        0.08       0.00    0.27     0.43  0.43  1408          0   \n",
       "2       0.00        0.35       0.00    0.20     0.45  0.45  1463          1   \n",
       "3       0.00        1.00       0.00    0.00     0.00  1.00  1404          1   \n",
       "4       0.00        0.99       0.00    0.01     0.00  0.99  1398          0   \n",
       "..       ...         ...        ...     ...      ...   ...   ...        ...   \n",
       "155     0.94        0.05       0.01    0.00     0.00  0.94  2082          1   \n",
       "156     0.00        0.00       0.00    0.00     1.00  1.00  2101          4   \n",
       "157     0.00        0.00       0.00    0.00     1.00  1.00  2123          4   \n",
       "158     0.00        0.00       0.00    1.00     0.00  1.00  2121          3   \n",
       "159     0.00        0.00       0.00    0.00     1.00  1.00  2144          4   \n",
       "\n",
       "    real type name  real type number  \n",
       "0       motorcycle                 1  \n",
       "1          bicycle                 0  \n",
       "2       motorcycle                 1  \n",
       "3       motorcycle                 1  \n",
       "4          bicycle                 0  \n",
       "..             ...               ...  \n",
       "155     motorcycle                 1  \n",
       "156        tractor                 4  \n",
       "157        tractor                 4  \n",
       "158         rocket                 3  \n",
       "159        tractor                 4  \n",
       "\n",
       "[160 rows x 10 columns]"
      ]
     },
     "execution_count": 152,
     "metadata": {},
     "output_type": "execute_result"
    }
   ],
   "source": [
    "df_results['real type number']=df_results['id'].apply(lambda x : get_real_number_type_vehicle(x) )\n",
    "df_results['real type name']=df_results['real type number'].apply(lambda x: litteral_types_vehicles[x])\n",
    "df_results"
   ]
  },
  {
   "cell_type": "code",
   "execution_count": 158,
   "id": "9e60d925",
   "metadata": {},
   "outputs": [
    {
     "data": {
      "text/html": [
       "<div>\n",
       "<style scoped>\n",
       "    .dataframe tbody tr th:only-of-type {\n",
       "        vertical-align: middle;\n",
       "    }\n",
       "\n",
       "    .dataframe tbody tr th {\n",
       "        vertical-align: top;\n",
       "    }\n",
       "\n",
       "    .dataframe thead th {\n",
       "        text-align: right;\n",
       "    }\n",
       "</style>\n",
       "<table border=\"1\" class=\"dataframe\">\n",
       "  <thead>\n",
       "    <tr style=\"text-align: right;\">\n",
       "      <th></th>\n",
       "      <th>bicycle</th>\n",
       "      <th>motorcycle</th>\n",
       "      <th>streetcar</th>\n",
       "      <th>rocket</th>\n",
       "      <th>tractor</th>\n",
       "      <th>max</th>\n",
       "      <th>id</th>\n",
       "      <th>real type name</th>\n",
       "      <th>real type number</th>\n",
       "    </tr>\n",
       "  </thead>\n",
       "  <tbody>\n",
       "    <tr>\n",
       "      <th>0</th>\n",
       "      <td>0.00</td>\n",
       "      <td>1.00</td>\n",
       "      <td>0.00</td>\n",
       "      <td>0.00</td>\n",
       "      <td>0.00</td>\n",
       "      <td>1.00</td>\n",
       "      <td>1464</td>\n",
       "      <td>motorcycle</td>\n",
       "      <td>1</td>\n",
       "    </tr>\n",
       "    <tr>\n",
       "      <th>1</th>\n",
       "      <td>0.22</td>\n",
       "      <td>0.08</td>\n",
       "      <td>0.00</td>\n",
       "      <td>0.27</td>\n",
       "      <td>0.43</td>\n",
       "      <td>0.43</td>\n",
       "      <td>1408</td>\n",
       "      <td>bicycle</td>\n",
       "      <td>0</td>\n",
       "    </tr>\n",
       "    <tr>\n",
       "      <th>2</th>\n",
       "      <td>0.00</td>\n",
       "      <td>0.35</td>\n",
       "      <td>0.00</td>\n",
       "      <td>0.20</td>\n",
       "      <td>0.45</td>\n",
       "      <td>0.45</td>\n",
       "      <td>1463</td>\n",
       "      <td>motorcycle</td>\n",
       "      <td>1</td>\n",
       "    </tr>\n",
       "    <tr>\n",
       "      <th>3</th>\n",
       "      <td>0.00</td>\n",
       "      <td>1.00</td>\n",
       "      <td>0.00</td>\n",
       "      <td>0.00</td>\n",
       "      <td>0.00</td>\n",
       "      <td>1.00</td>\n",
       "      <td>1404</td>\n",
       "      <td>motorcycle</td>\n",
       "      <td>1</td>\n",
       "    </tr>\n",
       "    <tr>\n",
       "      <th>4</th>\n",
       "      <td>0.00</td>\n",
       "      <td>0.99</td>\n",
       "      <td>0.00</td>\n",
       "      <td>0.01</td>\n",
       "      <td>0.00</td>\n",
       "      <td>0.99</td>\n",
       "      <td>1398</td>\n",
       "      <td>bicycle</td>\n",
       "      <td>0</td>\n",
       "    </tr>\n",
       "    <tr>\n",
       "      <th>...</th>\n",
       "      <td>...</td>\n",
       "      <td>...</td>\n",
       "      <td>...</td>\n",
       "      <td>...</td>\n",
       "      <td>...</td>\n",
       "      <td>...</td>\n",
       "      <td>...</td>\n",
       "      <td>...</td>\n",
       "      <td>...</td>\n",
       "    </tr>\n",
       "    <tr>\n",
       "      <th>155</th>\n",
       "      <td>0.94</td>\n",
       "      <td>0.05</td>\n",
       "      <td>0.01</td>\n",
       "      <td>0.00</td>\n",
       "      <td>0.00</td>\n",
       "      <td>0.94</td>\n",
       "      <td>2082</td>\n",
       "      <td>motorcycle</td>\n",
       "      <td>1</td>\n",
       "    </tr>\n",
       "    <tr>\n",
       "      <th>156</th>\n",
       "      <td>0.00</td>\n",
       "      <td>0.00</td>\n",
       "      <td>0.00</td>\n",
       "      <td>0.00</td>\n",
       "      <td>1.00</td>\n",
       "      <td>1.00</td>\n",
       "      <td>2101</td>\n",
       "      <td>tractor</td>\n",
       "      <td>4</td>\n",
       "    </tr>\n",
       "    <tr>\n",
       "      <th>157</th>\n",
       "      <td>0.00</td>\n",
       "      <td>0.00</td>\n",
       "      <td>0.00</td>\n",
       "      <td>0.00</td>\n",
       "      <td>1.00</td>\n",
       "      <td>1.00</td>\n",
       "      <td>2123</td>\n",
       "      <td>tractor</td>\n",
       "      <td>4</td>\n",
       "    </tr>\n",
       "    <tr>\n",
       "      <th>158</th>\n",
       "      <td>0.00</td>\n",
       "      <td>0.00</td>\n",
       "      <td>0.00</td>\n",
       "      <td>1.00</td>\n",
       "      <td>0.00</td>\n",
       "      <td>1.00</td>\n",
       "      <td>2121</td>\n",
       "      <td>rocket</td>\n",
       "      <td>3</td>\n",
       "    </tr>\n",
       "    <tr>\n",
       "      <th>159</th>\n",
       "      <td>0.00</td>\n",
       "      <td>0.00</td>\n",
       "      <td>0.00</td>\n",
       "      <td>0.00</td>\n",
       "      <td>1.00</td>\n",
       "      <td>1.00</td>\n",
       "      <td>2144</td>\n",
       "      <td>tractor</td>\n",
       "      <td>4</td>\n",
       "    </tr>\n",
       "  </tbody>\n",
       "</table>\n",
       "<p>160 rows × 9 columns</p>\n",
       "</div>"
      ],
      "text/plain": [
       "     bicycle  motorcycle  streetcar  rocket  tractor   max    id  \\\n",
       "0       0.00        1.00       0.00    0.00     0.00  1.00  1464   \n",
       "1       0.22        0.08       0.00    0.27     0.43  0.43  1408   \n",
       "2       0.00        0.35       0.00    0.20     0.45  0.45  1463   \n",
       "3       0.00        1.00       0.00    0.00     0.00  1.00  1404   \n",
       "4       0.00        0.99       0.00    0.01     0.00  0.99  1398   \n",
       "..       ...         ...        ...     ...      ...   ...   ...   \n",
       "155     0.94        0.05       0.01    0.00     0.00  0.94  2082   \n",
       "156     0.00        0.00       0.00    0.00     1.00  1.00  2101   \n",
       "157     0.00        0.00       0.00    0.00     1.00  1.00  2123   \n",
       "158     0.00        0.00       0.00    1.00     0.00  1.00  2121   \n",
       "159     0.00        0.00       0.00    0.00     1.00  1.00  2144   \n",
       "\n",
       "    real type name  real type number  \n",
       "0       motorcycle                 1  \n",
       "1          bicycle                 0  \n",
       "2       motorcycle                 1  \n",
       "3       motorcycle                 1  \n",
       "4          bicycle                 0  \n",
       "..             ...               ...  \n",
       "155     motorcycle                 1  \n",
       "156        tractor                 4  \n",
       "157        tractor                 4  \n",
       "158         rocket                 3  \n",
       "159        tractor                 4  \n",
       "\n",
       "[160 rows x 9 columns]"
      ]
     },
     "execution_count": 158,
     "metadata": {},
     "output_type": "execute_result"
    }
   ],
   "source": [
    "df_results"
   ]
  },
  {
   "cell_type": "code",
   "execution_count": 181,
   "id": "e223fa1d",
   "metadata": {},
   "outputs": [
    {
     "data": {
      "text/html": [
       "<div>\n",
       "<style scoped>\n",
       "    .dataframe tbody tr th:only-of-type {\n",
       "        vertical-align: middle;\n",
       "    }\n",
       "\n",
       "    .dataframe tbody tr th {\n",
       "        vertical-align: top;\n",
       "    }\n",
       "\n",
       "    .dataframe thead th {\n",
       "        text-align: right;\n",
       "    }\n",
       "</style>\n",
       "<table border=\"1\" class=\"dataframe\">\n",
       "  <thead>\n",
       "    <tr style=\"text-align: right;\">\n",
       "      <th></th>\n",
       "      <th>bicycle</th>\n",
       "      <th>motorcycle</th>\n",
       "      <th>streetcar</th>\n",
       "      <th>rocket</th>\n",
       "      <th>tractor</th>\n",
       "      <th>max</th>\n",
       "      <th>id</th>\n",
       "      <th>real type name</th>\n",
       "      <th>real type number</th>\n",
       "      <th>infered type</th>\n",
       "      <th>comparison</th>\n",
       "    </tr>\n",
       "  </thead>\n",
       "  <tbody>\n",
       "    <tr>\n",
       "      <th>0</th>\n",
       "      <td>0.00</td>\n",
       "      <td>1.00</td>\n",
       "      <td>0.00</td>\n",
       "      <td>0.00</td>\n",
       "      <td>0.00</td>\n",
       "      <td>1.00</td>\n",
       "      <td>1464</td>\n",
       "      <td>motorcycle</td>\n",
       "      <td>1</td>\n",
       "      <td>motorcycle</td>\n",
       "      <td>True</td>\n",
       "    </tr>\n",
       "    <tr>\n",
       "      <th>1</th>\n",
       "      <td>0.22</td>\n",
       "      <td>0.08</td>\n",
       "      <td>0.00</td>\n",
       "      <td>0.27</td>\n",
       "      <td>0.43</td>\n",
       "      <td>0.43</td>\n",
       "      <td>1408</td>\n",
       "      <td>bicycle</td>\n",
       "      <td>0</td>\n",
       "      <td>tractor</td>\n",
       "      <td>False</td>\n",
       "    </tr>\n",
       "    <tr>\n",
       "      <th>2</th>\n",
       "      <td>0.00</td>\n",
       "      <td>0.35</td>\n",
       "      <td>0.00</td>\n",
       "      <td>0.20</td>\n",
       "      <td>0.45</td>\n",
       "      <td>0.45</td>\n",
       "      <td>1463</td>\n",
       "      <td>motorcycle</td>\n",
       "      <td>1</td>\n",
       "      <td>tractor</td>\n",
       "      <td>False</td>\n",
       "    </tr>\n",
       "    <tr>\n",
       "      <th>3</th>\n",
       "      <td>0.00</td>\n",
       "      <td>1.00</td>\n",
       "      <td>0.00</td>\n",
       "      <td>0.00</td>\n",
       "      <td>0.00</td>\n",
       "      <td>1.00</td>\n",
       "      <td>1404</td>\n",
       "      <td>motorcycle</td>\n",
       "      <td>1</td>\n",
       "      <td>motorcycle</td>\n",
       "      <td>True</td>\n",
       "    </tr>\n",
       "    <tr>\n",
       "      <th>4</th>\n",
       "      <td>0.00</td>\n",
       "      <td>0.99</td>\n",
       "      <td>0.00</td>\n",
       "      <td>0.01</td>\n",
       "      <td>0.00</td>\n",
       "      <td>0.99</td>\n",
       "      <td>1398</td>\n",
       "      <td>bicycle</td>\n",
       "      <td>0</td>\n",
       "      <td>motorcycle</td>\n",
       "      <td>False</td>\n",
       "    </tr>\n",
       "    <tr>\n",
       "      <th>...</th>\n",
       "      <td>...</td>\n",
       "      <td>...</td>\n",
       "      <td>...</td>\n",
       "      <td>...</td>\n",
       "      <td>...</td>\n",
       "      <td>...</td>\n",
       "      <td>...</td>\n",
       "      <td>...</td>\n",
       "      <td>...</td>\n",
       "      <td>...</td>\n",
       "      <td>...</td>\n",
       "    </tr>\n",
       "    <tr>\n",
       "      <th>155</th>\n",
       "      <td>0.94</td>\n",
       "      <td>0.05</td>\n",
       "      <td>0.01</td>\n",
       "      <td>0.00</td>\n",
       "      <td>0.00</td>\n",
       "      <td>0.94</td>\n",
       "      <td>2082</td>\n",
       "      <td>motorcycle</td>\n",
       "      <td>1</td>\n",
       "      <td>bicycle</td>\n",
       "      <td>False</td>\n",
       "    </tr>\n",
       "    <tr>\n",
       "      <th>156</th>\n",
       "      <td>0.00</td>\n",
       "      <td>0.00</td>\n",
       "      <td>0.00</td>\n",
       "      <td>0.00</td>\n",
       "      <td>1.00</td>\n",
       "      <td>1.00</td>\n",
       "      <td>2101</td>\n",
       "      <td>tractor</td>\n",
       "      <td>4</td>\n",
       "      <td>tractor</td>\n",
       "      <td>True</td>\n",
       "    </tr>\n",
       "    <tr>\n",
       "      <th>157</th>\n",
       "      <td>0.00</td>\n",
       "      <td>0.00</td>\n",
       "      <td>0.00</td>\n",
       "      <td>0.00</td>\n",
       "      <td>1.00</td>\n",
       "      <td>1.00</td>\n",
       "      <td>2123</td>\n",
       "      <td>tractor</td>\n",
       "      <td>4</td>\n",
       "      <td>tractor</td>\n",
       "      <td>True</td>\n",
       "    </tr>\n",
       "    <tr>\n",
       "      <th>158</th>\n",
       "      <td>0.00</td>\n",
       "      <td>0.00</td>\n",
       "      <td>0.00</td>\n",
       "      <td>1.00</td>\n",
       "      <td>0.00</td>\n",
       "      <td>1.00</td>\n",
       "      <td>2121</td>\n",
       "      <td>rocket</td>\n",
       "      <td>3</td>\n",
       "      <td>rocket</td>\n",
       "      <td>True</td>\n",
       "    </tr>\n",
       "    <tr>\n",
       "      <th>159</th>\n",
       "      <td>0.00</td>\n",
       "      <td>0.00</td>\n",
       "      <td>0.00</td>\n",
       "      <td>0.00</td>\n",
       "      <td>1.00</td>\n",
       "      <td>1.00</td>\n",
       "      <td>2144</td>\n",
       "      <td>tractor</td>\n",
       "      <td>4</td>\n",
       "      <td>tractor</td>\n",
       "      <td>True</td>\n",
       "    </tr>\n",
       "  </tbody>\n",
       "</table>\n",
       "<p>160 rows × 11 columns</p>\n",
       "</div>"
      ],
      "text/plain": [
       "     bicycle  motorcycle  streetcar  rocket  tractor   max    id  \\\n",
       "0       0.00        1.00       0.00    0.00     0.00  1.00  1464   \n",
       "1       0.22        0.08       0.00    0.27     0.43  0.43  1408   \n",
       "2       0.00        0.35       0.00    0.20     0.45  0.45  1463   \n",
       "3       0.00        1.00       0.00    0.00     0.00  1.00  1404   \n",
       "4       0.00        0.99       0.00    0.01     0.00  0.99  1398   \n",
       "..       ...         ...        ...     ...      ...   ...   ...   \n",
       "155     0.94        0.05       0.01    0.00     0.00  0.94  2082   \n",
       "156     0.00        0.00       0.00    0.00     1.00  1.00  2101   \n",
       "157     0.00        0.00       0.00    0.00     1.00  1.00  2123   \n",
       "158     0.00        0.00       0.00    1.00     0.00  1.00  2121   \n",
       "159     0.00        0.00       0.00    0.00     1.00  1.00  2144   \n",
       "\n",
       "    real type name  real type number infered type  comparison  \n",
       "0       motorcycle                 1   motorcycle        True  \n",
       "1          bicycle                 0      tractor       False  \n",
       "2       motorcycle                 1      tractor       False  \n",
       "3       motorcycle                 1   motorcycle        True  \n",
       "4          bicycle                 0   motorcycle       False  \n",
       "..             ...               ...          ...         ...  \n",
       "155     motorcycle                 1      bicycle       False  \n",
       "156        tractor                 4      tractor        True  \n",
       "157        tractor                 4      tractor        True  \n",
       "158         rocket                 3       rocket        True  \n",
       "159        tractor                 4      tractor        True  \n",
       "\n",
       "[160 rows x 11 columns]"
      ]
     },
     "execution_count": 181,
     "metadata": {},
     "output_type": "execute_result"
    }
   ],
   "source": [
    "df_results['infered type']=df_results[litteral_types_vehicles].idxmax(axis=1)\n",
    "df_results['comparison']= (df_results['real type name']==df_results['infered type'])\n",
    "\n",
    "df_results"
   ]
  },
  {
   "cell_type": "code",
   "execution_count": 182,
   "id": "d21d9d2e",
   "metadata": {},
   "outputs": [
    {
     "data": {
      "text/plain": [
       "bicycle  motorcycle  streetcar  rocket  tractor  max   id    real type name  real type number  infered type  comparison\n",
       "1.00     0.00        0.00       0.00    0.00     1.00  1999  bicycle         0                 bicycle       True          4\n",
       "                                                       1675  bicycle         0                 bicycle       True          4\n",
       "0.00     0.04        0.00       0.90    0.06     0.90  1900  rocket          3                 rocket        True          4\n",
       "         0.00        1.00       0.00    0.00     1.00  1935  streetcar       2                 streetcar     True          4\n",
       "                                                       1931  streetcar       2                 streetcar     True          4\n",
       "                                                       1745  streetcar       2                 streetcar     True          4\n",
       "                                                       1735  streetcar       2                 streetcar     True          4\n",
       "                                                       1522  streetcar       2                 streetcar     True          4\n",
       "                     0.58       0.42    0.00     0.58  1554  streetcar       2                 streetcar     True          4\n",
       "                     0.11       0.89    0.00     0.89  1685  streetcar       2                 rocket        False         4\n",
       "                     0.00       1.00    0.00     1.00  2121  rocket          3                 rocket        True          4\n",
       "                                                       1907  rocket          3                 rocket        True          4\n",
       "                                                       1545  rocket          3                 rocket        True          4\n",
       "                                0.13    0.87     0.87  2072  motorcycle      1                 tractor       False         4\n",
       "                                0.03    0.97     0.97  1864  tractor         4                 tractor       True          4\n",
       "                                0.01    0.99     0.99  1881  tractor         4                 tractor       True          4\n",
       "                                0.00    1.00     1.00  2144  tractor         4                 tractor       True          4\n",
       "                                                       2123  tractor         4                 tractor       True          4\n",
       "                                                       2101  tractor         4                 tractor       True          4\n",
       "         0.35        0.00       0.20    0.45     0.45  1463  motorcycle      1                 tractor       False         4\n",
       "         0.48        0.00       0.00    0.51     0.51  2033  motorcycle      1                 tractor       False         4\n",
       "         0.81        0.00       0.17    0.02     0.81  1976  tractor         4                 motorcycle    False         4\n",
       "0.09     0.88        0.01       0.01    0.01     0.88  1829  motorcycle      1                 motorcycle    True          4\n",
       "1.00     0.00        0.00       0.00    0.00     1.00  1469  bicycle         0                 bicycle       True          4\n",
       "0.98     0.02        0.00       0.00    0.00     0.98  1775  bicycle         0                 bicycle       True          4\n",
       "0.97     0.00        0.00       0.00    0.02     0.97  1753  tractor         4                 bicycle       False         4\n",
       "0.94     0.05        0.01       0.00    0.00     0.94  2082  motorcycle      1                 bicycle       False         4\n",
       "0.83     0.00        0.02       0.00    0.15     0.83  2029  tractor         4                 bicycle       False         4\n",
       "0.26     0.00        0.74       0.00    0.00     0.74  1534  streetcar       2                 streetcar     True          4\n",
       "0.22     0.08        0.00       0.27    0.43     0.43  1408  bicycle         0                 tractor       False         4\n",
       "0.04     0.04        0.00       0.00    0.92     0.92  1721  rocket          3                 tractor       False         4\n",
       "0.00     0.99        0.00       0.01    0.00     0.99  1398  bicycle         0                 motorcycle    False         4\n",
       "0.04     0.00        0.96       0.00    0.00     0.96  1874  streetcar       2                 streetcar     True          4\n",
       "0.02     0.27        0.19       0.40    0.11     0.40  2057  streetcar       2                 rocket        False         4\n",
       "0.00     1.00        0.00       0.00    0.00     1.00  2066  motorcycle      1                 motorcycle    True          4\n",
       "                                                       1812  motorcycle      1                 motorcycle    True          4\n",
       "                                                       1671  motorcycle      1                 motorcycle    True          4\n",
       "                                                       1464  motorcycle      1                 motorcycle    True          4\n",
       "                                                       1404  motorcycle      1                 motorcycle    True          4\n",
       "         0.00        0.00       0.00    1.00     1.00  2025  rocket          3                 tractor       False         4\n",
       "dtype: int64"
      ]
     },
     "execution_count": 182,
     "metadata": {},
     "output_type": "execute_result"
    }
   ],
   "source": [
    "df_results.value_counts()"
   ]
  },
  {
   "cell_type": "code",
   "execution_count": 183,
   "id": "8ef83dc5",
   "metadata": {},
   "outputs": [
    {
     "data": {
      "text/plain": [
       "True     108\n",
       "False     52\n",
       "Name: comparison, dtype: int64"
      ]
     },
     "execution_count": 183,
     "metadata": {},
     "output_type": "execute_result"
    }
   ],
   "source": [
    "df_results['comparison'].value_counts()"
   ]
  },
  {
   "cell_type": "code",
   "execution_count": 188,
   "id": "46075ec6",
   "metadata": {},
   "outputs": [],
   "source": [
    "#pd.crosstab(index=df_results['comparison'].value_counts(), columns=\"proportions\", normalize='index')"
   ]
  },
  {
   "cell_type": "code",
   "execution_count": 332,
   "id": "55aa652d",
   "metadata": {},
   "outputs": [
    {
     "data": {
      "text/plain": [
       "0.675"
      ]
     },
     "execution_count": 332,
     "metadata": {},
     "output_type": "execute_result"
    }
   ],
   "source": [
    "accuracy = 108/(52+108)\n",
    "accuracy"
   ]
  },
  {
   "cell_type": "markdown",
   "id": "3c379ee9",
   "metadata": {},
   "source": [
    "Not so great... "
   ]
  },
  {
   "cell_type": "markdown",
   "id": "a8fb0fb8",
   "metadata": {},
   "source": [
    "##### Confusion matrix "
   ]
  },
  {
   "cell_type": "code",
   "execution_count": 334,
   "id": "ff017e59",
   "metadata": {},
   "outputs": [
    {
     "data": {
      "text/html": [
       "<div>\n",
       "<style scoped>\n",
       "    .dataframe tbody tr th:only-of-type {\n",
       "        vertical-align: middle;\n",
       "    }\n",
       "\n",
       "    .dataframe tbody tr th {\n",
       "        vertical-align: top;\n",
       "    }\n",
       "\n",
       "    .dataframe thead th {\n",
       "        text-align: right;\n",
       "    }\n",
       "</style>\n",
       "<table border=\"1\" class=\"dataframe\">\n",
       "  <thead>\n",
       "    <tr style=\"text-align: right;\">\n",
       "      <th>Predicted</th>\n",
       "      <th>bicycle</th>\n",
       "      <th>motorcycle</th>\n",
       "      <th>rocket</th>\n",
       "      <th>streetcar</th>\n",
       "      <th>tractor</th>\n",
       "    </tr>\n",
       "    <tr>\n",
       "      <th>Actual</th>\n",
       "      <th></th>\n",
       "      <th></th>\n",
       "      <th></th>\n",
       "      <th></th>\n",
       "      <th></th>\n",
       "    </tr>\n",
       "  </thead>\n",
       "  <tbody>\n",
       "    <tr>\n",
       "      <th>bicycle</th>\n",
       "      <td>16</td>\n",
       "      <td>4</td>\n",
       "      <td>0</td>\n",
       "      <td>0</td>\n",
       "      <td>4</td>\n",
       "    </tr>\n",
       "    <tr>\n",
       "      <th>motorcycle</th>\n",
       "      <td>4</td>\n",
       "      <td>24</td>\n",
       "      <td>0</td>\n",
       "      <td>0</td>\n",
       "      <td>12</td>\n",
       "    </tr>\n",
       "    <tr>\n",
       "      <th>rocket</th>\n",
       "      <td>0</td>\n",
       "      <td>0</td>\n",
       "      <td>16</td>\n",
       "      <td>0</td>\n",
       "      <td>8</td>\n",
       "    </tr>\n",
       "    <tr>\n",
       "      <th>streetcar</th>\n",
       "      <td>0</td>\n",
       "      <td>0</td>\n",
       "      <td>8</td>\n",
       "      <td>32</td>\n",
       "      <td>0</td>\n",
       "    </tr>\n",
       "    <tr>\n",
       "      <th>tractor</th>\n",
       "      <td>8</td>\n",
       "      <td>4</td>\n",
       "      <td>0</td>\n",
       "      <td>0</td>\n",
       "      <td>20</td>\n",
       "    </tr>\n",
       "  </tbody>\n",
       "</table>\n",
       "</div>"
      ],
      "text/plain": [
       "Predicted   bicycle  motorcycle  rocket  streetcar  tractor\n",
       "Actual                                                     \n",
       "bicycle          16           4       0          0        4\n",
       "motorcycle        4          24       0          0       12\n",
       "rocket            0           0      16          0        8\n",
       "streetcar         0           0       8         32        0\n",
       "tractor           8           4       0          0       20"
      ]
     },
     "execution_count": 334,
     "metadata": {},
     "output_type": "execute_result"
    }
   ],
   "source": [
    "confusion_matrix = pd.crosstab(df_results['real type name'], df_results['infered type'], rownames= ['Actual'], colnames= ['Predicted'])\n",
    "confusion_matrix"
   ]
  },
  {
   "cell_type": "markdown",
   "id": "ae935924",
   "metadata": {},
   "source": [
    "As we can see, some very specific associations appear : \n",
    "- motorcycle, bicycle and tractors are often confused between themselves\n",
    "- rocket can be predicted as tractor \n",
    "- streetcar can be predicted as as rocket"
   ]
  },
  {
   "cell_type": "code",
   "execution_count": 194,
   "id": "f910f731",
   "metadata": {},
   "outputs": [
    {
     "data": {
      "image/png": "[encoded data removed]",
      "text/plain": [
       "<Figure size 432x288 with 1 Axes>"
      ]
     },
     "metadata": {
      "needs_background": "light"
     },
     "output_type": "display_data"
    }
   ],
   "source": [
    "#pd.crosstab(df.Region, df.Type, normalize='index').plot.bar(stacked=True)\n",
    "pd.crosstab(df_results['real type name'], df_results['infered type'], rownames= ['Actual'], colnames= ['Predicted'], normalize='index') \\\n",
    "  .plot.bar(stacked=True);\n",
    "#pd.crosstab(df.Region, df.Type, normalize='index').plot.bar(stacked=True)\n",
    "#confusion_matrix.plot.bar(stacked=True)"
   ]
  },
  {
   "cell_type": "code",
   "execution_count": 195,
   "id": "1fc5c382",
   "metadata": {},
   "outputs": [],
   "source": [
    "#df_results['id'].isin(pool_vehicles_to_test)"
   ]
  },
  {
   "cell_type": "code",
   "execution_count": 179,
   "id": "06f201ba",
   "metadata": {},
   "outputs": [
    {
     "data": {
      "text/plain": [
       "['bicycle', 'motorcycle', 'streetcar', 'rocket', 'tractor']"
      ]
     },
     "execution_count": 179,
     "metadata": {},
     "output_type": "execute_result"
    }
   ],
   "source": [
    "litteral_types_vehicles"
   ]
  },
  {
   "cell_type": "code",
   "execution_count": 212,
   "id": "adb2ad51",
   "metadata": {},
   "outputs": [
    {
     "data": {
      "text/plain": [
       "'tractor_s_000657.png'"
      ]
     },
     "execution_count": 212,
     "metadata": {},
     "output_type": "execute_result"
    }
   ],
   "source": [
    "string = \"test_batch_classification/images/tractor_s_000657.png\"\n",
    "string.split('/')[-1]\n"
   ]
  },
  {
   "cell_type": "code",
   "execution_count": 239,
   "id": "4506fd6f",
   "metadata": {},
   "outputs": [
    {
     "data": {
      "text/plain": [
       "'1181'"
      ]
     },
     "execution_count": 239,
     "metadata": {},
     "output_type": "execute_result"
    }
   ],
   "source": [
    "id_image=int(df_test[df_test['filenames']=='tractor_s_000657.png']['row'])\n",
    "str(id_image)"
   ]
  },
  {
   "cell_type": "code",
   "execution_count": 245,
   "id": "2b2d5f50",
   "metadata": {},
   "outputs": [
    {
     "data": {
      "text/plain": [
       "'{\"image_data\": \"\", \"s3_bucket\": \"batch-classification-scones-project\", \"s3_key\": \"test_batch_classification/images/trail_bike_s_000073.png\", \"id_image\": \"9654\"}'"
      ]
     },
     "execution_count": 245,
     "metadata": {},
     "output_type": "execute_result"
    }
   ],
   "source": [
    "def generate_test_case():\n",
    "    # Setup s3 in boto3\n",
    "    s3 = boto3.resource('s3')\n",
    "    \n",
    "    # Randomly pick from sfn or test folders in our bucket\n",
    "    objects = s3.Bucket(working_bucket).objects.filter(Prefix=\"test\")\n",
    "    \n",
    "    # Grab any random object key from that folder!\n",
    "    obj = random.choice([x.key for x in objects])\n",
    "    \n",
    "    filename= obj.split('/')[-1]\n",
    "    id_image= int(df_test[df_test['filenames']==filename]['row'])\n",
    "    #id_image=df_test[df_test['filenames']==obj]['row']\n",
    "    \n",
    "    return json.dumps({\n",
    "        \"image_data\": \"\",\n",
    "        \"s3_bucket\": working_bucket,\n",
    "        \"s3_key\": obj, \n",
    "        \"id_image\": str(id_image)\n",
    "    })\n",
    "generate_test_case()\n"
   ]
  },
  {
   "cell_type": "code",
   "execution_count": 246,
   "id": "447f10d4",
   "metadata": {},
   "outputs": [],
   "source": [
    "step_function_client = boto3.client('stepfunctions')"
   ]
  },
  {
   "cell_type": "code",
   "execution_count": 247,
   "id": "35b2d81c",
   "metadata": {},
   "outputs": [],
   "source": [
    "array_images = []"
   ]
  },
  {
   "cell_type": "code",
   "execution_count": 248,
   "id": "623c3019",
   "metadata": {},
   "outputs": [],
   "source": [
    "test_case = generate_test_case()\n",
    "array_images.append(test_case)"
   ]
  },
  {
   "cell_type": "code",
   "execution_count": 325,
   "id": "81be035f",
   "metadata": {},
   "outputs": [],
   "source": [
    "state_machine_arn = 'arn:aws:states:us-east-1:416312206633:stateMachine:VehiculePredictor-Batch-Workflow'\n",
    "\n",
    "def generate_batch(max_batch_length=10):\n",
    "    array_images = []\n",
    "    batch_length= random.randrange(1,max_batch_length)\n",
    "    print(f\"length of batch generated: {batch_length}\")\n",
    "    for i in range(batch_length):\n",
    "        test_case = generate_test_case()\n",
    "        array_images.append(test_case)\n",
    "    \n",
    "    input= json.dumps({\n",
    "                \"images\": array_images\n",
    "                })\n",
    "    #print(input)\n",
    "    \n",
    "    response = step_function_client.start_execution(\n",
    "        stateMachineArn=state_machine_arn,\n",
    "        name=f'execution-from-notebook-TIME-{dt.now().strftime(\"%Y-%m-%d-%H-%M-%S-%f\")}',\n",
    "        input= input\n",
    "        )\n",
    "    \n",
    "    #print(input)\n",
    "    return response\n",
    "\n",
    "#generate_batch()"
   ]
  },
  {
   "cell_type": "code",
   "execution_count": 326,
   "id": "db823381",
   "metadata": {},
   "outputs": [
    {
     "data": {
      "text/plain": [
       "Every 5 to 10 seconds do generate_batch(5) (last run: [never], next run: 2022-01-31 18:41:48)"
      ]
     },
     "execution_count": 326,
     "metadata": {},
     "output_type": "execute_result"
    }
   ],
   "source": [
    "schedule \\\n",
    "    .every(5) \\\n",
    "    .to(10)  \\\n",
    "    .seconds  \\\n",
    "    .until(timedelta(seconds=45))  \\\n",
    "    .do(generate_batch, 5)  \\\n",
    "    .tag('step-function-scheduling')\n",
    "#schedule.every(1).hours.until(timedelta(hours=8)).do(job)\n",
    "#schedule.every(5).to(10).seconds.do(my_job)\n"
   ]
  },
  {
   "cell_type": "code",
   "execution_count": 327,
   "id": "66b00f1a",
   "metadata": {},
   "outputs": [],
   "source": [
    "#schedule.every(5).seconds.do(generate_batch)"
   ]
  },
  {
   "cell_type": "code",
   "execution_count": 328,
   "id": "bbf8afa1",
   "metadata": {},
   "outputs": [
    {
     "name": "stdout",
     "output_type": "stream",
     "text": [
      "4\n",
      "3\n",
      "3\n",
      "2\n",
      "2\n",
      "1\n",
      "4\n"
     ]
    },
    {
     "ename": "KeyboardInterrupt",
     "evalue": "",
     "output_type": "error",
     "traceback": [
      "\u001b[0;31m---------------------------------------------------------------------------\u001b[0m",
      "\u001b[0;31mKeyboardInterrupt\u001b[0m                         Traceback (most recent call last)",
      "\u001b[0;32m<ipython-input-328-b703e6494b3f>\u001b[0m in \u001b[0;36m<module>\u001b[0;34m\u001b[0m\n\u001b[1;32m      1\u001b[0m \u001b[0;32mwhile\u001b[0m \u001b[0;32mTrue\u001b[0m\u001b[0;34m:\u001b[0m\u001b[0;34m\u001b[0m\u001b[0;34m\u001b[0m\u001b[0m\n\u001b[1;32m      2\u001b[0m     \u001b[0mschedule\u001b[0m\u001b[0;34m.\u001b[0m\u001b[0mrun_pending\u001b[0m\u001b[0;34m(\u001b[0m\u001b[0;34m)\u001b[0m\u001b[0;34m\u001b[0m\u001b[0;34m\u001b[0m\u001b[0m\n\u001b[0;32m----> 3\u001b[0;31m     \u001b[0msleep\u001b[0m\u001b[0;34m(\u001b[0m\u001b[0;36m1\u001b[0m\u001b[0;34m)\u001b[0m\u001b[0;34m\u001b[0m\u001b[0;34m\u001b[0m\u001b[0m\n\u001b[0m\u001b[1;32m      4\u001b[0m \u001b[0;34m\u001b[0m\u001b[0m\n",
      "\u001b[0;31mKeyboardInterrupt\u001b[0m: "
     ]
    }
   ],
   "source": [
    "while True:\n",
    "    schedule.run_pending()\n",
    "    sleep(1)\n",
    "    "
   ]
  },
  {
   "cell_type": "code",
   "execution_count": 329,
   "id": "9bd47db6",
   "metadata": {},
   "outputs": [
    {
     "data": {
      "text/plain": [
       "[]"
      ]
     },
     "execution_count": 329,
     "metadata": {},
     "output_type": "execute_result"
    }
   ],
   "source": [
    "all_jobs = schedule.get_jobs()\n",
    "all_jobs"
   ]
  },
  {
   "cell_type": "code",
   "execution_count": 310,
   "id": "c4aabf43",
   "metadata": {},
   "outputs": [],
   "source": [
    "schedule.clear('step-function-scheduling')"
   ]
  }
 ],
 "metadata": {
  "kernelspec": {
   "display_name": "conda_amazonei_tensorflow2_p36",
   "language": "python",
   "name": "conda_amazonei_tensorflow2_p36"
  },
  "language_info": {
   "codemirror_mode": {
    "name": "ipython",
    "version": 3
   },
   "file_extension": ".py",
   "mimetype": "text/x-python",
   "name": "python",
   "nbconvert_exporter": "python",
   "pygments_lexer": "ipython3",
   "version": "3.6.13"
  }
 },
 "nbformat": 4,
 "nbformat_minor": 5
}
