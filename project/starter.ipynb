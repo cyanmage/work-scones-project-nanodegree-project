{
 "cells": [
  {
   "cell_type": "markdown",
   "metadata": {},
   "source": [
    "# Deploy and monitor a machine learning workflow for Image Classification"
   ]
  },
  {
   "cell_type": "markdown",
   "metadata": {},
   "source": [
    "## Setting up this notebook\n",
    "\n",
    "Notes about the instance size and kernel setup: this notebook has been tested on\n",
    "\n",
    "1. The `Python 3 (Data Science)` kernel\n",
    "2. The `ml.t3.medium` instance\n",
    "\n",
    "## Data Staging\n",
    "\n",
    "We'll use a sample dataset called CIFAR to simulate the challenges Scones Unlimited are facing in Image Classification. In order to start working with CIFAR we'll need to:\n",
    "\n",
    "1. Extract the data from a hosting service\n",
    "2. Transform it into a usable shape and format\n",
    "3. Load it into a production system\n",
    "\n",
    "In other words, we're going to do some simple ETL!\n",
    "\n",
    "### 1. Extract the data from the hosting service\n",
    "\n",
    "In the cell below, define a function `extract_cifar_data` that extracts python version of the CIFAR-100 dataset. The CIFAR dataaset is open source and generously hosted by the University of Toronto at: https://www.cs.toronto.edu/~kriz/cifar-100-python.tar.gz "
   ]
  },
  {
   "cell_type": "code",
   "execution_count": 474,
   "metadata": {},
   "outputs": [],
   "source": [
    "import requests\n",
    "\n",
    "def extract_cifar_data(url, filename=\"cifar.tar.gz\"):\n",
    "    \"\"\"A function for extracting the CIFAR-100 dataset and storing it as a gzipped file\n",
    "    \n",
    "    Arguments:\n",
    "    url      -- the URL where the dataset is hosted\n",
    "    filename -- the full path where the dataset will be written\n",
    "    \n",
    "    \"\"\"\n",
    "    \n",
    "    # Todo: request the data from the data url\n",
    "    # Hint: use `requests.get` method\n",
    "    r = requests.get(url)\n",
    "    with open(filename, \"wb\") as file_context:\n",
    "        file_context.write(r.content)\n",
    "    return"
   ]
  },
  {
   "cell_type": "markdown",
   "metadata": {},
   "source": [
    "Let's test it out! Run the following cell and check whether a new file `cifar.tar.gz` is created in the file explorer."
   ]
  },
  {
   "cell_type": "code",
   "execution_count": 148,
   "metadata": {},
   "outputs": [],
   "source": [
    "extract_cifar_data(\"https://www.cs.toronto.edu/~kriz/cifar-100-python.tar.gz\")     "
   ]
  },
  {
   "cell_type": "markdown",
   "metadata": {},
   "source": [
    "### 2. Transform the data into a usable shape and format\n",
    "\n",
    "Clearly, distributing the data as a gzipped archive makes sense for the hosting service! It saves on bandwidth, storage, and it's a widely-used archive format. In fact, it's so widely used that the Python community ships a utility for working with them, `tarfile`, as part of its Standard Library. Execute the following cell to decompress your extracted dataset:"
   ]
  },
  {
   "cell_type": "code",
   "execution_count": 97,
   "metadata": {},
   "outputs": [],
   "source": [
    "import tarfile\n",
    "\n",
    "with tarfile.open(\"cifar.tar.gz\", \"r:gz\") as tar:\n",
    "    tar.extractall()"
   ]
  },
  {
   "cell_type": "markdown",
   "metadata": {},
   "source": [
    "A new folder `cifar-100-python` should be created, containing `meta`, `test`, and `train` files. These files are `pickles` and the [CIFAR homepage](https://www.cs.toronto.edu/~kriz/cifar.html) provides a simple script that can be used to load them. We've adapted the script below for you to run:"
   ]
  },
  {
   "cell_type": "code",
   "execution_count": 475,
   "metadata": {},
   "outputs": [],
   "source": [
    "import pickle\n",
    "\n",
    "with open(\"./cifar-100-python/meta\", \"rb\") as f:\n",
    "    dataset_meta = pickle.load(f, encoding='bytes')\n",
    "\n",
    "with open(\"./cifar-100-python/test\", \"rb\") as f:\n",
    "    dataset_test = pickle.load(f, encoding='bytes')\n",
    "\n",
    "with open(\"./cifar-100-python/train\", \"rb\") as f:\n",
    "    dataset_train = pickle.load(f, encoding='bytes')"
   ]
  },
  {
   "cell_type": "code",
   "execution_count": 476,
   "metadata": {},
   "outputs": [
    {
     "data": {
      "text/plain": [
       "dict_keys([b'filenames', b'batch_label', b'fine_labels', b'coarse_labels', b'data'])"
      ]
     },
     "execution_count": 476,
     "metadata": {},
     "output_type": "execute_result"
    }
   ],
   "source": [
    "# Feel free to explore the datasets\n",
    "\n",
    "dataset_train.keys()"
   ]
  },
  {
   "cell_type": "code",
   "execution_count": 477,
   "metadata": {},
   "outputs": [
    {
     "data": {
      "text/plain": [
       "(50000, 50000)"
      ]
     },
     "execution_count": 477,
     "metadata": {},
     "output_type": "execute_result"
    }
   ],
   "source": [
    "len(dataset_train[b'filenames']), len(dataset_train[b'fine_labels'])"
   ]
  },
  {
   "cell_type": "code",
   "execution_count": 478,
   "metadata": {},
   "outputs": [
    {
     "data": {
      "text/plain": [
       "(50000, 3072)"
      ]
     },
     "execution_count": 478,
     "metadata": {},
     "output_type": "execute_result"
    }
   ],
   "source": [
    "dataset_train[b'data'].shape"
   ]
  },
  {
   "cell_type": "code",
   "execution_count": 6,
   "metadata": {},
   "outputs": [
    {
     "data": {
      "text/plain": [
       "array([[255, 255, 255, ...,  10,  59,  79],\n",
       "       [255, 253, 253, ..., 253, 253, 255],\n",
       "       [250, 248, 247, ..., 194, 207, 228],\n",
       "       [124, 131, 135, ..., 232, 236, 231],\n",
       "       [ 43,  32,  87, ...,  60,  29,  37]], dtype=uint8)"
      ]
     },
     "execution_count": 6,
     "metadata": {},
     "output_type": "execute_result"
    }
   ],
   "source": [
    "dataset_train[b'data'][:5]"
   ]
  },
  {
   "cell_type": "markdown",
   "metadata": {},
   "source": [
    "As documented on the homepage, `b'data'` contains rows of 3073 unsigned integers, representing three channels (red, green, and blue) for one 32x32 pixel image per row."
   ]
  },
  {
   "cell_type": "code",
   "execution_count": 7,
   "metadata": {},
   "outputs": [
    {
     "data": {
      "text/plain": [
       "3072"
      ]
     },
     "execution_count": 7,
     "metadata": {},
     "output_type": "execute_result"
    }
   ],
   "source": [
    "32*32*3"
   ]
  },
  {
   "cell_type": "markdown",
   "metadata": {},
   "source": [
    "For a simple gut-check, let's transform one of our images. Each 1024 items in a row is a channel (red, green, then blue). Each 32 items in the channel are a row in the 32x32 image. Using python, we can stack these channels into a 32x32x3 array, and save it as a PNG file:"
   ]
  },
  {
   "cell_type": "code",
   "execution_count": 8,
   "metadata": {},
   "outputs": [],
   "source": [
    "import numpy as np\n",
    "\n",
    "# Each 1024 in a row is a channel (red, green, then blue)\n",
    "row = dataset_train[b'data'][0]\n",
    "red, green, blue = row[0:1024], row[1024:2048], row[2048:]\n",
    "\n",
    "# Each 32 items in the channel are a row in the 32x32 image\n",
    "red = red.reshape(32,32)\n",
    "green = green.reshape(32,32)\n",
    "blue = blue.reshape(32,32)\n",
    "\n",
    "# Combine the channels into a 32x32x3 image!\n",
    "combined = np.dstack((red,green,blue))"
   ]
  },
  {
   "cell_type": "markdown",
   "metadata": {},
   "source": [
    "For a more concise version, consider the following:"
   ]
  },
  {
   "cell_type": "code",
   "execution_count": 9,
   "metadata": {},
   "outputs": [],
   "source": [
    "# All in one:\n",
    "test_image = np.dstack((\n",
    "    row[0:1024].reshape(32,32),\n",
    "    row[1024:2048].reshape(32,32),\n",
    "    row[2048:].reshape(32,32)\n",
    "))"
   ]
  },
  {
   "cell_type": "code",
   "execution_count": 10,
   "metadata": {},
   "outputs": [],
   "source": [
    "import matplotlib.pyplot as plt"
   ]
  },
  {
   "cell_type": "code",
   "execution_count": 11,
   "metadata": {},
   "outputs": [
    {
     "data": {
      "image/png": "[encoded data removed]",
      "text/plain": [
       "<Figure size 432x288 with 1 Axes>"
      ]
     },
     "metadata": {
      "needs_background": "light"
     },
     "output_type": "display_data"
    }
   ],
   "source": [
    "\n",
    "plt.imshow(test_image);"
   ]
  },
  {
   "cell_type": "markdown",
   "metadata": {},
   "source": [
    "Looks like a cow! Let's check the label. `dataset_meta` contains label names in order, and `dataset_train` has a list of labels for each row."
   ]
  },
  {
   "cell_type": "code",
   "execution_count": 12,
   "metadata": {},
   "outputs": [],
   "source": [
    "#dataset_meta[b'fine_label_names']"
   ]
  },
  {
   "cell_type": "code",
   "execution_count": 13,
   "metadata": {},
   "outputs": [
    {
     "data": {
      "text/plain": [
       "19"
      ]
     },
     "execution_count": 13,
     "metadata": {},
     "output_type": "execute_result"
    }
   ],
   "source": [
    "dataset_train[b'fine_labels'][0]"
   ]
  },
  {
   "cell_type": "markdown",
   "metadata": {},
   "source": [
    "Our image has a label of `19`, so let's see what the 19th item is in the list of label names."
   ]
  },
  {
   "cell_type": "code",
   "execution_count": 14,
   "metadata": {},
   "outputs": [
    {
     "name": "stdout",
     "output_type": "stream",
     "text": [
      "b'cattle'\n"
     ]
    }
   ],
   "source": [
    "print(dataset_meta[b'fine_label_names'][19])"
   ]
  },
  {
   "cell_type": "markdown",
   "metadata": {},
   "source": [
    "Ok! 'cattle' sounds about right. By the way, using the previous two lines we can do:"
   ]
  },
  {
   "cell_type": "code",
   "execution_count": 15,
   "metadata": {},
   "outputs": [
    {
     "name": "stdout",
     "output_type": "stream",
     "text": [
      "b'cattle'\n"
     ]
    }
   ],
   "source": [
    "n = 0\n",
    "print(dataset_meta[b'fine_label_names'][dataset_train[b'fine_labels'][n]])"
   ]
  },
  {
   "cell_type": "markdown",
   "metadata": {},
   "source": [
    "Now we know how to check labels, is there a way that we can also check file names? `dataset_train` also contains a `b'filenames'` key. Let's see what we have here:"
   ]
  },
  {
   "cell_type": "code",
   "execution_count": 16,
   "metadata": {},
   "outputs": [
    {
     "name": "stdout",
     "output_type": "stream",
     "text": [
      "b'bos_taurus_s_000507.png'\n"
     ]
    }
   ],
   "source": [
    "print(dataset_train[b'filenames'][0])"
   ]
  },
  {
   "cell_type": "markdown",
   "metadata": {},
   "source": [
    "\"Taurus\" is the name of a subspecies of cattle, so this looks like a pretty reasonable filename. To save an image we can also do:"
   ]
  },
  {
   "cell_type": "code",
   "execution_count": 17,
   "metadata": {},
   "outputs": [],
   "source": [
    "plt.imsave(\"file.png\", test_image)"
   ]
  },
  {
   "cell_type": "markdown",
   "metadata": {},
   "source": [
    "Your new PNG file should now appear in the file explorer -- go ahead and pop it open to see!\n",
    "\n",
    "Now that you know how to reshape the images, save them as files, and capture their filenames and labels, let's just capture all the bicycles and motorcycles and save them. Scones Unlimited can use a model that tells these apart to route delivery drivers automatically.\n",
    "\n",
    "In the following cell, identify the label numbers for Bicycles and Motorcycles:"
   ]
  },
  {
   "cell_type": "code",
   "execution_count": 479,
   "metadata": {},
   "outputs": [
    {
     "data": {
      "text/plain": [
       "(8, 48)"
      ]
     },
     "execution_count": 479,
     "metadata": {},
     "output_type": "execute_result"
    }
   ],
   "source": [
    "import pandas as pd\n",
    "\n",
    "# Todo: Filter the dataset_train and dataset_meta objects to find the label numbers for Bicycle and Motorcycles\n",
    "\n",
    "### TOO \"COMPLICATED\"\n",
    "#list(filter(lambda x: dataset_meta[b'fine_label_names'][x]==b'motorcycle', range(len(dataset_meta[b'fine_label_names']))))\n",
    "####   b'bicycle'          b'motorcycle'\n",
    "\n",
    "idx_motorcycle, idx_bicycle = 0, 0\n",
    "while dataset_meta[b'fine_label_names'][idx_bicycle] != b'bicycle':\n",
    "    idx_bicycle += 1\n",
    "while dataset_meta[b'fine_label_names'][idx_motorcycle] != b'motorcycle':\n",
    "    idx_motorcycle += 1\n",
    "    \n",
    "idx_bicycle, idx_motorcycle"
   ]
  },
  {
   "cell_type": "markdown",
   "metadata": {},
   "source": [
    "Good job! We only need objects with label 8 and 48 -- this drastically simplifies our handling of the data! Below we construct a dataframe for you, and you can safely drop the rows that don't contain observations about bicycles and motorcycles. Fill in the missing lines below to drop all other rows:"
   ]
  },
  {
   "cell_type": "code",
   "execution_count": 480,
   "metadata": {},
   "outputs": [],
   "source": [
    "#Construct the dataframe\n",
    "df_train = pd.DataFrame({\n",
    "    \"filenames\": dataset_train[b'filenames'],\n",
    "    \"labels\": dataset_train[b'fine_labels'],\n",
    "    \"row\": range(len(dataset_train[b'filenames']))\n",
    "})\n",
    "\n",
    "# Drop all rows from df_train where label is not 8 or 48\n",
    "df_train = df_train[df_train['labels'].isin([8, 48])]\n",
    "\n",
    "# Decode df_train.filenames so they are regular strings\n",
    "df_train[\"filenames\"] = df_train[\"filenames\"].apply(\n",
    "    lambda x: x.decode(\"utf-8\")\n",
    ")\n",
    "\n",
    "\n",
    "df_test = pd.DataFrame({\n",
    "    \"filenames\": dataset_test[b'filenames'],\n",
    "    \"labels\": dataset_test[b'fine_labels'],\n",
    "    \"row\": range(len(dataset_test[b'filenames']))\n",
    "})\n",
    "\n",
    "# Drop all rows from df_test where label is not 8 or 48\n",
    "df_test = df_test[df_test['labels'].isin([8, 48])]\n",
    "\n",
    "# Decode df_test.filenames so they are regular strings\n",
    "df_test[\"filenames\"] = df_test[\"filenames\"].apply(\n",
    "    lambda x: x.decode(\"utf-8\")\n",
    ")"
   ]
  },
  {
   "cell_type": "code",
   "execution_count": 481,
   "metadata": {},
   "outputs": [
    {
     "data": {
      "text/html": [
       "<div>\n",
       "<style scoped>\n",
       "    .dataframe tbody tr th:only-of-type {\n",
       "        vertical-align: middle;\n",
       "    }\n",
       "\n",
       "    .dataframe tbody tr th {\n",
       "        vertical-align: top;\n",
       "    }\n",
       "\n",
       "    .dataframe thead th {\n",
       "        text-align: right;\n",
       "    }\n",
       "</style>\n",
       "<table border=\"1\" class=\"dataframe\">\n",
       "  <thead>\n",
       "    <tr style=\"text-align: right;\">\n",
       "      <th></th>\n",
       "      <th>filenames</th>\n",
       "      <th>labels</th>\n",
       "      <th>row</th>\n",
       "    </tr>\n",
       "  </thead>\n",
       "  <tbody>\n",
       "    <tr>\n",
       "      <th>16</th>\n",
       "      <td>bike_s_000682.png</td>\n",
       "      <td>8</td>\n",
       "      <td>16</td>\n",
       "    </tr>\n",
       "    <tr>\n",
       "      <th>30</th>\n",
       "      <td>bike_s_000127.png</td>\n",
       "      <td>8</td>\n",
       "      <td>30</td>\n",
       "    </tr>\n",
       "    <tr>\n",
       "      <th>130</th>\n",
       "      <td>cycle_s_002598.png</td>\n",
       "      <td>8</td>\n",
       "      <td>130</td>\n",
       "    </tr>\n",
       "    <tr>\n",
       "      <th>152</th>\n",
       "      <td>minibike_s_000824.png</td>\n",
       "      <td>48</td>\n",
       "      <td>152</td>\n",
       "    </tr>\n",
       "    <tr>\n",
       "      <th>195</th>\n",
       "      <td>motorcycle_s_001856.png</td>\n",
       "      <td>48</td>\n",
       "      <td>195</td>\n",
       "    </tr>\n",
       "    <tr>\n",
       "      <th>219</th>\n",
       "      <td>bicycle_s_000537.png</td>\n",
       "      <td>8</td>\n",
       "      <td>219</td>\n",
       "    </tr>\n",
       "    <tr>\n",
       "      <th>251</th>\n",
       "      <td>moped_s_000169.png</td>\n",
       "      <td>48</td>\n",
       "      <td>251</td>\n",
       "    </tr>\n",
       "    <tr>\n",
       "      <th>252</th>\n",
       "      <td>motorcycle_s_001453.png</td>\n",
       "      <td>48</td>\n",
       "      <td>252</td>\n",
       "    </tr>\n",
       "    <tr>\n",
       "      <th>298</th>\n",
       "      <td>safety_bike_s_000482.png</td>\n",
       "      <td>8</td>\n",
       "      <td>298</td>\n",
       "    </tr>\n",
       "    <tr>\n",
       "      <th>370</th>\n",
       "      <td>dirt_bike_s_000124.png</td>\n",
       "      <td>48</td>\n",
       "      <td>370</td>\n",
       "    </tr>\n",
       "    <tr>\n",
       "      <th>390</th>\n",
       "      <td>minibike_s_001863.png</td>\n",
       "      <td>48</td>\n",
       "      <td>390</td>\n",
       "    </tr>\n",
       "    <tr>\n",
       "      <th>392</th>\n",
       "      <td>minibike_s_001177.png</td>\n",
       "      <td>48</td>\n",
       "      <td>392</td>\n",
       "    </tr>\n",
       "    <tr>\n",
       "      <th>408</th>\n",
       "      <td>motorcycle_s_001792.png</td>\n",
       "      <td>48</td>\n",
       "      <td>408</td>\n",
       "    </tr>\n",
       "    <tr>\n",
       "      <th>560</th>\n",
       "      <td>minibike_s_001969.png</td>\n",
       "      <td>48</td>\n",
       "      <td>560</td>\n",
       "    </tr>\n",
       "    <tr>\n",
       "      <th>575</th>\n",
       "      <td>velocipede_s_001585.png</td>\n",
       "      <td>8</td>\n",
       "      <td>575</td>\n",
       "    </tr>\n",
       "  </tbody>\n",
       "</table>\n",
       "</div>"
      ],
      "text/plain": [
       "                    filenames  labels  row\n",
       "16          bike_s_000682.png       8   16\n",
       "30          bike_s_000127.png       8   30\n",
       "130        cycle_s_002598.png       8  130\n",
       "152     minibike_s_000824.png      48  152\n",
       "195   motorcycle_s_001856.png      48  195\n",
       "219      bicycle_s_000537.png       8  219\n",
       "251        moped_s_000169.png      48  251\n",
       "252   motorcycle_s_001453.png      48  252\n",
       "298  safety_bike_s_000482.png       8  298\n",
       "370    dirt_bike_s_000124.png      48  370\n",
       "390     minibike_s_001863.png      48  390\n",
       "392     minibike_s_001177.png      48  392\n",
       "408   motorcycle_s_001792.png      48  408\n",
       "560     minibike_s_001969.png      48  560\n",
       "575   velocipede_s_001585.png       8  575"
      ]
     },
     "execution_count": 481,
     "metadata": {},
     "output_type": "execute_result"
    }
   ],
   "source": [
    "df_train.head(15)"
   ]
  },
  {
   "cell_type": "code",
   "execution_count": 482,
   "metadata": {},
   "outputs": [
    {
     "data": {
      "text/plain": [
       "[8, 48]"
      ]
     },
     "execution_count": 482,
     "metadata": {},
     "output_type": "execute_result"
    }
   ],
   "source": [
    "list(df_train['labels'].unique())"
   ]
  },
  {
   "cell_type": "code",
   "execution_count": 483,
   "metadata": {},
   "outputs": [
    {
     "data": {
      "text/plain": [
       "(500, 500)"
      ]
     },
     "execution_count": 483,
     "metadata": {},
     "output_type": "execute_result"
    }
   ],
   "source": [
    "(df_train['labels'] == 8).sum(), (df_train['labels'] == 48).sum()"
   ]
  },
  {
   "cell_type": "code",
   "execution_count": 23,
   "metadata": {},
   "outputs": [
    {
     "data": {
      "text/html": [
       "<div>\n",
       "<style scoped>\n",
       "    .dataframe tbody tr th:only-of-type {\n",
       "        vertical-align: middle;\n",
       "    }\n",
       "\n",
       "    .dataframe tbody tr th {\n",
       "        vertical-align: top;\n",
       "    }\n",
       "\n",
       "    .dataframe thead th {\n",
       "        text-align: right;\n",
       "    }\n",
       "</style>\n",
       "<table border=\"1\" class=\"dataframe\">\n",
       "  <thead>\n",
       "    <tr style=\"text-align: right;\">\n",
       "      <th></th>\n",
       "      <th>filenames</th>\n",
       "      <th>labels</th>\n",
       "      <th>row</th>\n",
       "    </tr>\n",
       "  </thead>\n",
       "  <tbody>\n",
       "    <tr>\n",
       "      <th>27</th>\n",
       "      <td>safety_bike_s_000390.png</td>\n",
       "      <td>8</td>\n",
       "      <td>27</td>\n",
       "    </tr>\n",
       "    <tr>\n",
       "      <th>28</th>\n",
       "      <td>bike_s_000658.png</td>\n",
       "      <td>8</td>\n",
       "      <td>28</td>\n",
       "    </tr>\n",
       "    <tr>\n",
       "      <th>116</th>\n",
       "      <td>velocipede_s_001744.png</td>\n",
       "      <td>8</td>\n",
       "      <td>116</td>\n",
       "    </tr>\n",
       "    <tr>\n",
       "      <th>161</th>\n",
       "      <td>bike_s_000643.png</td>\n",
       "      <td>8</td>\n",
       "      <td>161</td>\n",
       "    </tr>\n",
       "    <tr>\n",
       "      <th>319</th>\n",
       "      <td>ordinary_bicycle_s_000437.png</td>\n",
       "      <td>8</td>\n",
       "      <td>319</td>\n",
       "    </tr>\n",
       "    <tr>\n",
       "      <th>354</th>\n",
       "      <td>motorcycle_s_000323.png</td>\n",
       "      <td>48</td>\n",
       "      <td>354</td>\n",
       "    </tr>\n",
       "    <tr>\n",
       "      <th>417</th>\n",
       "      <td>safety_bike_s_001253.png</td>\n",
       "      <td>8</td>\n",
       "      <td>417</td>\n",
       "    </tr>\n",
       "    <tr>\n",
       "      <th>476</th>\n",
       "      <td>cycle_s_001306.png</td>\n",
       "      <td>8</td>\n",
       "      <td>476</td>\n",
       "    </tr>\n",
       "    <tr>\n",
       "      <th>532</th>\n",
       "      <td>velocipede_s_000863.png</td>\n",
       "      <td>8</td>\n",
       "      <td>532</td>\n",
       "    </tr>\n",
       "    <tr>\n",
       "      <th>554</th>\n",
       "      <td>bicycle_s_000479.png</td>\n",
       "      <td>8</td>\n",
       "      <td>554</td>\n",
       "    </tr>\n",
       "    <tr>\n",
       "      <th>615</th>\n",
       "      <td>minibike_s_002173.png</td>\n",
       "      <td>48</td>\n",
       "      <td>615</td>\n",
       "    </tr>\n",
       "    <tr>\n",
       "      <th>626</th>\n",
       "      <td>motorcycle_s_000352.png</td>\n",
       "      <td>48</td>\n",
       "      <td>626</td>\n",
       "    </tr>\n",
       "    <tr>\n",
       "      <th>644</th>\n",
       "      <td>bike_s_000801.png</td>\n",
       "      <td>8</td>\n",
       "      <td>644</td>\n",
       "    </tr>\n",
       "    <tr>\n",
       "      <th>752</th>\n",
       "      <td>motorbike_s_000433.png</td>\n",
       "      <td>48</td>\n",
       "      <td>752</td>\n",
       "    </tr>\n",
       "    <tr>\n",
       "      <th>756</th>\n",
       "      <td>bike_s_001068.png</td>\n",
       "      <td>8</td>\n",
       "      <td>756</td>\n",
       "    </tr>\n",
       "  </tbody>\n",
       "</table>\n",
       "</div>"
      ],
      "text/plain": [
       "                         filenames  labels  row\n",
       "27        safety_bike_s_000390.png       8   27\n",
       "28               bike_s_000658.png       8   28\n",
       "116        velocipede_s_001744.png       8  116\n",
       "161              bike_s_000643.png       8  161\n",
       "319  ordinary_bicycle_s_000437.png       8  319\n",
       "354        motorcycle_s_000323.png      48  354\n",
       "417       safety_bike_s_001253.png       8  417\n",
       "476             cycle_s_001306.png       8  476\n",
       "532        velocipede_s_000863.png       8  532\n",
       "554           bicycle_s_000479.png       8  554\n",
       "615          minibike_s_002173.png      48  615\n",
       "626        motorcycle_s_000352.png      48  626\n",
       "644              bike_s_000801.png       8  644\n",
       "752         motorbike_s_000433.png      48  752\n",
       "756              bike_s_001068.png       8  756"
      ]
     },
     "execution_count": 23,
     "metadata": {},
     "output_type": "execute_result"
    }
   ],
   "source": [
    "df_test.head(15)"
   ]
  },
  {
   "cell_type": "code",
   "execution_count": 484,
   "metadata": {},
   "outputs": [
    {
     "data": {
      "text/plain": [
       "(100, 100)"
      ]
     },
     "execution_count": 484,
     "metadata": {},
     "output_type": "execute_result"
    }
   ],
   "source": [
    "(df_test['labels'] == 8).sum(), (df_test['labels'] == 48).sum()"
   ]
  },
  {
   "cell_type": "code",
   "execution_count": 485,
   "metadata": {},
   "outputs": [
    {
     "data": {
      "text/plain": [
       "[8, 48]"
      ]
     },
     "execution_count": 485,
     "metadata": {},
     "output_type": "execute_result"
    }
   ],
   "source": [
    "list(df_test['labels'].unique())"
   ]
  },
  {
   "cell_type": "code",
   "execution_count": 486,
   "metadata": {},
   "outputs": [
    {
     "data": {
      "text/plain": [
       "((1000, 3), (200, 3))"
      ]
     },
     "execution_count": 486,
     "metadata": {},
     "output_type": "execute_result"
    }
   ],
   "source": [
    "df_train.shape, df_test.shape"
   ]
  },
  {
   "cell_type": "markdown",
   "metadata": {},
   "source": [
    "Now that the data is filtered for just our classes, we can save all our images."
   ]
  },
  {
   "cell_type": "code",
   "execution_count": 220,
   "metadata": {},
   "outputs": [],
   "source": [
    "!mkdir -p ./train/images\n",
    "!mkdir -p ./test/images"
   ]
  },
  {
   "cell_type": "markdown",
   "metadata": {},
   "source": [
    "In the previous sections we introduced you to several key snippets of code:\n",
    "\n",
    "1. Grabbing the image data:\n",
    "\n",
    "```python\n",
    "dataset_train[b'data'][0]\n",
    "```\n",
    "\n",
    "2. A simple idiom for stacking the image data into the right shape\n",
    "\n",
    "```python\n",
    "import numpy as np\n",
    "np.dstack((\n",
    "    row[0:1024].reshape(32,32),\n",
    "    row[1024:2048].reshape(32,32),\n",
    "    row[2048:].reshape(32,32)\n",
    "))\n",
    "```\n",
    "\n",
    "3. A simple `matplotlib` utility for saving images\n",
    "\n",
    "```python\n",
    "plt.imsave(path+row['filenames'], target)\n",
    "```\n",
    "\n",
    "------------ CHANGED TO ADAPT MY ARBORESCENCE   -------------\n",
    "\n",
    "Compose these together into a function that saves all the images into the `./test/images` and `./train/images` directories. Use the comments in the body of the `save_images` function below to guide your construction of the function:\n"
   ]
  },
  {
   "cell_type": "code",
   "execution_count": 487,
   "metadata": {},
   "outputs": [
    {
     "data": {
      "text/plain": [
       "(1000, 3)"
      ]
     },
     "execution_count": 487,
     "metadata": {},
     "output_type": "execute_result"
    }
   ],
   "source": [
    "df_train.shape"
   ]
  },
  {
   "cell_type": "code",
   "execution_count": 488,
   "metadata": {},
   "outputs": [
    {
     "data": {
      "text/plain": [
       "array([[255, 255, 255, ...,  10,  59,  79],\n",
       "       [255, 253, 253, ..., 253, 253, 255],\n",
       "       [250, 248, 247, ..., 194, 207, 228],\n",
       "       ...,\n",
       "       [248, 240, 236, ..., 180, 174, 205],\n",
       "       [156, 151, 151, ..., 114, 107, 126],\n",
       "       [ 31,  30,  31, ...,  72,  69,  67]], dtype=uint8)"
      ]
     },
     "execution_count": 488,
     "metadata": {},
     "output_type": "execute_result"
    }
   ],
   "source": [
    "dataset_train[b'data']"
   ]
  },
  {
   "cell_type": "code",
   "execution_count": 489,
   "metadata": {},
   "outputs": [],
   "source": [
    "def save_images(idx_image, channel, dataset):\n",
    "    #Grab the image data in row-major form\n",
    "    img = dataset[b'data'][idx_image]\n",
    "    \n",
    "    # Consolidated stacking/reshaping from earlier\n",
    "    target = np.dstack((\n",
    "            img[:1024].reshape(32, 32),\n",
    "            img[1024:2048].reshape(32, 32),\n",
    "            img[2048:].reshape(32, 32)\n",
    "    ))\n",
    "    \n",
    "    # Save the image\n",
    "    plt.imsave(f\"./{channel}/images/{dataset[b'filenames'][idx_image].decode('utf-8')}\", target)\n",
    "    \n",
    "    # Return any signal data you want for debugging\n",
    "    return\n",
    "\n",
    "for idx in df_train.index.values:\n",
    "    save_images(idx, 'train', dataset_train)\n",
    "    \n",
    "for idx in df_test.index.values:\n",
    "    save_images(idx, 'test', dataset_test)\n",
    "\n"
   ]
  },
  {
   "cell_type": "markdown",
   "metadata": {},
   "source": [
    "### 3. Load the data\n",
    "\n",
    "Now we can load the data into S3.\n",
    "\n",
    "Using the sagemaker SDK grab the current region, execution role, and bucket."
   ]
  },
  {
   "cell_type": "code",
   "execution_count": 493,
   "metadata": {},
   "outputs": [],
   "source": [
    "import sagemaker\n",
    "from sagemaker import get_execution_role\n",
    "\n",
    "sess = sagemaker.Session()"
   ]
  },
  {
   "cell_type": "code",
   "execution_count": 494,
   "metadata": {},
   "outputs": [
    {
     "data": {
      "text/plain": [
       "('sagemaker-us-east-1-416312206633',\n",
       " 'us-east-1',\n",
       " 'arn:aws:iam::416312206633:role/service-role/AmazonSageMaker-ExecutionRole-20211216T204468')"
      ]
     },
     "execution_count": 494,
     "metadata": {},
     "output_type": "execute_result"
    }
   ],
   "source": [
    "sess.default_bucket(), sess.boto_region_name, get_execution_role()"
   ]
  },
  {
   "cell_type": "code",
   "execution_count": 495,
   "metadata": {},
   "outputs": [
    {
     "name": "stdout",
     "output_type": "stream",
     "text": [
      "Default Bucket: scones-project-working\n",
      "AWS Region: us-east-1\n",
      "RoleArn: arn:aws:iam::416312206633:role/service-role/AmazonSageMaker-ExecutionRole-20211216T204468\n"
     ]
    }
   ],
   "source": [
    "import sagemaker\n",
    "\n",
    "sess = sagemaker.Session()\n",
    "\n",
    "bucket= 'scones-project-working'\n",
    "print(\"Default Bucket: {}\".format(bucket))\n",
    "\n",
    "region = sess.boto_region_name\n",
    "print(\"AWS Region: {}\".format(region))\n",
    "\n",
    "role = get_execution_role()\n",
    "print(\"RoleArn: {}\".format(role))"
   ]
  },
  {
   "cell_type": "markdown",
   "metadata": {},
   "source": [
    "With this data we can easily sync your data up into S3!"
   ]
  },
  {
   "cell_type": "code",
   "execution_count": 32,
   "metadata": {},
   "outputs": [],
   "source": [
    "#!aws s3 rm s3://scones-project-working/test/ --recursive\n"
   ]
  },
  {
   "cell_type": "code",
   "execution_count": 33,
   "metadata": {},
   "outputs": [],
   "source": [
    "#!aws s3 rm s3://scones-project-working/train/ --recursive"
   ]
  },
  {
   "cell_type": "code",
   "execution_count": null,
   "metadata": {},
   "outputs": [],
   "source": [
    "import os\n",
    "\n",
    "os.environ[\"DEFAULT_S3_BUCKET\"] = bucket\n",
    "!aws s3 sync ./train s3://${DEFAULT_S3_BUCKET}/train/\n",
    "!aws s3 sync ./test s3://${DEFAULT_S3_BUCKET}/test/"
   ]
  },
  {
   "cell_type": "markdown",
   "metadata": {},
   "source": [
    "And that's it! You can check the bucket and verify that the items were uploaded.\n",
    "\n",
    "## Model Training\n",
    "\n",
    "For Image Classification, Sagemaker [also expects metadata](https://docs.aws.amazon.com/sagemaker/latest/dg/image-classification.html) e.g. in the form of TSV files with labels and filepaths. We can generate these using our Pandas DataFrames from earlier:"
   ]
  },
  {
   "cell_type": "code",
   "execution_count": 233,
   "metadata": {},
   "outputs": [],
   "source": [
    "#df_train['labels'].apply(lambda x: 0 if x==8 else 1)"
   ]
  },
  {
   "cell_type": "code",
   "execution_count": 34,
   "metadata": {},
   "outputs": [],
   "source": [
    "def to_metadata_file(df, prefix):\n",
    "    df[\"s3_path\"] = df[\"filenames\"]\n",
    "    df[\"labels\"] = df[\"labels\"].apply(lambda x: 0 if x==8 else 1)\n",
    "    return df[[\"row\", \"labels\", \"s3_path\"]].to_csv(\n",
    "        f\"{prefix}.lst\", sep=\"\\t\", index=False, header=False\n",
    "    )\n",
    "    \n",
    "to_metadata_file(df_train.copy(), \"train\")\n",
    "to_metadata_file(df_test.copy(), \"test\")"
   ]
  },
  {
   "cell_type": "markdown",
   "metadata": {},
   "source": [
    "We can also upload our manifest files:"
   ]
  },
  {
   "cell_type": "code",
   "execution_count": 53,
   "metadata": {},
   "outputs": [],
   "source": [
    "import boto3\n",
    "\n",
    "# Upload files\n",
    "boto3.Session().resource('s3').Bucket(\n",
    "    bucket).Object('train.lst').upload_file('./train.lst')\n",
    "boto3.Session().resource('s3').Bucket(\n",
    "    bucket).Object('test.lst').upload_file('./test.lst')"
   ]
  },
  {
   "cell_type": "markdown",
   "metadata": {},
   "source": [
    "Using the `bucket` and `region` info we can get the latest prebuilt container to run our training job, and define an output location on our s3 bucket for the model. Use the `image_uris` function from the SageMaker SDK to retrieve the latest `image-classification` image below:"
   ]
  },
  {
   "cell_type": "code",
   "execution_count": 5,
   "metadata": {},
   "outputs": [],
   "source": [
    "from sagemaker import image_uris\n",
    "\n",
    "# Use the image_uris function to retrieve the latest 'image-classification' image \n",
    "algo_image = image_uris.retrieve(framework='image-classification', region=region)\n",
    "s3_output_location = f\"s3://{bucket}/models/image_model\""
   ]
  },
  {
   "cell_type": "code",
   "execution_count": 6,
   "metadata": {},
   "outputs": [
    {
     "data": {
      "text/plain": [
       "'s3://scones-project-working/models/image_model'"
      ]
     },
     "execution_count": 6,
     "metadata": {},
     "output_type": "execute_result"
    }
   ],
   "source": [
    "s3_output_location"
   ]
  },
  {
   "cell_type": "markdown",
   "metadata": {},
   "source": [
    "We're ready to create an estimator! Create an estimator `img_classifier_model` that uses one instance of `ml.p2.xlarge`. Ensure that y ou use the output location we defined above - we'll be referring to that later!"
   ]
  },
  {
   "cell_type": "code",
   "execution_count": 23,
   "metadata": {},
   "outputs": [],
   "source": [
    "img_classifier_model=sagemaker.estimator.Estimator(\n",
    "    ## TODO: define your estimator options  \n",
    "    algo_image,\n",
    "    role,\n",
    "    instance_count= 1,\n",
    "    #instance_type= 'ml.p2.xlarge',\n",
    "    instance_type= 'ml.p3.2xlarge',\n",
    "    #use_spot_instances= True,\n",
    "    output_path= s3_output_location,\n",
    "    #max_wait = 3600\n",
    ")"
   ]
  },
  {
   "cell_type": "markdown",
   "metadata": {},
   "source": [
    "We can also set a few key hyperparameters and define the inputs for our model:"
   ]
  },
  {
   "cell_type": "code",
   "execution_count": 24,
   "metadata": {},
   "outputs": [],
   "source": [
    "img_classifier_model.set_hyperparameters(\n",
    "    image_shape= '3,32,32', # TODO: Fill in\n",
    "    num_classes=2, # TODO: Fill in\n",
    "    num_training_samples=1000, # TODO: fill in\n",
    "    learning_rate=0.05\n",
    ")"
   ]
  },
  {
   "cell_type": "markdown",
   "metadata": {},
   "source": [
    "The `image-classification` image uses four input channels with very specific input parameters. For convenience, we've provided them below:"
   ]
  },
  {
   "cell_type": "code",
   "execution_count": 25,
   "metadata": {},
   "outputs": [
    {
     "data": {
      "text/plain": [
       "('s3://scones-project-working/train/images/',\n",
       " 's3://scones-project-working/test/images/',\n",
       " 's3://scones-project-working/train.lst',\n",
       " 's3://scones-project-working/test.lst')"
      ]
     },
     "execution_count": 25,
     "metadata": {},
     "output_type": "execute_result"
    }
   ],
   "source": [
    "f\"s3://{bucket}/train/images/\", f\"s3://{bucket}/test/images/\", f\"s3://{bucket}/train.lst\", f\"s3://{bucket}/test.lst\"\n",
    " "
   ]
  },
  {
   "cell_type": "code",
   "execution_count": 26,
   "metadata": {},
   "outputs": [],
   "source": [
    "from sagemaker.debugger import Rule, rule_configs\n",
    "from sagemaker.session import TrainingInput\n",
    "model_inputs = {\n",
    "        \"train\": sagemaker.inputs.TrainingInput(\n",
    "            s3_data=f\"s3://{bucket}/train/images/\",\n",
    "            content_type=\"application/x-image\"\n",
    "        ),\n",
    "        \"validation\": sagemaker.inputs.TrainingInput(\n",
    "            s3_data=f\"s3://{bucket}/test/images/\",\n",
    "            content_type=\"application/x-image\"\n",
    "        ),\n",
    "        \"train_lst\": sagemaker.inputs.TrainingInput(\n",
    "            s3_data=f\"s3://{bucket}/train.lst\",\n",
    "            content_type=\"application/x-image\"\n",
    "        ),\n",
    "        \"validation_lst\": sagemaker.inputs.TrainingInput(\n",
    "            s3_data=f\"s3://{bucket}/test.lst\",\n",
    "            content_type=\"application/x-image\"\n",
    "        )\n",
    "}"
   ]
  },
  {
   "cell_type": "markdown",
   "metadata": {},
   "source": [
    "Great, now we can train the model using the model_inputs. In the cell below, call the `fit` method on our model,:"
   ]
  },
  {
   "cell_type": "code",
   "execution_count": 27,
   "metadata": {},
   "outputs": [
    {
     "name": "stdout",
     "output_type": "stream",
     "text": [
      "2022-01-28 16:54:34 Starting - Starting the training job...\n",
      "2022-01-28 16:55:00 Starting - Launching requested ML instancesProfilerReport-1643388873: InProgress\n",
      "......\n",
      "2022-01-28 16:56:00 Starting - Preparing the instances for training.........\n",
      "2022-01-28 16:57:34 Downloading - Downloading input data...\n",
      "2022-01-28 16:58:01 Training - Downloading the training image.....\u001b[34mDocker entrypoint called with argument(s): train\u001b[0m\n",
      "\u001b[34m[01/28/2022 16:58:44 INFO 140151525242688] Reading default configuration from /opt/amazon/lib/python3.7/site-packages/image_classification/default-input.json: {'use_pretrained_model': 0, 'num_layers': 152, 'epochs': 30, 'learning_rate': 0.1, 'lr_scheduler_factor': 0.1, 'optimizer': 'sgd', 'momentum': 0, 'weight_decay': 0.0001, 'beta_1': 0.9, 'beta_2': 0.999, 'eps': 1e-08, 'gamma': 0.9, 'mini_batch_size': 32, 'image_shape': '3,224,224', 'precision_dtype': 'float32'}\u001b[0m\n",
      "\u001b[34m[01/28/2022 16:58:44 INFO 140151525242688] Merging with provided configuration from /opt/ml/input/config/hyperparameters.json: {'num_classes': '2', 'num_training_samples': '1000', 'image_shape': '3,32,32', 'learning_rate': '0.05'}\u001b[0m\n",
      "\u001b[34m[01/28/2022 16:58:45 INFO 140151525242688] Final configuration: {'use_pretrained_model': 0, 'num_layers': 152, 'epochs': 30, 'learning_rate': '0.05', 'lr_scheduler_factor': 0.1, 'optimizer': 'sgd', 'momentum': 0, 'weight_decay': 0.0001, 'beta_1': 0.9, 'beta_2': 0.999, 'eps': 1e-08, 'gamma': 0.9, 'mini_batch_size': 32, 'image_shape': '3,32,32', 'precision_dtype': 'float32', 'num_classes': '2', 'num_training_samples': '1000'}\u001b[0m\n",
      "\u001b[34m[01/28/2022 16:58:45 INFO 140151525242688] Searching for .lst files in /opt/ml/input/data/train_lst.\u001b[0m\n",
      "\u001b[34m[01/28/2022 16:58:45 INFO 140151525242688] Creating record files for train.lst\u001b[0m\n",
      "\u001b[34m[01/28/2022 16:58:45 INFO 140151525242688] Done creating record files...\u001b[0m\n",
      "\u001b[34m[01/28/2022 16:58:45 INFO 140151525242688] Searching for .lst files in /opt/ml/input/data/validation_lst.\u001b[0m\n",
      "\u001b[34m[01/28/2022 16:58:45 INFO 140151525242688] Creating record files for test.lst\u001b[0m\n",
      "\u001b[34m[01/28/2022 16:58:45 INFO 140151525242688] Done creating record files...\u001b[0m\n",
      "\u001b[34m[01/28/2022 16:58:45 INFO 140151525242688] use_pretrained_model: 0\u001b[0m\n",
      "\u001b[34m[01/28/2022 16:58:45 INFO 140151525242688] multi_label: 0\u001b[0m\n",
      "\u001b[34m[01/28/2022 16:58:45 INFO 140151525242688] Performing random weight initialization\u001b[0m\n",
      "\u001b[34m[01/28/2022 16:58:45 INFO 140151525242688] ---- Parameters ----\u001b[0m\n",
      "\u001b[34m[01/28/2022 16:58:45 INFO 140151525242688] num_layers: 152\u001b[0m\n",
      "\u001b[34m[01/28/2022 16:58:45 INFO 140151525242688] data type: <class 'numpy.float32'>\u001b[0m\n",
      "\u001b[34m[01/28/2022 16:58:45 INFO 140151525242688] epochs: 30\u001b[0m\n",
      "\u001b[34m[01/28/2022 16:58:45 INFO 140151525242688] optimizer: sgd\u001b[0m\n",
      "\u001b[34m[01/28/2022 16:58:45 INFO 140151525242688] momentum: 0.9\u001b[0m\n",
      "\u001b[34m[01/28/2022 16:58:45 INFO 140151525242688] weight_decay: 0.0001\u001b[0m\n",
      "\u001b[34m[01/28/2022 16:58:45 INFO 140151525242688] learning_rate: 0.05\u001b[0m\n",
      "\u001b[34m[01/28/2022 16:58:45 INFO 140151525242688] num_training_samples: 1000\u001b[0m\n",
      "\u001b[34m[01/28/2022 16:58:45 INFO 140151525242688] mini_batch_size: 32\u001b[0m\n",
      "\u001b[34m[01/28/2022 16:58:45 INFO 140151525242688] image_shape: 3,32,32\u001b[0m\n",
      "\u001b[34m[01/28/2022 16:58:45 INFO 140151525242688] num_classes: 2\u001b[0m\n",
      "\u001b[34m[01/28/2022 16:58:45 INFO 140151525242688] augmentation_type: None\u001b[0m\n",
      "\u001b[34m[01/28/2022 16:58:45 INFO 140151525242688] kv_store: device\u001b[0m\n",
      "\u001b[34m[01/28/2022 16:58:45 INFO 140151525242688] checkpoint_frequency not set, will store the best model\u001b[0m\n",
      "\u001b[34m[01/28/2022 16:58:45 INFO 140151525242688] --------------------\u001b[0m\n",
      "\u001b[34m[01/28/2022 16:58:45 INFO 140151525242688] Setting number of threads: 7\u001b[0m\n",
      "\n",
      "2022-01-28 16:59:01 Training - Training image download completed. Training in progress.\u001b[34m[16:58:51] /opt/brazil-pkg-cache/packages/AIAlgorithmsMXNet/AIAlgorithmsMXNet-1.3.x_ecl_Cuda_10.1.x.10365.0/AL2_x86_64/generic-flavor/src/src/operator/nn/./cudnn/./cudnn_algoreg-inl.h:97: Running performance tests to find the best convolution algorithm, this can take a while... (setting env variable MXNET_CUDNN_AUTOTUNE_DEFAULT to 0 to disable)\u001b[0m\n",
      "\u001b[34m[01/28/2022 16:58:56 INFO 140151525242688] Epoch[0] Batch [20]#011Speed: 132.123 samples/sec#011accuracy=0.550595\u001b[0m\n",
      "\u001b[34m[01/28/2022 16:58:57 INFO 140151525242688] Epoch[0] Train-accuracy=0.557460\u001b[0m\n",
      "\u001b[34m[01/28/2022 16:58:57 INFO 140151525242688] Epoch[0] Time cost=6.037\u001b[0m\n",
      "\u001b[34m[01/28/2022 16:58:58 INFO 140151525242688] Epoch[0] Validation-accuracy=0.578125\u001b[0m\n",
      "\u001b[34m[01/28/2022 16:58:58 INFO 140151525242688] Storing the best model with validation accuracy: 0.578125\u001b[0m\n",
      "\u001b[34m[01/28/2022 16:58:58 INFO 140151525242688] Saved checkpoint to \"/opt/ml/model/image-classification-0001.params\"\u001b[0m\n",
      "\u001b[34m[01/28/2022 16:59:01 INFO 140151525242688] Epoch[1] Batch [20]#011Speed: 255.100 samples/sec#011accuracy=0.672619\u001b[0m\n",
      "\u001b[34m[01/28/2022 16:59:02 INFO 140151525242688] Epoch[1] Train-accuracy=0.689516\u001b[0m\n",
      "\u001b[34m[01/28/2022 16:59:02 INFO 140151525242688] Epoch[1] Time cost=3.724\u001b[0m\n",
      "\u001b[34m[01/28/2022 16:59:02 INFO 140151525242688] Epoch[1] Validation-accuracy=0.500000\u001b[0m\n",
      "\u001b[34m[01/28/2022 16:59:05 INFO 140151525242688] Epoch[2] Batch [20]#011Speed: 259.393 samples/sec#011accuracy=0.738095\u001b[0m\n",
      "\u001b[34m[01/28/2022 16:59:06 INFO 140151525242688] Epoch[2] Train-accuracy=0.727823\u001b[0m\n",
      "\u001b[34m[01/28/2022 16:59:06 INFO 140151525242688] Epoch[2] Time cost=3.652\u001b[0m\n",
      "\u001b[34m[01/28/2022 16:59:07 INFO 140151525242688] Epoch[2] Validation-accuracy=0.755208\u001b[0m\n",
      "\u001b[34m[01/28/2022 16:59:07 INFO 140151525242688] Storing the best model with validation accuracy: 0.755208\u001b[0m\n",
      "\u001b[34m[01/28/2022 16:59:07 INFO 140151525242688] Saved checkpoint to \"/opt/ml/model/image-classification-0003.params\"\u001b[0m\n",
      "\u001b[34m[01/28/2022 16:59:10 INFO 140151525242688] Epoch[3] Batch [20]#011Speed: 271.409 samples/sec#011accuracy=0.788690\u001b[0m\n",
      "\u001b[34m[01/28/2022 16:59:11 INFO 140151525242688] Epoch[3] Train-accuracy=0.788306\u001b[0m\n",
      "\u001b[34m[01/28/2022 16:59:11 INFO 140151525242688] Epoch[3] Time cost=3.524\u001b[0m\n",
      "\u001b[34m[01/28/2022 16:59:11 INFO 140151525242688] Epoch[3] Validation-accuracy=0.816964\u001b[0m\n",
      "\u001b[34m[01/28/2022 16:59:12 INFO 140151525242688] Storing the best model with validation accuracy: 0.816964\u001b[0m\n",
      "\u001b[34m[01/28/2022 16:59:12 INFO 140151525242688] Saved checkpoint to \"/opt/ml/model/image-classification-0004.params\"\u001b[0m\n",
      "\u001b[34m[01/28/2022 16:59:14 INFO 140151525242688] Epoch[4] Batch [20]#011Speed: 268.065 samples/sec#011accuracy=0.811012\u001b[0m\n",
      "\u001b[34m[01/28/2022 16:59:16 INFO 140151525242688] Epoch[4] Train-accuracy=0.808468\u001b[0m\n",
      "\u001b[34m[01/28/2022 16:59:16 INFO 140151525242688] Epoch[4] Time cost=3.559\u001b[0m\n",
      "\u001b[34m[01/28/2022 16:59:16 INFO 140151525242688] Epoch[4] Validation-accuracy=0.812500\u001b[0m\n",
      "\u001b[34m[01/28/2022 16:59:19 INFO 140151525242688] Epoch[5] Batch [20]#011Speed: 269.535 samples/sec#011accuracy=0.857143\u001b[0m\n",
      "\u001b[34m[01/28/2022 16:59:20 INFO 140151525242688] Epoch[5] Train-accuracy=0.837702\u001b[0m\n",
      "\u001b[34m[01/28/2022 16:59:20 INFO 140151525242688] Epoch[5] Time cost=3.536\u001b[0m\n",
      "\u001b[34m[01/28/2022 16:59:20 INFO 140151525242688] Epoch[5] Validation-accuracy=0.791667\u001b[0m\n",
      "\u001b[34m[01/28/2022 16:59:23 INFO 140151525242688] Epoch[6] Batch [20]#011Speed: 263.541 samples/sec#011accuracy=0.833333\u001b[0m\n",
      "\u001b[34m[01/28/2022 16:59:24 INFO 140151525242688] Epoch[6] Train-accuracy=0.841734\u001b[0m\n",
      "\u001b[34m[01/28/2022 16:59:24 INFO 140151525242688] Epoch[6] Time cost=3.611\u001b[0m\n",
      "\u001b[34m[01/28/2022 16:59:25 INFO 140151525242688] Epoch[6] Validation-accuracy=0.744792\u001b[0m\n",
      "\u001b[34m[01/28/2022 16:59:27 INFO 140151525242688] Epoch[7] Batch [20]#011Speed: 268.165 samples/sec#011accuracy=0.875000\u001b[0m\n",
      "\u001b[34m[01/28/2022 16:59:29 INFO 140151525242688] Epoch[7] Train-accuracy=0.869960\u001b[0m\n",
      "\u001b[34m[01/28/2022 16:59:29 INFO 140151525242688] Epoch[7] Time cost=3.569\u001b[0m\n",
      "\u001b[34m[01/28/2022 16:59:29 INFO 140151525242688] Epoch[7] Validation-accuracy=0.834821\u001b[0m\n",
      "\u001b[34m[01/28/2022 16:59:29 INFO 140151525242688] Storing the best model with validation accuracy: 0.834821\u001b[0m\n",
      "\u001b[34m[01/28/2022 16:59:30 INFO 140151525242688] Saved checkpoint to \"/opt/ml/model/image-classification-0008.params\"\u001b[0m\n",
      "\u001b[34m[01/28/2022 16:59:32 INFO 140151525242688] Epoch[8] Batch [20]#011Speed: 264.065 samples/sec#011accuracy=0.885417\u001b[0m\n",
      "\u001b[34m[01/28/2022 16:59:33 INFO 140151525242688] Epoch[8] Train-accuracy=0.878024\u001b[0m\n",
      "\u001b[34m[01/28/2022 16:59:33 INFO 140151525242688] Epoch[8] Time cost=3.610\u001b[0m\n",
      "\u001b[34m[01/28/2022 16:59:34 INFO 140151525242688] Epoch[8] Validation-accuracy=0.828125\u001b[0m\n",
      "\u001b[34m[01/28/2022 16:59:36 INFO 140151525242688] Epoch[9] Batch [20]#011Speed: 268.019 samples/sec#011accuracy=0.894345\u001b[0m\n",
      "\u001b[34m[01/28/2022 16:59:38 INFO 140151525242688] Epoch[9] Train-accuracy=0.888105\u001b[0m\n",
      "\u001b[34m[01/28/2022 16:59:38 INFO 140151525242688] Epoch[9] Time cost=3.564\u001b[0m\n",
      "\u001b[34m[01/28/2022 16:59:38 INFO 140151525242688] Epoch[9] Validation-accuracy=0.796875\u001b[0m\n",
      "\u001b[34m[01/28/2022 16:59:41 INFO 140151525242688] Epoch[10] Batch [20]#011Speed: 269.692 samples/sec#011accuracy=0.921131\u001b[0m\n",
      "\u001b[34m[01/28/2022 16:59:42 INFO 140151525242688] Epoch[10] Train-accuracy=0.917339\u001b[0m\n",
      "\u001b[34m[01/28/2022 16:59:42 INFO 140151525242688] Epoch[10] Time cost=3.563\u001b[0m\n",
      "\u001b[34m[01/28/2022 16:59:42 INFO 140151525242688] Epoch[10] Validation-accuracy=0.838542\u001b[0m\n",
      "\u001b[34m[01/28/2022 16:59:43 INFO 140151525242688] Storing the best model with validation accuracy: 0.838542\u001b[0m\n",
      "\u001b[34m[01/28/2022 16:59:43 INFO 140151525242688] Saved checkpoint to \"/opt/ml/model/image-classification-0011.params\"\u001b[0m\n",
      "\u001b[34m[01/28/2022 16:59:45 INFO 140151525242688] Epoch[11] Batch [20]#011Speed: 270.749 samples/sec#011accuracy=0.912202\u001b[0m\n",
      "\u001b[34m[01/28/2022 16:59:47 INFO 140151525242688] Epoch[11] Train-accuracy=0.909274\u001b[0m\n",
      "\u001b[34m[01/28/2022 16:59:47 INFO 140151525242688] Epoch[11] Time cost=3.546\u001b[0m\n",
      "\u001b[34m[01/28/2022 16:59:47 INFO 140151525242688] Epoch[11] Validation-accuracy=0.821429\u001b[0m\n",
      "\u001b[34m[01/28/2022 16:59:50 INFO 140151525242688] Epoch[12] Batch [20]#011Speed: 268.234 samples/sec#011accuracy=0.924107\u001b[0m\n",
      "\u001b[34m[01/28/2022 16:59:51 INFO 140151525242688] Epoch[12] Train-accuracy=0.926411\u001b[0m\n",
      "\u001b[34m[01/28/2022 16:59:51 INFO 140151525242688] Epoch[12] Time cost=3.557\u001b[0m\n",
      "\u001b[34m[01/28/2022 16:59:51 INFO 140151525242688] Epoch[12] Validation-accuracy=0.812500\u001b[0m\n",
      "\u001b[34m[01/28/2022 16:59:54 INFO 140151525242688] Epoch[13] Batch [20]#011Speed: 265.939 samples/sec#011accuracy=0.921131\u001b[0m\n",
      "\u001b[34m[01/28/2022 16:59:55 INFO 140151525242688] Epoch[13] Train-accuracy=0.928427\u001b[0m\n",
      "\u001b[34m[01/28/2022 16:59:55 INFO 140151525242688] Epoch[13] Time cost=3.567\u001b[0m\n",
      "\u001b[34m[01/28/2022 16:59:56 INFO 140151525242688] Epoch[13] Validation-accuracy=0.875000\u001b[0m\n",
      "\u001b[34m[01/28/2022 16:59:56 INFO 140151525242688] Storing the best model with validation accuracy: 0.875000\u001b[0m\n",
      "\u001b[34m[01/28/2022 16:59:56 INFO 140151525242688] Saved checkpoint to \"/opt/ml/model/image-classification-0014.params\"\u001b[0m\n",
      "\u001b[34m[01/28/2022 16:59:59 INFO 140151525242688] Epoch[14] Batch [20]#011Speed: 267.803 samples/sec#011accuracy=0.974702\u001b[0m\n",
      "\u001b[34m[01/28/2022 17:00:00 INFO 140151525242688] Epoch[14] Train-accuracy=0.967742\u001b[0m\n",
      "\u001b[34m[01/28/2022 17:00:00 INFO 140151525242688] Epoch[14] Time cost=3.560\u001b[0m\n",
      "\u001b[34m[01/28/2022 17:00:00 INFO 140151525242688] Epoch[14] Validation-accuracy=0.880208\u001b[0m\n",
      "\u001b[34m[01/28/2022 17:00:00 INFO 140151525242688] Storing the best model with validation accuracy: 0.880208\u001b[0m\n",
      "\u001b[34m[01/28/2022 17:00:01 INFO 140151525242688] Saved checkpoint to \"/opt/ml/model/image-classification-0015.params\"\u001b[0m\n",
      "\u001b[34m[01/28/2022 17:00:03 INFO 140151525242688] Epoch[15] Batch [20]#011Speed: 265.897 samples/sec#011accuracy=0.944940\u001b[0m\n",
      "\u001b[34m[01/28/2022 17:00:04 INFO 140151525242688] Epoch[15] Train-accuracy=0.938508\u001b[0m\n",
      "\u001b[34m[01/28/2022 17:00:04 INFO 140151525242688] Epoch[15] Time cost=3.580\u001b[0m\n",
      "\u001b[34m[01/28/2022 17:00:05 INFO 140151525242688] Epoch[15] Validation-accuracy=0.821429\u001b[0m\n",
      "\u001b[34m[01/28/2022 17:00:08 INFO 140151525242688] Epoch[16] Batch [20]#011Speed: 259.550 samples/sec#011accuracy=0.943452\u001b[0m\n",
      "\u001b[34m[01/28/2022 17:00:09 INFO 140151525242688] Epoch[16] Train-accuracy=0.941532\u001b[0m\n",
      "\u001b[34m[01/28/2022 17:00:09 INFO 140151525242688] Epoch[16] Time cost=3.634\u001b[0m\n",
      "\u001b[34m[01/28/2022 17:00:09 INFO 140151525242688] Epoch[16] Validation-accuracy=0.802083\u001b[0m\n",
      "\u001b[34m[01/28/2022 17:00:12 INFO 140151525242688] Epoch[17] Batch [20]#011Speed: 269.751 samples/sec#011accuracy=0.955357\u001b[0m\n",
      "\u001b[34m[01/28/2022 17:00:13 INFO 140151525242688] Epoch[17] Train-accuracy=0.958669\u001b[0m\n",
      "\u001b[34m[01/28/2022 17:00:13 INFO 140151525242688] Epoch[17] Time cost=3.542\u001b[0m\n",
      "\u001b[34m[01/28/2022 17:00:13 INFO 140151525242688] Epoch[17] Validation-accuracy=0.843750\u001b[0m\n",
      "\u001b[34m[01/28/2022 17:00:16 INFO 140151525242688] Epoch[18] Batch [20]#011Speed: 265.859 samples/sec#011accuracy=0.950893\u001b[0m\n",
      "\u001b[34m[01/28/2022 17:00:18 INFO 140151525242688] Epoch[18] Train-accuracy=0.955645\u001b[0m\n",
      "\u001b[34m[01/28/2022 17:00:18 INFO 140151525242688] Epoch[18] Time cost=3.564\u001b[0m\n",
      "\u001b[34m[01/28/2022 17:00:18 INFO 140151525242688] Epoch[18] Validation-accuracy=0.833333\u001b[0m\n",
      "\u001b[34m[01/28/2022 17:00:21 INFO 140151525242688] Epoch[19] Batch [20]#011Speed: 265.758 samples/sec#011accuracy=0.971726\u001b[0m\n",
      "\u001b[34m[01/28/2022 17:00:22 INFO 140151525242688] Epoch[19] Train-accuracy=0.962702\u001b[0m\n",
      "\u001b[34m[01/28/2022 17:00:22 INFO 140151525242688] Epoch[19] Time cost=3.579\u001b[0m\n",
      "\u001b[34m[01/28/2022 17:00:22 INFO 140151525242688] Epoch[19] Validation-accuracy=0.825893\u001b[0m\n",
      "\u001b[34m[01/28/2022 17:00:25 INFO 140151525242688] Epoch[20] Batch [20]#011Speed: 266.435 samples/sec#011accuracy=0.967262\u001b[0m\n",
      "\u001b[34m[01/28/2022 17:00:26 INFO 140151525242688] Epoch[20] Train-accuracy=0.964718\u001b[0m\n",
      "\u001b[34m[01/28/2022 17:00:26 INFO 140151525242688] Epoch[20] Time cost=3.588\u001b[0m\n",
      "\u001b[34m[01/28/2022 17:00:27 INFO 140151525242688] Epoch[20] Validation-accuracy=0.807292\u001b[0m\n",
      "\u001b[34m[01/28/2022 17:00:29 INFO 140151525242688] Epoch[21] Batch [20]#011Speed: 267.950 samples/sec#011accuracy=0.968750\u001b[0m\n",
      "\u001b[34m[01/28/2022 17:00:31 INFO 140151525242688] Epoch[21] Train-accuracy=0.968750\u001b[0m\n",
      "\u001b[34m[01/28/2022 17:00:31 INFO 140151525242688] Epoch[21] Time cost=3.552\u001b[0m\n",
      "\u001b[34m[01/28/2022 17:00:31 INFO 140151525242688] Epoch[21] Validation-accuracy=0.833333\u001b[0m\n",
      "\u001b[34m[01/28/2022 17:00:34 INFO 140151525242688] Epoch[22] Batch [20]#011Speed: 268.262 samples/sec#011accuracy=0.980655\u001b[0m\n",
      "\u001b[34m[01/28/2022 17:00:35 INFO 140151525242688] Epoch[22] Train-accuracy=0.976815\u001b[0m\n",
      "\u001b[34m[01/28/2022 17:00:35 INFO 140151525242688] Epoch[22] Time cost=3.566\u001b[0m\n",
      "\u001b[34m[01/28/2022 17:00:36 INFO 140151525242688] Epoch[22] Validation-accuracy=0.843750\u001b[0m\n",
      "\u001b[34m[01/28/2022 17:00:39 INFO 140151525242688] Epoch[23] Batch [20]#011Speed: 267.817 samples/sec#011accuracy=0.971726\u001b[0m\n",
      "\u001b[34m[01/28/2022 17:00:40 INFO 140151525242688] Epoch[23] Train-accuracy=0.966734\u001b[0m\n",
      "\u001b[34m[01/28/2022 17:00:40 INFO 140151525242688] Epoch[23] Time cost=3.565\u001b[0m\n",
      "\u001b[34m[01/28/2022 17:00:40 INFO 140151525242688] Epoch[23] Validation-accuracy=0.790179\u001b[0m\n",
      "\u001b[34m[01/28/2022 17:00:43 INFO 140151525242688] Epoch[24] Batch [20]#011Speed: 265.794 samples/sec#011accuracy=0.977679\u001b[0m\n",
      "\u001b[34m[01/28/2022 17:00:44 INFO 140151525242688] Epoch[24] Train-accuracy=0.978831\u001b[0m\n",
      "\u001b[34m[01/28/2022 17:00:44 INFO 140151525242688] Epoch[24] Time cost=3.572\u001b[0m\n",
      "\u001b[34m[01/28/2022 17:00:44 INFO 140151525242688] Epoch[24] Validation-accuracy=0.828125\u001b[0m\n",
      "\u001b[34m[01/28/2022 17:00:47 INFO 140151525242688] Epoch[25] Batch [20]#011Speed: 267.450 samples/sec#011accuracy=0.983631\u001b[0m\n",
      "\u001b[34m[01/28/2022 17:00:49 INFO 140151525242688] Epoch[25] Train-accuracy=0.984879\u001b[0m\n",
      "\u001b[34m[01/28/2022 17:00:49 INFO 140151525242688] Epoch[25] Time cost=3.595\u001b[0m\n",
      "\u001b[34m[01/28/2022 17:00:49 INFO 140151525242688] Epoch[25] Validation-accuracy=0.838542\u001b[0m\n",
      "\u001b[34m[01/28/2022 17:00:52 INFO 140151525242688] Epoch[26] Batch [20]#011Speed: 268.210 samples/sec#011accuracy=0.986607\u001b[0m\n",
      "\u001b[34m[01/28/2022 17:00:53 INFO 140151525242688] Epoch[26] Train-accuracy=0.986895\u001b[0m\n",
      "\u001b[34m[01/28/2022 17:00:53 INFO 140151525242688] Epoch[26] Time cost=3.549\u001b[0m\n",
      "\u001b[34m[01/28/2022 17:00:53 INFO 140151525242688] Epoch[26] Validation-accuracy=0.848958\u001b[0m\n",
      "\u001b[34m[01/28/2022 17:00:56 INFO 140151525242688] Epoch[27] Batch [20]#011Speed: 270.371 samples/sec#011accuracy=0.994048\u001b[0m\n",
      "\u001b[34m[01/28/2022 17:00:57 INFO 140151525242688] Epoch[27] Train-accuracy=0.993952\u001b[0m\n",
      "\u001b[34m[01/28/2022 17:00:57 INFO 140151525242688] Epoch[27] Time cost=3.548\u001b[0m\n",
      "\u001b[34m[01/28/2022 17:00:58 INFO 140151525242688] Epoch[27] Validation-accuracy=0.785714\u001b[0m\n",
      "\u001b[34m[01/28/2022 17:01:00 INFO 140151525242688] Epoch[28] Batch [20]#011Speed: 264.857 samples/sec#011accuracy=0.997024\u001b[0m\n",
      "\u001b[34m[01/28/2022 17:01:02 INFO 140151525242688] Epoch[28] Train-accuracy=0.996976\u001b[0m\n",
      "\u001b[34m[01/28/2022 17:01:02 INFO 140151525242688] Epoch[28] Time cost=3.605\u001b[0m\n",
      "\u001b[34m[01/28/2022 17:01:02 INFO 140151525242688] Epoch[28] Validation-accuracy=0.854167\u001b[0m\n",
      "\u001b[34m[01/28/2022 17:01:05 INFO 140151525242688] Epoch[29] Batch [20]#011Speed: 259.024 samples/sec#011accuracy=0.997024\u001b[0m\n",
      "\n",
      "2022-01-28 17:01:10 Uploading - Uploading generated training model\u001b[34m[01/28/2022 17:01:06 INFO 140151525242688] Epoch[29] Train-accuracy=0.995968\u001b[0m\n",
      "\u001b[34m[01/28/2022 17:01:06 INFO 140151525242688] Epoch[29] Time cost=3.649\u001b[0m\n",
      "\u001b[34m[01/28/2022 17:01:06 INFO 140151525242688] Epoch[29] Validation-accuracy=0.817708\u001b[0m\n",
      "\n",
      "2022-01-28 17:01:43 Completed - Training job completed\n",
      "Training seconds: 249\n",
      "Billable seconds: 249\n"
     ]
    }
   ],
   "source": [
    "## TODO: train your model\n",
    "img_classifier_model.fit(model_inputs)"
   ]
  },
  {
   "cell_type": "markdown",
   "metadata": {},
   "source": [
    "If all goes well, you'll end up with a model topping out above `.8` validation accuracy. With only 1000 training samples in the CIFAR dataset, that's pretty good. We could definitely pursue data augmentation & gathering more samples to help us improve further, but for now let's proceed to deploy our model.\n",
    "\n",
    "### Getting ready to deploy\n",
    "\n",
    "To begin with, let's configure Model Monitor to track our deployment. We'll define a `DataCaptureConfig` below:"
   ]
  },
  {
   "cell_type": "code",
   "execution_count": 28,
   "metadata": {},
   "outputs": [],
   "source": [
    "from sagemaker.model_monitor import DataCaptureConfig\n",
    "\n",
    "data_capture_config = DataCaptureConfig(\n",
    "    ## TODO: Set config options\n",
    "    enable_capture= True,\n",
    "    sampling_percentage= 100,\n",
    "    destination_s3_uri= f\"s3://{bucket}/data_capture\",\n",
    ")"
   ]
  },
  {
   "cell_type": "code",
   "execution_count": 29,
   "metadata": {},
   "outputs": [
    {
     "data": {
      "text/plain": [
       "'s3://scones-project-working/data_capture'"
      ]
     },
     "execution_count": 29,
     "metadata": {},
     "output_type": "execute_result"
    }
   ],
   "source": [
    "f\"s3://{bucket}/data_capture\""
   ]
  },
  {
   "cell_type": "code",
   "execution_count": 30,
   "metadata": {},
   "outputs": [
    {
     "data": {
      "text/plain": [
       "'scones-project-working'"
      ]
     },
     "execution_count": 30,
     "metadata": {},
     "output_type": "execute_result"
    }
   ],
   "source": [
    "bucket"
   ]
  },
  {
   "cell_type": "code",
   "execution_count": 31,
   "metadata": {},
   "outputs": [
    {
     "data": {
      "text/plain": [
       "'s3://scones-project-working/models/image_model'"
      ]
     },
     "execution_count": 31,
     "metadata": {},
     "output_type": "execute_result"
    }
   ],
   "source": [
    "s3_output_location"
   ]
  },
  {
   "cell_type": "code",
   "execution_count": 32,
   "metadata": {},
   "outputs": [],
   "source": [
    "#img_classifier_model = sagemaker.model.Model(\n",
    "#    image_uri=algo_image,\n",
    "#    model_data=f'{s3_output_location}/image-classification-2022-01-27-16-32-20-169/output/model.tar.gz',\n",
    "#    role=role)"
   ]
  },
  {
   "cell_type": "code",
   "execution_count": 33,
   "metadata": {},
   "outputs": [
    {
     "data": {
      "text/plain": [
       "<sagemaker.session.Session at 0x7f35e7938a90>"
      ]
     },
     "execution_count": 33,
     "metadata": {},
     "output_type": "execute_result"
    }
   ],
   "source": [
    "img_classifier_model.sagemaker_session\n"
   ]
  },
  {
   "cell_type": "code",
   "execution_count": 34,
   "metadata": {},
   "outputs": [],
   "source": [
    "#f'{s3_output_location}/image-classification-2022-01-27-16-32-20-169/output/model.tar.gz'"
   ]
  },
  {
   "cell_type": "code",
   "execution_count": 35,
   "metadata": {},
   "outputs": [],
   "source": [
    "#'s3://scones-project-working/models/image_model/image-classification-2022-01-27-16-32-20-169/output/model.tar.gz'"
   ]
  },
  {
   "cell_type": "markdown",
   "metadata": {},
   "source": [
    "Note the `destination_s3_uri` parameter: At the end of the project, we can explore the `data_capture` directory in S3 to find crucial data about the inputs and outputs Model Monitor has observed on our model endpoint over time.\n",
    "\n",
    "With that done, deploy your model on a single `ml.m5.xlarge` instance with the data capture config attached:"
   ]
  },
  {
   "cell_type": "code",
   "execution_count": 36,
   "metadata": {},
   "outputs": [
    {
     "name": "stdout",
     "output_type": "stream",
     "text": [
      "-------------!image-classification-2022-01-28-17-03-08-130\n"
     ]
    }
   ],
   "source": [
    "deployment = img_classifier_model.deploy(\n",
    "    ## TODO: fill in deployment options\n",
    "    data_capture_config=data_capture_config,\n",
    "    initial_instance_count= 1, \n",
    "    instance_type= 'ml.m5.xlarge'\n",
    "    )\n",
    "\n",
    "endpoint = deployment.endpoint_name\n",
    "print(endpoint)"
   ]
  },
  {
   "cell_type": "markdown",
   "metadata": {},
   "source": [
    "Note the endpoint name for later as well.\n",
    "\n",
    "Next, instantiate a Predictor:"
   ]
  },
  {
   "cell_type": "code",
   "execution_count": 108,
   "metadata": {},
   "outputs": [],
   "source": [
    "#endpoint = \"image-classification-2022-01-28-15-22-48-129\""
   ]
  },
  {
   "cell_type": "code",
   "execution_count": 38,
   "metadata": {},
   "outputs": [],
   "source": [
    "from sagemaker.predictor import Predictor\n",
    "\n",
    "## TODO: fill in\n",
    "predictor = Predictor(endpoint)"
   ]
  },
  {
   "cell_type": "markdown",
   "metadata": {},
   "source": [
    "In the code snippet below we are going to prepare one of your saved images for prediction. Use the predictor to process the `payload`."
   ]
  },
  {
   "cell_type": "code",
   "execution_count": 39,
   "metadata": {},
   "outputs": [],
   "source": [
    "from sagemaker.serializers import IdentitySerializer\n",
    "import base64\n",
    "\n",
    "predictor.serializer = IdentitySerializer(\"image/png\")\n",
    "with open(\"./test/images/bicycle_s_001789.png\", \"rb\") as f:\n",
    "    payload = f.read()\n",
    "\n",
    "## TODO: Process the payload with your predictor    \n",
    "inference = predictor.predict(payload)\n"
   ]
  },
  {
   "cell_type": "markdown",
   "metadata": {},
   "source": [
    "Your `inference` object is an array of two values, the predicted probability value for each of your classes (bicycle and motorcycle respectively.) So, for example, a value of `b'[0.91, 0.09]'` indicates the probability of being a bike is 91% and being a motorcycle is 9%."
   ]
  },
  {
   "cell_type": "code",
   "execution_count": 40,
   "metadata": {},
   "outputs": [
    {
     "name": "stdout",
     "output_type": "stream",
     "text": [
      "b'[0.996239423751831, 0.003760513849556446]'\n"
     ]
    }
   ],
   "source": [
    "print(inference)"
   ]
  },
  {
   "cell_type": "markdown",
   "metadata": {},
   "source": [
    "### Draft Lambdas and Step Function Workflow\n",
    "\n",
    "Your operations team uses Step Functions to orchestrate serverless workflows. One of the nice things about Step Functions is that [workflows can call other workflows](https://docs.aws.amazon.com/step-functions/latest/dg/connect-stepfunctions.html), so the team can easily plug your workflow into the broader production architecture for Scones Unlimited.\n",
    "\n",
    "In this next stage you're going to write and deploy three Lambda functions, and then use the Step Functions visual editor to chain them together! Our functions are going to work with a simple data object:\n",
    "\n",
    "```python\n",
    "{\n",
    "    \"inferences\": [], # Output of predictor.predict\n",
    "    \"s3_key\": \"\", # Source data S3 key\n",
    "    \"s3_bucket\": \"\", # Source data S3 bucket\n",
    "    \"image_data\": \"\"  # base64 encoded string containing the image data\n",
    "}\n",
    "```\n",
    "\n",
    "A good test object that you can use for Lambda tests and Step Function executions, throughout the next section, might look like this:\n",
    "\n",
    "```python\n",
    "{\n",
    "  \"image_data\": \"\",\n",
    "  \"s3_bucket\": \"scones-project-working\", # Fill in with your bucket\n",
    "  \"s3_key\": \"test/images/bicycle_s_000513.png\"\n",
    "}\n",
    "```\n",
    "\n",
    "Using these fields, your functions can read and write the necessary data to execute your workflow. Let's start with the first function. Your first Lambda function will copy an object from S3, base64 encode it, and then return it to the step function as `image_data` in an event.\n",
    "\n",
    "Go to the Lambda dashboard and create a new Lambda function with a descriptive name like \"serializeImageData\" and select thr 'Python 3.8' runtime. Add the same permissions as the SageMaker role you created earlier. (Reminder: you do this in the Configuration tab under \"Permissions\"). Once you're ready, use the starter code below to craft your Lambda handler:\n",
    "\n",
    "```python\n",
    "import json\n",
    "import boto3\n",
    "import base64\n",
    "\n",
    "s3 = boto3.client('s3')\n",
    "\n",
    "def lambda_handler(event, context):\n",
    "    \"\"\"A function to serialize target data from S3\"\"\"\n",
    "    \n",
    "    # Get the s3 address from the Step Function event input\n",
    "    bucket = event['bucket_s3']## TODO: fill in\n",
    "    key = event['key_s3']## TODO: fill in\n",
    "    \n",
    "    # Download the data from s3 to /tmp/image.png\n",
    "    ## TODO: fill in\n",
    "    s3.download_file(bucket, key, '/tmp/image.png')\n",
    "    \n",
    "    # We read the data from a file\n",
    "    with open(\"/tmp/image.png\", \"rb\") as f:\n",
    "        image_data = base64.b64encode(f.read())\n",
    "\n",
    "    # Pass the data back to the Step Function\n",
    "    print(\"Event:\", event.keys())\n",
    "    return {\n",
    "        'statusCode': 200,\n",
    "        'body': {\n",
    "            \"image_data\": image_data,\n",
    "            \"s3_bucket\": bucket,\n",
    "            \"s3_key\": key,\n",
    "            \"inferences\": []\n",
    "        }\n",
    "    }\n",
    "```\n",
    "\n",
    "The next function is responsible for the classification part - we're going to take the image output from the previous function, decode it, and then pass inferences back to the the Step Function.\n",
    "\n",
    "Because this Lambda will have runtime dependencies (i.e. the SageMaker SDK) you'll need to package them in your function. *Key reading:* https://docs.aws.amazon.com/lambda/latest/dg/python-package-create.html#python-package-create-with-dependency\n",
    "\n",
    "Create a new Lambda function with the same rights and a descriptive name, then fill in the starter code below for your classifier Lambda.\n",
    "\n",
    "```python\n",
    "import json\n",
    "#import sagemaker\n",
    "import base64\n",
    "\n",
    "import boto3\n",
    "client = boto3.client('sagemaker-runtime')\n",
    "\n",
    "\n",
    "# Fill this in with the name of your deployed model\n",
    "ENDPOINT = 'scone-endpoint' ## TODO: fill in\n",
    "\n",
    "def lambda_handler(event, context):\n",
    "\n",
    "    #    print(f' --------- INDICE --------- / {event.keys()}')\n",
    "    \n",
    "    # Decode the image data\n",
    "    image = base64.b64decode(event['image_data']) ## TODO: fill in\n",
    "\n",
    "\n",
    "    ###########             NOT USED           ##############\n",
    "    # Instantiate a Predictor ----> NOT USED\n",
    "    # predictor = Predictor(ENDPOINT) \n",
    "    #\n",
    "    # NEED A LINUX MACHINE OR A VM LINUX IN WINDOWS, OR CLOUD9+CLI TO PACKAGE SAGEMAKER  \n",
    "    # LOCALLY ( WITH \"LINUX DEPENDENCIES\") TO BE UPLOADED TO LAMBDA\n",
    "    #\n",
    "    # -->> better fastly use a solution found in forum : https://knowledge.udacity.com/questions/767689\n",
    "    # Use of 'runtime.sagemaker' client in boto3, imported natively, rather than importing sagemaker\n",
    "    \n",
    "    \n",
    "    # For this model the IdentitySerializer needs to be \"image/png\"\n",
    "    # predictor.serializer = IdentitySerializer(\"image/png\")\n",
    "\n",
    "\n",
    "\n",
    "    # Make a prediction:\n",
    "    #inferences = predictor.predict(event['s3_bucket'] + event['s3_key'])## TODO: fill in\n",
    "    ############################################################   \n",
    "    \n",
    "    # print(f'ENDPOINT: {ENDPOINT}')\n",
    "\n",
    "    response = client.invoke_endpoint( EndpointName = ENDPOINT, ContentType = 'image/png', Body=image)\n",
    "\n",
    "    # Make a prediction:\n",
    "    inferences = response['Body'].read()\n",
    "    \n",
    "    # We return the data back to the Step Function    \n",
    "    event['inferences'] = inferences.decode('utf-8')\n",
    "    \n",
    "    return {\n",
    "        'statusCode': 200,\n",
    "        'body': json.dumps(event)\n",
    "    }\n",
    "```\n",
    "\n",
    "Finally, we need to filter low-confidence inferences. Define a threshold between 1.00 and 0.000 for your model: what is reasonble for you? If the model predicts at `.70` for it's highest confidence label, do we want to pass that inference along to downstream systems? Make one last Lambda function and tee up the same permissions:\n",
    "\n",
    "```python\n",
    "import json\n",
    "\n",
    "\n",
    "THRESHOLD = .70\n",
    "\n",
    "\n",
    "def lambda_handler(event, context):\n",
    "    \n",
    "    print(event)\n",
    "    # Grab the inferences from the event\n",
    "    inferences = json.loads(event['body'])['inferences']     ## TODO: fill in\n",
    "    inferences = json.loads(inferences)\n",
    "    print(f'INFERENCES : {inferences}')\n",
    "    \n",
    "    # Check if any values in our inferences are above THRESHOLD\n",
    "    meets_threshold = max(inferences) >= THRESHOLD   ## TODO: fill in\n",
    "    \n",
    "    # If our threshold is met, pass our data back out of the\n",
    "    # Step Function, else, end the Step Function with an error\n",
    "    if meets_threshold:\n",
    "        print(\"THRESHOLD MET\")\n",
    "    else:\n",
    "        print(\"!!!!!!!     THRESHOLD NOT MET       !!!!!!\")\n",
    "        raise(\"THRESHOLD_CONFIDENCE_NOT_MET\")\n",
    "\n",
    "    return {\n",
    "        'statusCode': 200,\n",
    "        'body': json.dumps(event),\n",
    "        'meets_threshold' : meets_threshold\n",
    "    }\n",
    "```\n",
    "Once you have tested the lambda functions, save the code for each lambda function in a python script called 'lambda.py'.\n",
    "\n",
    "With your lambdas in place, you can use the Step Functions visual editor to construct a workflow that chains them together. In the Step Functions console you'll have the option to author a Standard step function *Visually*.\n",
    "\n",
    "When the visual editor opens, you'll have many options to add transitions in your workflow. We're going to keep it simple and have just one: to invoke Lambda functions. Add three of them chained together. For each one, you'll be able to select the Lambda functions you just created in the proper order, filter inputs and outputs, and give them descriptive names.\n",
    "\n",
    "Make sure that you:\n",
    "\n",
    "1. Are properly filtering the inputs and outputs of your invokations (e.g. `$.body`)\n",
    "2. Take care to remove the error handling from the last function - it's supposed to \"fail loudly\" for your operations colleagues!\n",
    "\n",
    "Take a screenshot of your working step function in action and export the step function as JSON for your submission package."
   ]
  },
  {
   "cell_type": "markdown",
   "metadata": {},
   "source": [
    "\n",
    "Great! Now you can use the files in `./test` as test files for our workflow. Depending on our threshold, our workflow should reliably pass predictions about images from `./test` on to downstream systems, while erroring out for inferences below our confidence threshold!\n",
    "\n",
    "### Testing and Evaluation\n",
    "\n",
    "Do several step function invokations using data from the `./test` folder. This process should give you confidence that the workflow both *succeeds* AND *fails* as expected. In addition, SageMaker Model Monitor will generate recordings of your data and inferences which we can visualize.\n",
    "\n",
    "Here's a function that can help you generate test inputs for your invokations:"
   ]
  },
  {
   "cell_type": "code",
   "execution_count": 41,
   "metadata": {},
   "outputs": [],
   "source": [
    "import boto3"
   ]
  },
  {
   "cell_type": "code",
   "execution_count": 42,
   "metadata": {},
   "outputs": [],
   "source": [
    "s3 = boto3.resource('s3')\n",
    "#s3.Bucket(bucket).objects.all()\n",
    "#for bucket in s3.Bucket(bucket).objects.limit(5):\n",
    "#    print(bucket.name)\n",
    "#print([obj_summary.key for obj_summary in  s3.Bucket(bucket).objects.all()])\n",
    "#s3.Bucket(bucket).objects.all()\n",
    "\n",
    "\n",
    "objects = s3.Bucket(bucket).objects.filter(prefix=\"test\")\n"
   ]
  },
  {
   "cell_type": "code",
   "execution_count": 43,
   "metadata": {},
   "outputs": [
    {
     "data": {
      "text/plain": [
       "'{\"image_data\": \"\", \"s3_bucket\": \"scones-project-working\", \"s3_key\": \"test/images/ordinary_bicycle_s_000437.png\"}'"
      ]
     },
     "execution_count": 43,
     "metadata": {},
     "output_type": "execute_result"
    }
   ],
   "source": [
    "import random\n",
    "\n",
    "import json\n",
    "\n",
    "\n",
    "def generate_test_case():\n",
    "    # Setup s3 in boto3\n",
    "    s3 = boto3.resource('s3')\n",
    "    \n",
    "    # Randomly pick from sfn or test folders in our bucket\n",
    "    objects = s3.Bucket(bucket).objects.filter(Prefix=\"test\")\n",
    "    \n",
    "    # Grab any random object key from that folder!\n",
    "    obj = random.choice([x.key for x in objects])\n",
    "    \n",
    "    return json.dumps({\n",
    "        \"image_data\": \"\",\n",
    "        \"s3_bucket\": bucket,\n",
    "        \"s3_key\": obj\n",
    "    })\n",
    "generate_test_case()"
   ]
  },
  {
   "cell_type": "markdown",
   "metadata": {},
   "source": [
    "In the Step Function dashboard for your new function, you can create new executions and copy in the generated test cases. Do several executions so that you can generate data you can evaluate and visualize.\n",
    "\n",
    "Once you've done several executions, let's visualize the record of our inferences. Pull in the JSONLines data from your inferences like so:"
   ]
  },
  {
   "cell_type": "code",
   "execution_count": 496,
   "metadata": {},
   "outputs": [],
   "source": [
    "from sagemaker.s3 import S3Downloader\n",
    "\n",
    "# In S3 your data will be saved to a datetime-aware path\n",
    "# Find a path related to a datetime you're interested in\n",
    "data_path = f\"s3://{bucket}/data_capture/\" ## TODO: fill in the path to your captured data\n",
    "\n",
    "S3Downloader.download(data_path, \"captured_data\")\n",
    "\n",
    "# Feel free to repeat this multiple times and pull in more data"
   ]
  },
  {
   "cell_type": "markdown",
   "metadata": {},
   "source": [
    "The data are in JSONLines format, where multiple valid JSON objects are stacked on top of eachother in a single `jsonl` file. We'll import an open-source library, `jsonlines` that was purpose built for parsing this format."
   ]
  },
  {
   "cell_type": "code",
   "execution_count": 503,
   "metadata": {},
   "outputs": [
    {
     "name": "stdout",
     "output_type": "stream",
     "text": [
      "Requirement already satisfied: jsonlines in /home/ec2-user/anaconda3/envs/amazonei_tensorflow2_p36/lib/python3.6/site-packages (3.0.0)\n",
      "Requirement already satisfied: attrs>=19.2.0 in /home/ec2-user/anaconda3/envs/amazonei_tensorflow2_p36/lib/python3.6/site-packages (from jsonlines) (20.3.0)\n",
      "Requirement already satisfied: typing-extensions in /home/ec2-user/anaconda3/envs/amazonei_tensorflow2_p36/lib/python3.6/site-packages (from jsonlines) (4.0.1)\n"
     ]
    }
   ],
   "source": [
    "!pip install jsonlines\n",
    "import jsonlines, json"
   ]
  },
  {
   "cell_type": "markdown",
   "metadata": {},
   "source": [
    "Now we can extract the data from each of the source files:"
   ]
  },
  {
   "cell_type": "code",
   "execution_count": 504,
   "metadata": {},
   "outputs": [
    {
     "name": "stdout",
     "output_type": "stream",
     "text": [
      "['image-classification-2022-01-28-17-03-08-130', 'image-classification-2022-01-28-12-39-47-808']\n"
     ]
    }
   ],
   "source": [
    "import os\n",
    "\n",
    "file_handles = os.listdir(\"./captured_data\")\n",
    "print(file_handles)"
   ]
  },
  {
   "cell_type": "code",
   "execution_count": 505,
   "metadata": {},
   "outputs": [
    {
     "name": "stdout",
     "output_type": "stream",
     "text": [
      "./captured_data/image-classification-2022-01-28-17-03-08-130/AllTraffic/2022/01/28/18/06-48-340-f0c77ad4-3439-4d73-ae0f-a08793978eab.jsonl\n",
      "./captured_data/image-classification-2022-01-28-17-03-08-130/AllTraffic/2022/01/28/18/05-23-054-2ad52e11-3c9d-4ef7-b9e0-b6f1d9d429c3.jsonl\n",
      "./captured_data/image-classification-2022-01-28-17-03-08-130/AllTraffic/2022/01/28/17/30-10-812-640490b1-b349-4e10-b108-15d7064eb5e7.jsonl\n",
      "./captured_data/image-classification-2022-01-28-17-03-08-130/AllTraffic/2022/01/28/17/19-01-316-beebe817-26ae-402d-b6da-3a0ceea48fae.jsonl\n",
      "./captured_data/image-classification-2022-01-28-17-03-08-130/AllTraffic/2022/01/28/17/21-13-855-7117de26-aff3-4ccf-a4b0-ef64c518d794.jsonl\n",
      "./captured_data/image-classification-2022-01-28-17-03-08-130/AllTraffic/2022/01/28/17/59-19-883-a5027846-a8e6-4646-8b56-9b5dc6b45f29.jsonl\n",
      "./captured_data/image-classification-2022-01-28-17-03-08-130/AllTraffic/2022/01/28/17/20-04-940-97f5592b-f1f2-4a45-b5ab-d07739d5e145.jsonl\n",
      "./captured_data/image-classification-2022-01-28-17-03-08-130/AllTraffic/2022/01/28/17/22-53-091-1d5bd829-3c03-4e4d-8631-60220a8ff79c.jsonl\n",
      "./captured_data/image-classification-2022-01-28-17-03-08-130/AllTraffic/2022/01/28/17/35-07-524-9e5b26cb-6d59-4051-b7ae-71c712f2fb2b.jsonl\n",
      "./captured_data/image-classification-2022-01-28-17-03-08-130/AllTraffic/2022/01/28/17/31-22-111-ce4c0eae-4e80-4cb4-aacb-966a274ea396.jsonl\n",
      "./captured_data/image-classification-2022-01-28-17-03-08-130/AllTraffic/2022/01/28/17/24-06-589-9d664523-868a-46e9-a080-b899c8156b47.jsonl\n",
      "./captured_data/image-classification-2022-01-28-17-03-08-130/AllTraffic/2022/01/28/17/57-43-081-521260d4-bf8e-4c22-a021-bd65875d81c9.jsonl\n",
      "./captured_data/image-classification-2022-01-28-17-03-08-130/AllTraffic/2022/01/28/17/33-38-802-05f56aa3-653b-465f-a4e3-350119a214f3.jsonl\n",
      "./captured_data/image-classification-2022-01-28-17-03-08-130/AllTraffic/2022/01/28/17/28-53-226-35dd6202-afd9-44d6-9219-11686be18f01.jsonl\n",
      "./captured_data/image-classification-2022-01-28-17-03-08-130/AllTraffic/2022/01/28/17/55-39-445-cb47ffdb-90d9-4183-a74e-fb0a655f1320.jsonl\n",
      "./captured_data/image-classification-2022-01-28-17-03-08-130/AllTraffic/2022/01/28/17/11-08-263-07aec915-6310-4d75-b910-ec7ac65ff77d.jsonl\n",
      "./captured_data/image-classification-2022-01-28-17-03-08-130/AllTraffic/2022/01/28/17/27-33-010-bec7796b-4165-4c1f-a988-50dfc90369ad.jsonl\n",
      "./captured_data/image-classification-2022-01-28-17-03-08-130/AllTraffic/2022/01/28/17/37-18-257-1a8f978d-3f95-413b-9628-0d712bf504d9.jsonl\n",
      "./captured_data/image-classification-2022-01-28-12-39-47-808/AllTraffic/2022/01/28/14/52-16-732-961801b0-49e6-42f1-9bb0-3e42285f0ead.jsonl\n",
      "./captured_data/image-classification-2022-01-28-12-39-47-808/AllTraffic/2022/01/28/14/50-04-636-f25d6b3a-3cf8-4bcc-96f2-90803d2e0e8f.jsonl\n",
      "./captured_data/image-classification-2022-01-28-12-39-47-808/AllTraffic/2022/01/28/14/54-26-010-beff7993-efe4-414a-b7df-95d6e7a640fb.jsonl\n",
      "./captured_data/image-classification-2022-01-28-12-39-47-808/AllTraffic/2022/01/28/14/42-31-314-5f066a9f-2917-4115-8521-cde1492d9126.jsonl\n"
     ]
    }
   ],
   "source": [
    "import os\n",
    "\n",
    "json_data = []\n",
    "# List the file names we downloaded\n",
    "for root, dirs, files in os.walk(\"./captured_data\", topdown=False):\n",
    "    for name in files:\n",
    "        with jsonlines.open(os.path.join(root, name)) as f:\n",
    "            json_data.append(f.read())\n",
    "        \n",
    "        print(os.path.join(root, name))\n",
    "\n",
    "#json_data"
   ]
  },
  {
   "cell_type": "code",
   "execution_count": 49,
   "metadata": {},
   "outputs": [
    {
     "data": {
      "text/plain": [
       "'\\nimport os\\n\\n# List the file names we downloaded\\nfile_handles = os.listdir(\"./captured_data\")\\n\\n# Dump all the data into an array\\njson_data = []\\nfor jsonl in file_handles:\\n    with jsonlines.open(f\"./captured_data/{jsonl}\") as f:\\n        json_data.append(f.read())\\n'"
      ]
     },
     "execution_count": 49,
     "metadata": {},
     "output_type": "execute_result"
    }
   ],
   "source": [
    "###  NOT USED  ###\n",
    "### os.listdir gives directories back, not all filenames in directories and subdirectories.\n",
    "### os.walk has been prefered in the cell above\n",
    "\n",
    "'''\n",
    "import os\n",
    "\n",
    "# List the file names we downloaded\n",
    "file_handles = os.listdir(\"./captured_data\")\n",
    "\n",
    "# Dump all the data into an array\n",
    "json_data = []\n",
    "for jsonl in file_handles:\n",
    "    with jsonlines.open(f\"./captured_data/{jsonl}\") as f:\n",
    "        json_data.append(f.read())\n",
    "'''\n"
   ]
  },
  {
   "cell_type": "markdown",
   "metadata": {},
   "source": [
    "The data should now be a list of dictionaries, with significant nesting. We'll give you an example of some code that grabs data out of the objects and visualizes it:"
   ]
  },
  {
   "cell_type": "code",
   "execution_count": 506,
   "metadata": {},
   "outputs": [
    {
     "data": {
      "text/plain": [
       "22"
      ]
     },
     "execution_count": 506,
     "metadata": {},
     "output_type": "execute_result"
    }
   ],
   "source": [
    "len(json_data)"
   ]
  },
  {
   "cell_type": "code",
   "execution_count": 507,
   "metadata": {},
   "outputs": [
    {
     "data": {
      "text/plain": [
       "{'captureData': {'endpointInput': {'observedContentType': 'image/png',\n",
       "   'mode': 'INPUT',\n",
       "   'data': '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',\n",
       "   'encoding': 'BASE64'},\n",
       "  'endpointOutput': {'observedContentType': 'application/json',\n",
       "   'mode': 'OUTPUT',\n",
       "   'data': '[3.819928679149598e-06, 0.9999961853027344]',\n",
       "   'encoding': 'JSON'}},\n",
       " 'eventMetadata': {'eventId': 'c1c446d4-4d3a-4037-8873-b7532c804cd7',\n",
       "  'customAttributes': ['toto-tata-tutu'],\n",
       "  'inferenceTime': '2022-01-28T18:06:48Z'},\n",
       " 'eventVersion': '0'}"
      ]
     },
     "execution_count": 507,
     "metadata": {},
     "output_type": "execute_result"
    }
   ],
   "source": [
    "json_data[0]"
   ]
  },
  {
   "cell_type": "code",
   "execution_count": 508,
   "metadata": {},
   "outputs": [
    {
     "data": {
      "text/plain": [
       "([3.819928679149598e-06, 0.9999961853027344], '2022-01-28T18:06:48Z')"
      ]
     },
     "execution_count": 508,
     "metadata": {},
     "output_type": "execute_result"
    }
   ],
   "source": [
    "# Define how we'll get our data\n",
    "def simple_getter(obj):\n",
    "    inferences = obj[\"captureData\"][\"endpointOutput\"][\"data\"]\n",
    "    timestamp = obj[\"eventMetadata\"][\"inferenceTime\"]\n",
    "    return json.loads(inferences), timestamp\n",
    "\n",
    "simple_getter(json_data[0])"
   ]
  },
  {
   "cell_type": "markdown",
   "metadata": {},
   "source": [
    "Finally, here's an example of a visualization you can build with this data. In this last part, you will take some time and build your own - the captured data has the input images, the resulting inferences, and the timestamps."
   ]
  },
  {
   "cell_type": "code",
   "execution_count": 509,
   "metadata": {},
   "outputs": [
    {
     "data": {
      "text/plain": [
       "[([3.819928679149598e-06, 0.9999961853027344], '2022-01-28T18:06:48Z'),\n",
       " ([0.00010154274787055328, 0.9998984336853027], '2022-01-28T18:05:23Z'),\n",
       " ([0.9678705930709839, 0.032129447907209396], '2022-01-28T17:30:10Z'),\n",
       " ([0.006573391612619162, 0.9934266805648804], '2022-01-28T17:19:01Z'),\n",
       " ([0.9990697503089905, 0.0009303303668275476], '2022-01-28T17:21:13Z'),\n",
       " ([0.00010284249583492056, 0.9998971223831177], '2022-01-28T17:59:19Z'),\n",
       " ([0.006573391612619162, 0.9934266805648804], '2022-01-28T17:20:04Z'),\n",
       " ([0.9097128510475159, 0.09028710424900055], '2022-01-28T17:22:53Z'),\n",
       " ([0.004430541768670082, 0.9955695271492004], '2022-01-28T17:35:07Z'),\n",
       " ([0.32873621582984924, 0.6712637543678284], '2022-01-28T17:31:22Z'),\n",
       " ([0.9982728958129883, 0.0017270606476813555], '2022-01-28T17:24:06Z'),\n",
       " ([0.5863885283470154, 0.413611501455307], '2022-01-28T17:57:43Z'),\n",
       " ([0.9993062019348145, 0.0006937726866453886], '2022-01-28T17:33:38Z'),\n",
       " ([0.09099278599023819, 0.9090072512626648], '2022-01-28T17:28:53Z'),\n",
       " ([0.9991948008537292, 0.0008052230696193874], '2022-01-28T17:55:39Z'),\n",
       " ([0.996239423751831, 0.003760513849556446], '2022-01-28T17:11:08Z'),\n",
       " ([0.26443377137184143, 0.735566258430481], '2022-01-28T17:27:33Z'),\n",
       " ([0.009191184304654598, 0.9908088445663452], '2022-01-28T17:37:18Z'),\n",
       " ([0.5685917735099792, 0.43140825629234314], '2022-01-28T14:52:16Z'),\n",
       " ([0.9938777089118958, 0.00612227339297533], '2022-01-28T14:50:04Z'),\n",
       " ([0.00022004105267114937, 0.999779999256134], '2022-01-28T14:54:26Z'),\n",
       " ([0.9938777089118958, 0.00612227339297533], '2022-01-28T14:42:31Z')]"
      ]
     },
     "execution_count": 509,
     "metadata": {},
     "output_type": "execute_result"
    }
   ],
   "source": [
    "[simple_getter(element) for element in json_data]"
   ]
  },
  {
   "cell_type": "code",
   "execution_count": 510,
   "metadata": {},
   "outputs": [
    {
     "data": {
      "text/plain": [
       "[[3.819928679149598e-06, 0.9999961853027344],\n",
       " [0.00010154274787055328, 0.9998984336853027],\n",
       " [0.9678705930709839, 0.032129447907209396],\n",
       " [0.006573391612619162, 0.9934266805648804],\n",
       " [0.9990697503089905, 0.0009303303668275476],\n",
       " [0.00010284249583492056, 0.9998971223831177],\n",
       " [0.006573391612619162, 0.9934266805648804],\n",
       " [0.9097128510475159, 0.09028710424900055],\n",
       " [0.004430541768670082, 0.9955695271492004],\n",
       " [0.32873621582984924, 0.6712637543678284],\n",
       " [0.9982728958129883, 0.0017270606476813555],\n",
       " [0.5863885283470154, 0.413611501455307],\n",
       " [0.9993062019348145, 0.0006937726866453886],\n",
       " [0.09099278599023819, 0.9090072512626648],\n",
       " [0.9991948008537292, 0.0008052230696193874],\n",
       " [0.996239423751831, 0.003760513849556446],\n",
       " [0.26443377137184143, 0.735566258430481],\n",
       " [0.009191184304654598, 0.9908088445663452],\n",
       " [0.5685917735099792, 0.43140825629234314],\n",
       " [0.9938777089118958, 0.00612227339297533],\n",
       " [0.00022004105267114937, 0.999779999256134],\n",
       " [0.9938777089118958, 0.00612227339297533]]"
      ]
     },
     "execution_count": 510,
     "metadata": {},
     "output_type": "execute_result"
    }
   ],
   "source": [
    "probabilities = [simple_getter(element)[0:1][0] for element in json_data]\n",
    "probabilities "
   ]
  },
  {
   "cell_type": "code",
   "execution_count": 511,
   "metadata": {},
   "outputs": [
    {
     "name": "stdout",
     "output_type": "stream",
     "text": [
      "[3.819928679149598e-06, 0.9999961853027344]\n",
      "[0.00010154274787055328, 0.9998984336853027]\n",
      "[0.9678705930709839, 0.032129447907209396]\n",
      "[0.006573391612619162, 0.9934266805648804]\n",
      "[0.9990697503089905, 0.0009303303668275476]\n",
      "[0.00010284249583492056, 0.9998971223831177]\n",
      "[0.006573391612619162, 0.9934266805648804]\n",
      "[0.9097128510475159, 0.09028710424900055]\n",
      "[0.004430541768670082, 0.9955695271492004]\n",
      "[0.32873621582984924, 0.6712637543678284]\n",
      "[0.9982728958129883, 0.0017270606476813555]\n",
      "[0.5863885283470154, 0.413611501455307]\n",
      "[0.9993062019348145, 0.0006937726866453886]\n",
      "[0.09099278599023819, 0.9090072512626648]\n",
      "[0.9991948008537292, 0.0008052230696193874]\n",
      "[0.996239423751831, 0.003760513849556446]\n",
      "[0.26443377137184143, 0.735566258430481]\n",
      "[0.009191184304654598, 0.9908088445663452]\n",
      "[0.5685917735099792, 0.43140825629234314]\n",
      "[0.9938777089118958, 0.00612227339297533]\n",
      "[0.00022004105267114937, 0.999779999256134]\n",
      "[0.9938777089118958, 0.00612227339297533]\n"
     ]
    }
   ],
   "source": [
    "for probability in probabilities:\n",
    "    print(probability)"
   ]
  },
  {
   "cell_type": "code",
   "execution_count": 512,
   "metadata": {},
   "outputs": [
    {
     "data": {
      "text/plain": [
       "('bikes',\n",
       " [0.9678705930709839,\n",
       "  0.9990697503089905,\n",
       "  0.9097128510475159,\n",
       "  0.9982728958129883,\n",
       "  0.5863885283470154,\n",
       "  0.9993062019348145,\n",
       "  0.9991948008537292,\n",
       "  0.996239423751831,\n",
       "  0.5685917735099792,\n",
       "  0.9938777089118958,\n",
       "  0.9938777089118958],\n",
       " 'motorbikes',\n",
       " [0.9999961853027344,\n",
       "  0.9998984336853027,\n",
       "  0.9934266805648804,\n",
       "  0.9998971223831177,\n",
       "  0.9934266805648804,\n",
       "  0.9955695271492004,\n",
       "  0.6712637543678284,\n",
       "  0.9090072512626648,\n",
       "  0.735566258430481,\n",
       "  0.9908088445663452,\n",
       "  0.999779999256134])"
      ]
     },
     "execution_count": 512,
     "metadata": {},
     "output_type": "execute_result"
    }
   ],
   "source": [
    "bikes = []\n",
    "motorbikes = []\n",
    "\n",
    "for probability in probabilities:\n",
    "    if (probability[0]>probability[1]):\n",
    "        bikes.append(probability[0])\n",
    "    else:\n",
    "        motorbikes.append(probability[1])\n",
    "\"bikes\", bikes, \"motorbikes\", motorbikes"
   ]
  },
  {
   "cell_type": "code",
   "execution_count": 522,
   "metadata": {},
   "outputs": [
    {
     "data": {
      "image/png": "[encoded data removed]",
      "text/plain": [
       "<Figure size 864x432 with 2 Axes>"
      ]
     },
     "metadata": {
      "needs_background": "light"
     },
     "output_type": "display_data"
    }
   ],
   "source": [
    "'''\n",
    "\n",
    "fig = plt.figure()\n",
    "ax1 = fig.add_subplot(121)\n",
    "df1.plot.bar(stacked=True,ax=ax1)\n",
    "ax2 = fig.add_subplot(122)\n",
    "ax2.plot(df2['avg_hour'])\n",
    "#ax3 = ax2.twinx()\n",
    "#ax3.bar(left=range(2009,2016),height=df2['usage'])\n",
    "\n",
    "plt.show()\n",
    "'''\n",
    "figure, axis = plt.subplots(1, 2)\n",
    "figure.set_figheight(6)\n",
    "figure.set_figwidth(12)\n",
    "\n",
    "axis[0].boxplot(bikes)\n",
    "axis[0].set_title(\"Distribution of bikes probabilities\")\n",
    "axis[1].boxplot(motorbikes)\n",
    "axis[1].set_title(\"Distribution of motorbikes probabilities\")\n",
    "plt.show();"
   ]
  },
  {
   "cell_type": "code",
   "execution_count": 523,
   "metadata": {},
   "outputs": [],
   "source": [
    "#plt.boxplot(bikes);"
   ]
  },
  {
   "cell_type": "code",
   "execution_count": 525,
   "metadata": {},
   "outputs": [],
   "source": [
    "#plt.boxplot(motorbikes);"
   ]
  },
  {
   "cell_type": "code",
   "execution_count": 527,
   "metadata": {},
   "outputs": [],
   "source": [
    "#plt.hist(bikes);\n",
    "#plt.hist(motorbikes);"
   ]
  },
  {
   "cell_type": "code",
   "execution_count": 528,
   "metadata": {},
   "outputs": [
    {
     "data": {
      "image/png": "[encoded data removed]",
      "text/plain": [
       "<Figure size 864x432 with 2 Axes>"
      ]
     },
     "metadata": {
      "needs_background": "light"
     },
     "output_type": "display_data"
    }
   ],
   "source": [
    "figure, axis = plt.subplots(1, 2)\n",
    "figure.set_figheight(6)\n",
    "figure.set_figwidth(12)\n",
    "\n",
    "axis[0].hist(bikes)\n",
    "axis[0].set_title(\"Distribution of bikes probabilities\")\n",
    "axis[1].hist(motorbikes)\n",
    "axis[1].set_title(\"Distribution of motorbikes probabilities\")\n",
    "plt.show();"
   ]
  },
  {
   "cell_type": "code",
   "execution_count": 529,
   "metadata": {},
   "outputs": [
    {
     "data": {
      "image/png": "[encoded data removed]",
      "text/plain": [
       "<Figure size 432x288 with 1 Axes>"
      ]
     },
     "metadata": {
      "needs_background": "light"
     },
     "output_type": "display_data"
    }
   ],
   "source": [
    "import matplotlib.pyplot as plt\n",
    "# Populate the data for the x and y axis\n",
    "x = []\n",
    "y = []\n",
    "for obj in json_data:\n",
    "    inference, timestamp = simple_getter(obj)\n",
    "    \n",
    "    y.append(max(inference))\n",
    "    x.append(timestamp)\n",
    "\n",
    "# Todo: here is an visualization example, take some time to build another visual that helps monitor the result\n",
    "# Plot the data\n",
    "plt.scatter(x, y, c=['r' if k<.70 else 'b' for k in y ])\n",
    "plt.axhline(y=0.70, color='g', linestyle='--')\n",
    "plt.ylim(bottom=.50)\n",
    "\n",
    "# Add labels\n",
    "plt.ylabel(\"Confidence\")\n",
    "plt.suptitle(\"Observed Recent Inferences\", size=14)\n",
    "plt.title(\"Pictured with confidence threshold for production use\", size=10)\n",
    "\n",
    "# Give it some pizzaz!\n",
    "plt.style.use(\"Solarize_Light2\")\n",
    "plt.gcf().autofmt_xdate()"
   ]
  },
  {
   "cell_type": "markdown",
   "metadata": {},
   "source": [
    "### Todo: build your own visualization\n"
   ]
  },
  {
   "cell_type": "markdown",
   "metadata": {},
   "source": [
    "### Congratulations!\n",
    "\n",
    "You've reached the end of the project. In this project you created an event-drivent ML workflow that can be incorporated into the Scones Unlimited production architecture. You used the SageMaker Estimator API to deploy your SageMaker Model and Endpoint, and you used AWS Lambda and Step Functions to orchestrate your ML workflow. Using SageMaker Model Monitor, you instrumented and observed your Endpoint, and at the end of the project you built a visualization to help stakeholders understand the performance of the Endpoint over time. If you're up for it, you can even go further with these stretch goals:\n",
    "\n",
    "* Extend your workflow to incorporate more classes: the CIFAR dataset includes other vehicles that Scones Unlimited can identify with this model.\n",
    "* Modify your event driven workflow: can you rewrite your Lambda functions so that the workflow can process multiple image inputs in parallel? Can the Step Function \"fan out\" to accomodate this new workflow?\n",
    "* Consider the test data generator we provided for you. Can we use it to create a \"dummy data\" generator, to simulate a continuous stream of input data? Or a big paralell load of data?\n",
    "* What if we want to get notified every time our step function errors out? Can we use the Step Functions visual editor in conjunction with a service like SNS to accomplish this? Try it out!\n",
    "\n",
    "\n"
   ]
  },
  {
   "cell_type": "markdown",
   "metadata": {},
   "source": [
    "### Point 1 : Extend your workflow to incorporate more classes: the CIFAR dataset includes other vehicles that Scones Unlimited can identify with this model.\n",
    "* Extend your workflow to incorporate more classes: the CIFAR dataset includes other vehicles that Scones Unlimited can identify with this model."
   ]
  },
  {
   "cell_type": "code",
   "execution_count": 2,
   "metadata": {},
   "outputs": [],
   "source": [
    "import pickle\n",
    "\n",
    "with open(\"./cifar-100-python/meta\", \"rb\") as f:\n",
    "    dataset_meta = pickle.load(f, encoding='bytes')\n",
    "\n",
    "with open(\"./cifar-100-python/test\", \"rb\") as f:\n",
    "    dataset_test = pickle.load(f, encoding='bytes')\n",
    "\n",
    "with open(\"./cifar-100-python/train\", \"rb\") as f:\n",
    "    dataset_train = pickle.load(f, encoding='bytes')"
   ]
  },
  {
   "cell_type": "code",
   "execution_count": 3,
   "metadata": {},
   "outputs": [
    {
     "ename": "AttributeError",
     "evalue": "'list' object has no attribute 'unique'",
     "output_type": "error",
     "traceback": [
      "\u001b[0;31m---------------------------------------------------------------------------\u001b[0m",
      "\u001b[0;31mAttributeError\u001b[0m                            Traceback (most recent call last)",
      "\u001b[0;32m<ipython-input-3-44d17fef966d>\u001b[0m in \u001b[0;36m<module>\u001b[0;34m\u001b[0m\n\u001b[1;32m      1\u001b[0m \u001b[0;31m#print(dataset_meta[b'fine_label_names'][dataset_train[b'fine_labels'][n]])\u001b[0m\u001b[0;34m\u001b[0m\u001b[0;34m\u001b[0m\u001b[0;34m\u001b[0m\u001b[0m\n\u001b[0;32m----> 2\u001b[0;31m \u001b[0mdataset_train\u001b[0m\u001b[0;34m[\u001b[0m\u001b[0;34mb'fine_labels'\u001b[0m\u001b[0;34m]\u001b[0m\u001b[0;34m.\u001b[0m\u001b[0munique\u001b[0m\u001b[0;34m(\u001b[0m\u001b[0;34m)\u001b[0m\u001b[0;34m\u001b[0m\u001b[0;34m\u001b[0m\u001b[0m\n\u001b[0m",
      "\u001b[0;31mAttributeError\u001b[0m: 'list' object has no attribute 'unique'"
     ]
    }
   ],
   "source": [
    "#print(dataset_meta[b'fine_label_names'][dataset_train[b'fine_labels'][n]])\n",
    "pd.DataFrame(dataset_train[b'fine_labels'])"
   ]
  },
  {
   "cell_type": "markdown",
   "metadata": {},
   "source": [
    "### Point 4 : What if we want to get notified every time our step function errors out? Can we use the Step Functions visual editor in conjunction with a service like SNS to accomplish this? Try it out! \n",
    "In the tab \"error handling\" of the workflow studio, for my third function, there is a trigger for a sns topic (topic+subscription created). I received an email, but in the spam folder : maybe a better presentation would be great (tranformation of the base64 data into an image and extraction of the filename and the predictions in the formatted text of the email). Also the trigger is for \"States.ALL\", maybe too generic."
   ]
  },
  {
   "cell_type": "code",
   "execution_count": 88,
   "metadata": {},
   "outputs": [
    {
     "data": {
      "image/jpeg": "[encoded data removed]",
      "text/plain": [
       "<IPython.core.display.Image object>"
      ]
     },
     "execution_count": 88,
     "metadata": {},
     "output_type": "execute_result"
    }
   ],
   "source": [
    "from IPython import display\n",
    "display.Image(\"Image_Workflow_with_catching_Error.jpg\")"
   ]
  },
  {
   "cell_type": "code",
   "execution_count": null,
   "metadata": {},
   "outputs": [],
   "source": []
  }
 ],
 "metadata": {
  "instance_type": "ml.t3.medium",
  "kernelspec": {
   "display_name": "conda_amazonei_tensorflow2_p36",
   "language": "python",
   "name": "conda_amazonei_tensorflow2_p36"
  },
  "language_info": {
   "codemirror_mode": {
    "name": "ipython",
    "version": 3
   },
   "file_extension": ".py",
   "mimetype": "text/x-python",
   "name": "python",
   "nbconvert_exporter": "python",
   "pygments_lexer": "ipython3",
   "version": "3.6.13"
  }
 },
 "nbformat": 4,
 "nbformat_minor": 4
}
